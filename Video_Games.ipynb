{
 "cells": [
  {
   "cell_type": "code",
   "execution_count": 1,
   "metadata": {},
   "outputs": [
    {
     "name": "stderr",
     "output_type": "stream",
     "text": [
      "[nltk_data] Downloading package stopwords to\n",
      "[nltk_data]     C:\\Users\\15726\\AppData\\Roaming\\nltk_data...\n",
      "[nltk_data]   Package stopwords is already up-to-date!\n",
      "c:\\Users\\15726\\anaconda3\\envs\\ds-1\\lib\\site-packages\\gensim\\utils.py:1197: UserWarning: detected Windows; aliasing chunkize to chunkize_serial\n",
      "  warnings.warn(\"detected Windows; aliasing chunkize to chunkize_serial\")\n"
     ]
    }
   ],
   "source": [
    "\n",
    "import re\n",
    "import seaborn as sbn\n",
    "import nltk\n",
    "import tqdm as tqdm\n",
    "import sqlite3\n",
    "import pandas as pd\n",
    "import numpy as np\n",
    "\n",
    "import string\n",
    "from nltk.corpus import stopwords\n",
    "nltk.download('stopwords')\n",
    "stop = stopwords.words(\"english\")\n",
    "import matplotlib.pyplot as plt\n",
    "\n",
    "from sklearn.metrics import accuracy_score\n",
    "from sklearn.metrics import confusion_matrix\n",
    "from math import floor,ceil\n",
    "from nltk.stem.porter import PorterStemmer\n",
    "english_stemmer=nltk.stem.SnowballStemmer('english')\n",
    "\n",
    "from sklearn.feature_extraction.text import TfidfTransformer\n",
    "from sklearn.feature_extraction.text import CountVectorizer\n",
    "from sklearn.model_selection import train_test_split\n",
    "from sklearn.metrics import confusion_matrix\n",
    "from sklearn import metrics\n",
    "from sklearn.metrics import roc_curve, auc\n",
    "from sklearn.svm import LinearSVC\n",
    "from keras.models import Sequential\n",
    "from keras.layers import LSTM, Dense, Embedding\n",
    "from gensim import summarization\n",
    "from nltk.tokenize import word_tokenize\n",
    "from sklearn.feature_extraction.text import TfidfVectorizer\n",
    "from sklearn.model_selection import train_test_split\n",
    "\n",
    "\n"
   ]
  },
  {
   "cell_type": "code",
   "execution_count": 2,
   "metadata": {
    "collapsed": true
   },
   "outputs": [],
   "source": [
    "review_data_or = pd.read_json('Video_Games_5.json',lines=True)"
   ]
  },
  {
   "cell_type": "code",
   "execution_count": 3,
   "metadata": {},
   "outputs": [
    {
     "data": {
      "text/plain": [
       "Index(['reviewerID', 'asin', 'reviewerName', 'helpful', 'reviewText',\n",
       "       'overall', 'summary', 'unixReviewTime', 'reviewTime'],\n",
       "      dtype='object')"
      ]
     },
     "execution_count": 3,
     "metadata": {},
     "output_type": "execute_result"
    }
   ],
   "source": [
    "review_data_or.columns"
   ]
  },
  {
   "cell_type": "code",
   "execution_count": 4,
   "metadata": {},
   "outputs": [
    {
     "name": "stdout",
     "output_type": "stream",
     "text": [
      "<class 'pandas.core.frame.DataFrame'>\n",
      "RangeIndex: 231780 entries, 0 to 231779\n",
      "Data columns (total 9 columns):\n",
      " #   Column          Non-Null Count   Dtype \n",
      "---  ------          --------------   ----- \n",
      " 0   reviewerID      231780 non-null  object\n",
      " 1   asin            231780 non-null  object\n",
      " 2   reviewerName    228967 non-null  object\n",
      " 3   helpful         231780 non-null  object\n",
      " 4   reviewText      231780 non-null  object\n",
      " 5   overall         231780 non-null  int64 \n",
      " 6   summary         231780 non-null  object\n",
      " 7   unixReviewTime  231780 non-null  int64 \n",
      " 8   reviewTime      231780 non-null  object\n",
      "dtypes: int64(2), object(7)\n",
      "memory usage: 15.9+ MB\n"
     ]
    }
   ],
   "source": [
    "review_data_or.info()\n"
   ]
  },
  {
   "cell_type": "code",
   "execution_count": 5,
   "metadata": {
    "collapsed": true
   },
   "outputs": [],
   "source": [
    "review_data=review_data_or.drop(['reviewerID','asin','reviewerName','summary'],axis=1)\n"
   ]
  },
  {
   "cell_type": "code",
   "execution_count": 6,
   "metadata": {},
   "outputs": [],
   "source": [
    "from datetime import datetime\n",
    "current_date = datetime.now()\n",
    "# Define a function to calculate the time difference in days\n",
    "def calculate_time_difference(review_time):\n",
    "    return (current_date - datetime.strptime(review_time, \"%m %d, %Y\")).days\n",
    "\n",
    "# Apply the function to the 'reviewTime' column and replace it\n",
    "review_data['Review_Interval_Days'] = review_data['reviewTime'].apply(calculate_time_difference)\n",
    "review_data = review_data.drop(['reviewTime'],axis=1)\n"
   ]
  },
  {
   "cell_type": "code",
   "execution_count": 7,
   "metadata": {},
   "outputs": [],
   "source": [
    "review_data['reviewText'] = review_data['reviewText'].astype('string')\n"
   ]
  },
  {
   "cell_type": "code",
   "execution_count": 8,
   "metadata": {},
   "outputs": [
    {
     "data": {
      "text/html": [
       "<div>\n",
       "<style scoped>\n",
       "    .dataframe tbody tr th:only-of-type {\n",
       "        vertical-align: middle;\n",
       "    }\n",
       "\n",
       "    .dataframe tbody tr th {\n",
       "        vertical-align: top;\n",
       "    }\n",
       "\n",
       "    .dataframe thead th {\n",
       "        text-align: right;\n",
       "    }\n",
       "</style>\n",
       "<table border=\"1\" class=\"dataframe\">\n",
       "  <thead>\n",
       "    <tr style=\"text-align: right;\">\n",
       "      <th></th>\n",
       "      <th>helpful</th>\n",
       "      <th>reviewText</th>\n",
       "      <th>overall</th>\n",
       "      <th>unixReviewTime</th>\n",
       "      <th>Review_Interval_Days</th>\n",
       "    </tr>\n",
       "  </thead>\n",
       "  <tbody>\n",
       "    <tr>\n",
       "      <th>0</th>\n",
       "      <td>[8, 12]</td>\n",
       "      <td>Installing the game was a struggle (because of...</td>\n",
       "      <td>1</td>\n",
       "      <td>1341792000</td>\n",
       "      <td>4121</td>\n",
       "    </tr>\n",
       "    <tr>\n",
       "      <th>1</th>\n",
       "      <td>[0, 0]</td>\n",
       "      <td>If you like rally cars get this game you will ...</td>\n",
       "      <td>4</td>\n",
       "      <td>1372550400</td>\n",
       "      <td>3765</td>\n",
       "    </tr>\n",
       "    <tr>\n",
       "      <th>2</th>\n",
       "      <td>[0, 0]</td>\n",
       "      <td>1st shipment received a book instead of the ga...</td>\n",
       "      <td>1</td>\n",
       "      <td>1403913600</td>\n",
       "      <td>3402</td>\n",
       "    </tr>\n",
       "    <tr>\n",
       "      <th>3</th>\n",
       "      <td>[7, 10]</td>\n",
       "      <td>I got this version instead of the PS3 version,...</td>\n",
       "      <td>3</td>\n",
       "      <td>1315958400</td>\n",
       "      <td>4420</td>\n",
       "    </tr>\n",
       "    <tr>\n",
       "      <th>4</th>\n",
       "      <td>[2, 2]</td>\n",
       "      <td>I had Dirt 2 on Xbox 360 and it was an okay ga...</td>\n",
       "      <td>4</td>\n",
       "      <td>1308009600</td>\n",
       "      <td>4512</td>\n",
       "    </tr>\n",
       "  </tbody>\n",
       "</table>\n",
       "</div>"
      ],
      "text/plain": [
       "   helpful                                         reviewText  overall  \\\n",
       "0  [8, 12]  Installing the game was a struggle (because of...        1   \n",
       "1   [0, 0]  If you like rally cars get this game you will ...        4   \n",
       "2   [0, 0]  1st shipment received a book instead of the ga...        1   \n",
       "3  [7, 10]  I got this version instead of the PS3 version,...        3   \n",
       "4   [2, 2]  I had Dirt 2 on Xbox 360 and it was an okay ga...        4   \n",
       "\n",
       "   unixReviewTime  Review_Interval_Days  \n",
       "0      1341792000                  4121  \n",
       "1      1372550400                  3765  \n",
       "2      1403913600                  3402  \n",
       "3      1315958400                  4420  \n",
       "4      1308009600                  4512  "
      ]
     },
     "execution_count": 8,
     "metadata": {},
     "output_type": "execute_result"
    }
   ],
   "source": [
    "review_data.head()"
   ]
  },
  {
   "cell_type": "code",
   "execution_count": 9,
   "metadata": {},
   "outputs": [
    {
     "name": "stderr",
     "output_type": "stream",
     "text": [
      "C:\\Users\\15726\\AppData\\Local\\Temp\\ipykernel_20748\\3796216857.py:7: SettingWithCopyWarning: \n",
      "A value is trying to be set on a copy of a slice from a DataFrame.\n",
      "Try using .loc[row_indexer,col_indexer] = value instead\n",
      "\n",
      "See the caveats in the documentation: https://pandas.pydata.org/pandas-docs/stable/user_guide/indexing.html#returning-a-view-versus-a-copy\n",
      "  reviews[\"usefulScore\"] = (reviews[\"helpful\"]/reviews[\"total\"]).apply(lambda n: n if n > 0 else 0)\n"
     ]
    },
    {
     "data": {
      "text/html": [
       "<div>\n",
       "<style scoped>\n",
       "    .dataframe tbody tr th:only-of-type {\n",
       "        vertical-align: middle;\n",
       "    }\n",
       "\n",
       "    .dataframe tbody tr th {\n",
       "        vertical-align: top;\n",
       "    }\n",
       "\n",
       "    .dataframe thead th {\n",
       "        text-align: right;\n",
       "    }\n",
       "</style>\n",
       "<table border=\"1\" class=\"dataframe\">\n",
       "  <thead>\n",
       "    <tr style=\"text-align: right;\">\n",
       "      <th></th>\n",
       "      <th>reviewText</th>\n",
       "      <th>overall</th>\n",
       "      <th>unixReviewTime</th>\n",
       "      <th>Review_Interval_Days</th>\n",
       "      <th>usefulScore</th>\n",
       "    </tr>\n",
       "  </thead>\n",
       "  <tbody>\n",
       "    <tr>\n",
       "      <th>0</th>\n",
       "      <td>Installing the game was a struggle (because of...</td>\n",
       "      <td>1</td>\n",
       "      <td>1341792000</td>\n",
       "      <td>4121</td>\n",
       "      <td>0.666667</td>\n",
       "    </tr>\n",
       "    <tr>\n",
       "      <th>3</th>\n",
       "      <td>I got this version instead of the PS3 version,...</td>\n",
       "      <td>3</td>\n",
       "      <td>1315958400</td>\n",
       "      <td>4420</td>\n",
       "      <td>0.700000</td>\n",
       "    </tr>\n",
       "    <tr>\n",
       "      <th>4</th>\n",
       "      <td>I had Dirt 2 on Xbox 360 and it was an okay ga...</td>\n",
       "      <td>4</td>\n",
       "      <td>1308009600</td>\n",
       "      <td>4512</td>\n",
       "      <td>1.000000</td>\n",
       "    </tr>\n",
       "    <tr>\n",
       "      <th>6</th>\n",
       "      <td>Loved playing Dirt 2 and I thought the graphic...</td>\n",
       "      <td>5</td>\n",
       "      <td>1313280000</td>\n",
       "      <td>4451</td>\n",
       "      <td>0.846154</td>\n",
       "    </tr>\n",
       "    <tr>\n",
       "      <th>7</th>\n",
       "      <td>I can't tell you what a piece of dog**** this ...</td>\n",
       "      <td>1</td>\n",
       "      <td>1353715200</td>\n",
       "      <td>3983</td>\n",
       "      <td>0.250000</td>\n",
       "    </tr>\n",
       "    <tr>\n",
       "      <th>8</th>\n",
       "      <td>I initially gave this one star because it was ...</td>\n",
       "      <td>4</td>\n",
       "      <td>1352851200</td>\n",
       "      <td>3993</td>\n",
       "      <td>0.000000</td>\n",
       "    </tr>\n",
       "    <tr>\n",
       "      <th>9</th>\n",
       "      <td>I still haven't figured this one out. Did ever...</td>\n",
       "      <td>2</td>\n",
       "      <td>1391817600</td>\n",
       "      <td>3542</td>\n",
       "      <td>1.000000</td>\n",
       "    </tr>\n",
       "    <tr>\n",
       "      <th>10</th>\n",
       "      <td>I'm not quite finished with the game's DiRT To...</td>\n",
       "      <td>5</td>\n",
       "      <td>1309219200</td>\n",
       "      <td>4498</td>\n",
       "      <td>1.000000</td>\n",
       "    </tr>\n",
       "    <tr>\n",
       "      <th>12</th>\n",
       "      <td>Dirt 3 on DVDi collect racing games so had to ...</td>\n",
       "      <td>5</td>\n",
       "      <td>1388275200</td>\n",
       "      <td>3583</td>\n",
       "      <td>0.000000</td>\n",
       "    </tr>\n",
       "    <tr>\n",
       "      <th>15</th>\n",
       "      <td>This game was a rip-off.  It has less terrain,...</td>\n",
       "      <td>1</td>\n",
       "      <td>1373846400</td>\n",
       "      <td>3750</td>\n",
       "      <td>1.000000</td>\n",
       "    </tr>\n",
       "  </tbody>\n",
       "</table>\n",
       "</div>"
      ],
      "text/plain": [
       "                                           reviewText  overall  \\\n",
       "0   Installing the game was a struggle (because of...        1   \n",
       "3   I got this version instead of the PS3 version,...        3   \n",
       "4   I had Dirt 2 on Xbox 360 and it was an okay ga...        4   \n",
       "6   Loved playing Dirt 2 and I thought the graphic...        5   \n",
       "7   I can't tell you what a piece of dog**** this ...        1   \n",
       "8   I initially gave this one star because it was ...        4   \n",
       "9   I still haven't figured this one out. Did ever...        2   \n",
       "10  I'm not quite finished with the game's DiRT To...        5   \n",
       "12  Dirt 3 on DVDi collect racing games so had to ...        5   \n",
       "15  This game was a rip-off.  It has less terrain,...        1   \n",
       "\n",
       "    unixReviewTime  Review_Interval_Days  usefulScore  \n",
       "0       1341792000                  4121     0.666667  \n",
       "3       1315958400                  4420     0.700000  \n",
       "4       1308009600                  4512     1.000000  \n",
       "6       1313280000                  4451     0.846154  \n",
       "7       1353715200                  3983     0.250000  \n",
       "8       1352851200                  3993     0.000000  \n",
       "9       1391817600                  3542     1.000000  \n",
       "10      1309219200                  4498     1.000000  \n",
       "12      1388275200                  3583     0.000000  \n",
       "15      1373846400                  3750     1.000000  "
      ]
     },
     "execution_count": 9,
     "metadata": {},
     "output_type": "execute_result"
    }
   ],
   "source": [
    "reviews = review_data\n",
    "\n",
    "reviews[['helpful','total']] = pd.DataFrame(reviews.helpful.values.tolist(), index=reviews.index)\n",
    "############删掉没有评价是否有用的评论############################\n",
    "reviews = reviews[reviews['total'] > 0]\n",
    "#reviews[\"sentiment\"] = reviews[\"overall\"].apply(lambda score: 1 if score > 3 else 1)\n",
    "reviews[\"usefulScore\"] = (reviews[\"helpful\"]/reviews[\"total\"]).apply(lambda n: n if n > 0 else 0)\n",
    "#.apply(lambda n: \"useful\" if n > 0.8 else \"useless\")\n",
    "\n",
    "review_data = reviews.drop(['helpful','total'],axis=1)\n",
    "review_data.head(10)\n"
   ]
  },
  {
   "cell_type": "code",
   "execution_count": 10,
   "metadata": {},
   "outputs": [
    {
     "name": "stdout",
     "output_type": "stream",
     "text": [
      "5    63594\n",
      "4    32278\n",
      "3    19723\n",
      "1    13239\n",
      "2    11021\n",
      "Name: overall, dtype: int64\n"
     ]
    }
   ],
   "source": [
    "a = review_data['overall'].value_counts()\n",
    "print(a)"
   ]
  },
  {
   "cell_type": "markdown",
   "metadata": {},
   "source": [
    "# Data Cleaning"
   ]
  },
  {
   "cell_type": "code",
   "execution_count": 11,
   "metadata": {},
   "outputs": [
    {
     "data": {
      "text/plain": [
       "40"
      ]
     },
     "execution_count": 11,
     "metadata": {},
     "output_type": "execute_result"
    }
   ],
   "source": [
    "count = 0\n",
    "for i in review_data['reviewText']:\n",
    "    if i == '':\n",
    "        \n",
    "        count = count+1\n",
    "count"
   ]
  },
  {
   "cell_type": "code",
   "execution_count": 12,
   "metadata": {},
   "outputs": [],
   "source": [
    "review_data = review_data[review_data['reviewText'] != '']"
   ]
  },
  {
   "cell_type": "code",
   "execution_count": 13,
   "metadata": {},
   "outputs": [
    {
     "name": "stderr",
     "output_type": "stream",
     "text": [
      "[nltk_data] Downloading package punkt to\n",
      "[nltk_data]     C:\\Users\\15726\\AppData\\Roaming\\nltk_data...\n",
      "[nltk_data]   Package punkt is already up-to-date!\n"
     ]
    }
   ],
   "source": [
    "import nltk\n",
    "#nlp = spacy.load(\"en_core_web_sm\")\n",
    "# 下载NLTK的punkt句子分割模型（只需要执行一次）\n",
    "nltk.download('punkt')\n",
    "\n",
    "from nltk.tokenize import sent_tokenize\n",
    "\n",
    "def split_sentences(text):\n",
    "\n",
    "  try:\n",
    "   punctuation = ['.', '!', '?']\n",
    "    \n",
    "        # 去除句子末尾的空格\n",
    "   text = text.rstrip()\n",
    "    \n",
    "     # 检查句末是否有标点符号\n",
    "   if text[-1] not in punctuation:\n",
    "        # 如果没有标点符号，就添加一个句号\n",
    "      text = f'{text}.'\n",
    "   #sentences = sent_tokenize(text)\n",
    "\n",
    "   return text\n",
    "  except Exception as e:\n",
    "    print(f\"Error: {e}, Text: {text}\")\n",
    "\n",
    "\n",
    "review_data['reviewText']= review_data['reviewText'].apply(split_sentences)\n",
    "#sample =split_sentences( review_data['reviewText'][9827])\n",
    "#sample\n"
   ]
  },
  {
   "cell_type": "code",
   "execution_count": 14,
   "metadata": {},
   "outputs": [
    {
     "data": {
      "text/html": [
       "<div>\n",
       "<style scoped>\n",
       "    .dataframe tbody tr th:only-of-type {\n",
       "        vertical-align: middle;\n",
       "    }\n",
       "\n",
       "    .dataframe tbody tr th {\n",
       "        vertical-align: top;\n",
       "    }\n",
       "\n",
       "    .dataframe thead th {\n",
       "        text-align: right;\n",
       "    }\n",
       "</style>\n",
       "<table border=\"1\" class=\"dataframe\">\n",
       "  <thead>\n",
       "    <tr style=\"text-align: right;\">\n",
       "      <th></th>\n",
       "      <th>reviewText</th>\n",
       "      <th>overall</th>\n",
       "      <th>unixReviewTime</th>\n",
       "      <th>Review_Interval_Days</th>\n",
       "      <th>usefulScore</th>\n",
       "    </tr>\n",
       "  </thead>\n",
       "  <tbody>\n",
       "    <tr>\n",
       "      <th>0</th>\n",
       "      <td>Installing the game was a struggle (because of...</td>\n",
       "      <td>1</td>\n",
       "      <td>1341792000</td>\n",
       "      <td>4121</td>\n",
       "      <td>0.666667</td>\n",
       "    </tr>\n",
       "    <tr>\n",
       "      <th>3</th>\n",
       "      <td>I got this version instead of the PS3 version,...</td>\n",
       "      <td>3</td>\n",
       "      <td>1315958400</td>\n",
       "      <td>4420</td>\n",
       "      <td>0.700000</td>\n",
       "    </tr>\n",
       "    <tr>\n",
       "      <th>4</th>\n",
       "      <td>I had Dirt 2 on Xbox 360 and it was an okay ga...</td>\n",
       "      <td>4</td>\n",
       "      <td>1308009600</td>\n",
       "      <td>4512</td>\n",
       "      <td>1.000000</td>\n",
       "    </tr>\n",
       "    <tr>\n",
       "      <th>6</th>\n",
       "      <td>Loved playing Dirt 2 and I thought the graphic...</td>\n",
       "      <td>5</td>\n",
       "      <td>1313280000</td>\n",
       "      <td>4451</td>\n",
       "      <td>0.846154</td>\n",
       "    </tr>\n",
       "    <tr>\n",
       "      <th>7</th>\n",
       "      <td>I can't tell you what a piece of dog**** this ...</td>\n",
       "      <td>1</td>\n",
       "      <td>1353715200</td>\n",
       "      <td>3983</td>\n",
       "      <td>0.250000</td>\n",
       "    </tr>\n",
       "  </tbody>\n",
       "</table>\n",
       "</div>"
      ],
      "text/plain": [
       "                                          reviewText  overall  unixReviewTime  \\\n",
       "0  Installing the game was a struggle (because of...        1      1341792000   \n",
       "3  I got this version instead of the PS3 version,...        3      1315958400   \n",
       "4  I had Dirt 2 on Xbox 360 and it was an okay ga...        4      1308009600   \n",
       "6  Loved playing Dirt 2 and I thought the graphic...        5      1313280000   \n",
       "7  I can't tell you what a piece of dog**** this ...        1      1353715200   \n",
       "\n",
       "   Review_Interval_Days  usefulScore  \n",
       "0                  4121     0.666667  \n",
       "3                  4420     0.700000  \n",
       "4                  4512     1.000000  \n",
       "6                  4451     0.846154  \n",
       "7                  3983     0.250000  "
      ]
     },
     "execution_count": 14,
     "metadata": {},
     "output_type": "execute_result"
    }
   ],
   "source": [
    "review_data.head()"
   ]
  },
  {
   "cell_type": "markdown",
   "metadata": {},
   "source": [
    "# SMOG指数可读性分析\n",
    "SMOG指数是一种用于评估文本可读性的指标，它考虑了一个文本中的多音节词的数量。SMOG代表了“Simple Measure of Gobbledygook”（即“混乱简单度量”），是由罗伯特·克拉斯特（Robert Gunning）于1952年提出的。它旨在提供一个简单但有效的方法来估计一段文本的阅读难易程度。"
   ]
  },
  {
   "cell_type": "code",
   "execution_count": 15,
   "metadata": {},
   "outputs": [
    {
     "name": "stdout",
     "output_type": "stream",
     "text": [
      "<class 'pandas.core.frame.DataFrame'>\n",
      "Int64Index: 139815 entries, 0 to 231779\n",
      "Data columns (total 5 columns):\n",
      " #   Column                Non-Null Count   Dtype  \n",
      "---  ------                --------------   -----  \n",
      " 0   reviewText            139815 non-null  object \n",
      " 1   overall               139815 non-null  int64  \n",
      " 2   unixReviewTime        139815 non-null  int64  \n",
      " 3   Review_Interval_Days  139815 non-null  int64  \n",
      " 4   usefulScore           139815 non-null  float64\n",
      "dtypes: float64(1), int64(3), object(1)\n",
      "memory usage: 6.4+ MB\n"
     ]
    }
   ],
   "source": [
    "review_data.info()"
   ]
  },
  {
   "cell_type": "code",
   "execution_count": 16,
   "metadata": {},
   "outputs": [],
   "source": [
    "sample_data = review_data.sample(n=10000, random_state=42)"
   ]
  },
  {
   "cell_type": "code",
   "execution_count": 17,
   "metadata": {},
   "outputs": [
    {
     "data": {
      "text/html": [
       "<div>\n",
       "<style scoped>\n",
       "    .dataframe tbody tr th:only-of-type {\n",
       "        vertical-align: middle;\n",
       "    }\n",
       "\n",
       "    .dataframe tbody tr th {\n",
       "        vertical-align: top;\n",
       "    }\n",
       "\n",
       "    .dataframe thead th {\n",
       "        text-align: right;\n",
       "    }\n",
       "</style>\n",
       "<table border=\"1\" class=\"dataframe\">\n",
       "  <thead>\n",
       "    <tr style=\"text-align: right;\">\n",
       "      <th></th>\n",
       "      <th>reviewText</th>\n",
       "      <th>overall</th>\n",
       "      <th>unixReviewTime</th>\n",
       "      <th>Review_Interval_Days</th>\n",
       "      <th>usefulScore</th>\n",
       "    </tr>\n",
       "  </thead>\n",
       "  <tbody>\n",
       "    <tr>\n",
       "      <th>39633</th>\n",
       "      <td>You get more Nazis to shoot. The weapons are p...</td>\n",
       "      <td>4</td>\n",
       "      <td>1074297600</td>\n",
       "      <td>7217</td>\n",
       "      <td>0.000000</td>\n",
       "    </tr>\n",
       "    <tr>\n",
       "      <th>106693</th>\n",
       "      <td>This is one of those games that you can actual...</td>\n",
       "      <td>4</td>\n",
       "      <td>1233964800</td>\n",
       "      <td>5369</td>\n",
       "      <td>0.727273</td>\n",
       "    </tr>\n",
       "    <tr>\n",
       "      <th>38393</th>\n",
       "      <td>Talk about a game that is perfect in just abou...</td>\n",
       "      <td>5</td>\n",
       "      <td>1075334400</td>\n",
       "      <td>7205</td>\n",
       "      <td>0.900000</td>\n",
       "    </tr>\n",
       "    <tr>\n",
       "      <th>173216</th>\n",
       "      <td>A fun game with an entertaining story line, pr...</td>\n",
       "      <td>5</td>\n",
       "      <td>1334620800</td>\n",
       "      <td>4204</td>\n",
       "      <td>1.000000</td>\n",
       "    </tr>\n",
       "    <tr>\n",
       "      <th>134612</th>\n",
       "      <td>This is a launch title that's $40 and it took ...</td>\n",
       "      <td>3</td>\n",
       "      <td>1301961600</td>\n",
       "      <td>4582</td>\n",
       "      <td>0.285714</td>\n",
       "    </tr>\n",
       "    <tr>\n",
       "      <th>...</th>\n",
       "      <td>...</td>\n",
       "      <td>...</td>\n",
       "      <td>...</td>\n",
       "      <td>...</td>\n",
       "      <td>...</td>\n",
       "    </tr>\n",
       "    <tr>\n",
       "      <th>141351</th>\n",
       "      <td>Alan Wake is a very entertaining experience an...</td>\n",
       "      <td>5</td>\n",
       "      <td>1275091200</td>\n",
       "      <td>4893</td>\n",
       "      <td>0.800000</td>\n",
       "    </tr>\n",
       "    <tr>\n",
       "      <th>222470</th>\n",
       "      <td>the game of course is awesome so I won't spend...</td>\n",
       "      <td>5</td>\n",
       "      <td>1373587200</td>\n",
       "      <td>3753</td>\n",
       "      <td>1.000000</td>\n",
       "    </tr>\n",
       "    <tr>\n",
       "      <th>198512</th>\n",
       "      <td>My six year old daughter doesn't like this gam...</td>\n",
       "      <td>1</td>\n",
       "      <td>1404172800</td>\n",
       "      <td>3399</td>\n",
       "      <td>1.000000</td>\n",
       "    </tr>\n",
       "    <tr>\n",
       "      <th>59944</th>\n",
       "      <td>Circa 1988-89, many NES titles try to create a...</td>\n",
       "      <td>3</td>\n",
       "      <td>1340409600</td>\n",
       "      <td>4137</td>\n",
       "      <td>0.333333</td>\n",
       "    </tr>\n",
       "    <tr>\n",
       "      <th>96670</th>\n",
       "      <td>Before I get into the meat of this review, let...</td>\n",
       "      <td>5</td>\n",
       "      <td>1202860800</td>\n",
       "      <td>5729</td>\n",
       "      <td>0.818182</td>\n",
       "    </tr>\n",
       "  </tbody>\n",
       "</table>\n",
       "<p>10000 rows × 5 columns</p>\n",
       "</div>"
      ],
      "text/plain": [
       "                                               reviewText  overall  \\\n",
       "39633   You get more Nazis to shoot. The weapons are p...        4   \n",
       "106693  This is one of those games that you can actual...        4   \n",
       "38393   Talk about a game that is perfect in just abou...        5   \n",
       "173216  A fun game with an entertaining story line, pr...        5   \n",
       "134612  This is a launch title that's $40 and it took ...        3   \n",
       "...                                                   ...      ...   \n",
       "141351  Alan Wake is a very entertaining experience an...        5   \n",
       "222470  the game of course is awesome so I won't spend...        5   \n",
       "198512  My six year old daughter doesn't like this gam...        1   \n",
       "59944   Circa 1988-89, many NES titles try to create a...        3   \n",
       "96670   Before I get into the meat of this review, let...        5   \n",
       "\n",
       "        unixReviewTime  Review_Interval_Days  usefulScore  \n",
       "39633       1074297600                  7217     0.000000  \n",
       "106693      1233964800                  5369     0.727273  \n",
       "38393       1075334400                  7205     0.900000  \n",
       "173216      1334620800                  4204     1.000000  \n",
       "134612      1301961600                  4582     0.285714  \n",
       "...                ...                   ...          ...  \n",
       "141351      1275091200                  4893     0.800000  \n",
       "222470      1373587200                  3753     1.000000  \n",
       "198512      1404172800                  3399     1.000000  \n",
       "59944       1340409600                  4137     0.333333  \n",
       "96670       1202860800                  5729     0.818182  \n",
       "\n",
       "[10000 rows x 5 columns]"
      ]
     },
     "execution_count": 17,
     "metadata": {},
     "output_type": "execute_result"
    }
   ],
   "source": [
    "sample_data"
   ]
  },
  {
   "cell_type": "code",
   "execution_count": 18,
   "metadata": {},
   "outputs": [
    {
     "data": {
      "text/plain": [
       "39633     You get more Nazis to shoot. The weapons are p...\n",
       "106693    This is one of those games that you can actual...\n",
       "38393     Talk about a game that is perfect in just abou...\n",
       "173216    A fun game with an entertaining story line, pr...\n",
       "134612    This is a launch title that's $40 and it took ...\n",
       "                                ...                        \n",
       "141351    Alan Wake is a very entertaining experience an...\n",
       "222470    the game of course is awesome so I won't spend...\n",
       "198512    My six year old daughter doesn't like this gam...\n",
       "59944     Circa 1988-89, many NES titles try to create a...\n",
       "96670     Before I get into the meat of this review, let...\n",
       "Name: reviewText, Length: 10000, dtype: object"
      ]
     },
     "execution_count": 18,
     "metadata": {},
     "output_type": "execute_result"
    }
   ],
   "source": [
    "sample_data.reviewText"
   ]
  },
  {
   "cell_type": "code",
   "execution_count": 19,
   "metadata": {},
   "outputs": [
    {
     "name": "stdout",
     "output_type": "stream",
     "text": [
      "Error calculating SMOG for text: Word to be hyphenated may have at most 100 characters./nSummary:---Having played this game for several months during the closed beta, I can only state that the game keeps getting better. At first impression, gameplay was already an amazing experience.---The game consists of a matching system, where you are matched with other players to form a team. You each select a hero and are placed against another team of heroes to invade the enemy base while defending your own.---By purchasing the collector pack, you are giving yourself a head start into the world of LoL. You will not regret the purchase and even if you do, the Riot staff has superior customer service and will complete your satisfaction.Pros:---The characters are very lively and fun to play. Each has their own fun attitude and great sound clips. While the graphics felt a bit childish at first and too bright, I've grown quite fond of them as they are quite personal. Animations are great.---The gameplay is always changing, meaning each match always feels like a new game. The re-playability of the game is amazing, all things considered. You can make excellent come backs and really get great satisfaction from playing a match or two.---The game rewards talented players with excellent tactics. There is little luck involved in the game and your skill can determine the success if your entire team. Each player has a key role in victory.---No cost of entry. While you do not have to purchase the game to play, having the collectors pack aids in future development of the game while giving you a head start on hero selection. The 20 heroes included are very well balanced and give you tons of playing styles to choose from. There are 3 ranged DPS champions, 5 melee DPS champions, 2 support champions, 5 tank champions, and 5 mage champions.---Friendly staff to assist problems. Quick response time with a fast resolution.Cons:---The launcher leaves a lot to be desired. You will be forced to install Adobe Air in order to use the launcher and thus play the game. The launcher contains more than half the bugs in the game due to performance and server sync issues. The friend tracker is built into this launcher and needs quite a bit of polish.---Game matching is hit and miss. When selecting the solo gameplay where you are matched to 4 other allies, you are often matched against a full arranged team of players which have a strong upperhand. These games are often not enjoyable due to the landslide which occurs.Game Contents:---Access to the Beta (No Longer Applies)---$10 of Riot Points for use in the store---4 Summoner RunesGreater Mark of Malice (Improves your critical chance)Greater Seal of Vitality (Increases your health per level )Greater Glyph of Knowledge (Increases your mana per level)Greater Quintessence of Revival (Decreases your Death Timer)---20 Playable ChampionsThe actual champions that we are including in the collector pack are:AlistarAmumuAnnieCho'gathEvelynnFiddleSticksJannaKayleMalphiteMorganaNasusRammusRyzeSivirTeemoTristanaTryndamereVeigarWarwickZilean---Human Ryze Skin (No Longer Applies - Preorder Only)---Silver Kayle Skin.\n"
     ]
    }
   ],
   "source": [
    "from textatistic import Textatistic\n",
    "\n",
    "# 定义一个函数来计算SMOG指数\n",
    "def calculate_smog(text):\n",
    "    try:\n",
    "        stats = Textatistic(text)\n",
    "        return stats.smog_score\n",
    "    except Exception as e:\n",
    "        print(f\"Error calculating SMOG for text: {e}/n{text}\")\n",
    "        return 0\n",
    "\n",
    "# 示例用法\n",
    "readability_scores = []\n",
    "\n",
    "for i in sample_data.reviewText:\n",
    "    smog = calculate_smog(i)\n",
    "    readability_scores.append(smog)\n",
    "\n",
    "sample_data['Readability_smog'] = readability_scores\n"
   ]
  },
  {
   "cell_type": "code",
   "execution_count": 20,
   "metadata": {},
   "outputs": [],
   "source": [
    "from textstat import flesch_kincaid_grade, gunning_fog\n",
    "\n",
    "\n",
    "# 示例用法\n",
    "flesch_scores = []\n",
    "gunning_scores = []\n",
    "\n",
    "for i in sample_data.reviewText:\n",
    "    fk_score = flesch_kincaid_grade(i)\n",
    "    gf_score = gunning_fog(i)\n",
    "    flesch_scores.append(fk_score)\n",
    "    gunning_scores.append(gf_score)\n",
    "\n",
    "sample_data['Readability_flesch'] = flesch_scores\n",
    "sample_data['Readability_Gunning'] = gunning_scores"
   ]
  },
  {
   "cell_type": "code",
   "execution_count": 21,
   "metadata": {},
   "outputs": [],
   "source": [
    "###字符\n",
    "##单词数\n",
    "sample_data['Readability_char_count'] = sample_data['reviewText'].apply(len)\n",
    "\n",
    "# 计算单词数并添加为新列 'Word_Count'\n",
    "sample_data['Word_Count'] = sample_data['reviewText'].apply(lambda x: len(x.split()))\n"
   ]
  },
  {
   "cell_type": "markdown",
   "metadata": {},
   "source": [
    "## Test of SentimentIntensity Analysis极性分析\n"
   ]
  },
  {
   "cell_type": "code",
   "execution_count": 22,
   "metadata": {},
   "outputs": [],
   "source": [
    "from nltk.sentiment.vader import SentimentIntensityAnalyzer\n",
    "analyser = SentimentIntensityAnalyzer()\n",
    "#sample_review = review_data.reviewText[:10]\n",
    "Review_Polarity = []\n",
    "for test in sample_data.reviewText:\n",
    "    ss = analyser.polarity_scores(test) #极性分析\n",
    "    #for k in sorted(ss):\n",
    "        #print('{0}: {1}, '.format(k, ss[k]))\n",
    "    Review_Polarity.append(ss['compound'])\n",
    "    #print(test)\n",
    "Review_Polarity[:10]\n",
    "sample_data['Polarity'] = Review_Polarity"
   ]
  },
  {
   "cell_type": "markdown",
   "metadata": {},
   "source": [
    "# 主观性分析 TextBlob\n"
   ]
  },
  {
   "cell_type": "code",
   "execution_count": 23,
   "metadata": {},
   "outputs": [],
   "source": [
    "from textblob import TextBlob, Word, Blobber\n",
    "sample_data['Subjectivity'] = sample_data['reviewText'].apply(lambda x: TextBlob(x).sentiment[1])\n",
    "\n"
   ]
  },
  {
   "cell_type": "code",
   "execution_count": 24,
   "metadata": {},
   "outputs": [],
   "source": [
    "sample_data = sample_data.drop(['reviewText'],axis=1)"
   ]
  },
  {
   "cell_type": "code",
   "execution_count": 25,
   "metadata": {},
   "outputs": [
    {
     "data": {
      "text/html": [
       "<div>\n",
       "<style scoped>\n",
       "    .dataframe tbody tr th:only-of-type {\n",
       "        vertical-align: middle;\n",
       "    }\n",
       "\n",
       "    .dataframe tbody tr th {\n",
       "        vertical-align: top;\n",
       "    }\n",
       "\n",
       "    .dataframe thead th {\n",
       "        text-align: right;\n",
       "    }\n",
       "</style>\n",
       "<table border=\"1\" class=\"dataframe\">\n",
       "  <thead>\n",
       "    <tr style=\"text-align: right;\">\n",
       "      <th></th>\n",
       "      <th>overall</th>\n",
       "      <th>unixReviewTime</th>\n",
       "      <th>Review_Interval_Days</th>\n",
       "      <th>usefulScore</th>\n",
       "      <th>Readability_smog</th>\n",
       "      <th>Readability_flesch</th>\n",
       "      <th>Readability_Gunning</th>\n",
       "      <th>Readability_char_count</th>\n",
       "      <th>Word_Count</th>\n",
       "      <th>Polarity</th>\n",
       "      <th>Subjectivity</th>\n",
       "    </tr>\n",
       "  </thead>\n",
       "  <tbody>\n",
       "    <tr>\n",
       "      <th>39633</th>\n",
       "      <td>4</td>\n",
       "      <td>1074297600</td>\n",
       "      <td>7217</td>\n",
       "      <td>0.000000</td>\n",
       "      <td>6.427356</td>\n",
       "      <td>2.4</td>\n",
       "      <td>5.26</td>\n",
       "      <td>147</td>\n",
       "      <td>29</td>\n",
       "      <td>0.3193</td>\n",
       "      <td>0.532143</td>\n",
       "    </tr>\n",
       "    <tr>\n",
       "      <th>106693</th>\n",
       "      <td>4</td>\n",
       "      <td>1233964800</td>\n",
       "      <td>5369</td>\n",
       "      <td>0.727273</td>\n",
       "      <td>9.642633</td>\n",
       "      <td>8.4</td>\n",
       "      <td>10.86</td>\n",
       "      <td>1472</td>\n",
       "      <td>270</td>\n",
       "      <td>0.9918</td>\n",
       "      <td>0.517241</td>\n",
       "    </tr>\n",
       "    <tr>\n",
       "      <th>38393</th>\n",
       "      <td>5</td>\n",
       "      <td>1075334400</td>\n",
       "      <td>7205</td>\n",
       "      <td>0.900000</td>\n",
       "      <td>8.124752</td>\n",
       "      <td>6.1</td>\n",
       "      <td>8.52</td>\n",
       "      <td>1447</td>\n",
       "      <td>262</td>\n",
       "      <td>0.9966</td>\n",
       "      <td>0.561651</td>\n",
       "    </tr>\n",
       "    <tr>\n",
       "      <th>173216</th>\n",
       "      <td>5</td>\n",
       "      <td>1334620800</td>\n",
       "      <td>4204</td>\n",
       "      <td>1.000000</td>\n",
       "      <td>8.076483</td>\n",
       "      <td>6.7</td>\n",
       "      <td>9.94</td>\n",
       "      <td>357</td>\n",
       "      <td>71</td>\n",
       "      <td>0.9552</td>\n",
       "      <td>0.456548</td>\n",
       "    </tr>\n",
       "    <tr>\n",
       "      <th>134612</th>\n",
       "      <td>3</td>\n",
       "      <td>1301961600</td>\n",
       "      <td>4582</td>\n",
       "      <td>0.285714</td>\n",
       "      <td>8.344100</td>\n",
       "      <td>8.5</td>\n",
       "      <td>10.15</td>\n",
       "      <td>1409</td>\n",
       "      <td>269</td>\n",
       "      <td>0.9322</td>\n",
       "      <td>0.525446</td>\n",
       "    </tr>\n",
       "    <tr>\n",
       "      <th>...</th>\n",
       "      <td>...</td>\n",
       "      <td>...</td>\n",
       "      <td>...</td>\n",
       "      <td>...</td>\n",
       "      <td>...</td>\n",
       "      <td>...</td>\n",
       "      <td>...</td>\n",
       "      <td>...</td>\n",
       "      <td>...</td>\n",
       "      <td>...</td>\n",
       "      <td>...</td>\n",
       "    </tr>\n",
       "    <tr>\n",
       "      <th>141351</th>\n",
       "      <td>5</td>\n",
       "      <td>1275091200</td>\n",
       "      <td>4893</td>\n",
       "      <td>0.800000</td>\n",
       "      <td>8.401726</td>\n",
       "      <td>6.3</td>\n",
       "      <td>7.94</td>\n",
       "      <td>1530</td>\n",
       "      <td>266</td>\n",
       "      <td>0.9951</td>\n",
       "      <td>0.552821</td>\n",
       "    </tr>\n",
       "    <tr>\n",
       "      <th>222470</th>\n",
       "      <td>5</td>\n",
       "      <td>1373587200</td>\n",
       "      <td>3753</td>\n",
       "      <td>1.000000</td>\n",
       "      <td>7.168622</td>\n",
       "      <td>5.3</td>\n",
       "      <td>6.92</td>\n",
       "      <td>535</td>\n",
       "      <td>100</td>\n",
       "      <td>0.3940</td>\n",
       "      <td>0.537056</td>\n",
       "    </tr>\n",
       "    <tr>\n",
       "      <th>198512</th>\n",
       "      <td>1</td>\n",
       "      <td>1404172800</td>\n",
       "      <td>3399</td>\n",
       "      <td>1.000000</td>\n",
       "      <td>3.129100</td>\n",
       "      <td>1.3</td>\n",
       "      <td>2.80</td>\n",
       "      <td>102</td>\n",
       "      <td>21</td>\n",
       "      <td>-0.4218</td>\n",
       "      <td>0.495000</td>\n",
       "    </tr>\n",
       "    <tr>\n",
       "      <th>59944</th>\n",
       "      <td>3</td>\n",
       "      <td>1340409600</td>\n",
       "      <td>4137</td>\n",
       "      <td>0.333333</td>\n",
       "      <td>12.404819</td>\n",
       "      <td>11.3</td>\n",
       "      <td>13.89</td>\n",
       "      <td>1729</td>\n",
       "      <td>292</td>\n",
       "      <td>-0.9441</td>\n",
       "      <td>0.525057</td>\n",
       "    </tr>\n",
       "    <tr>\n",
       "      <th>96670</th>\n",
       "      <td>5</td>\n",
       "      <td>1202860800</td>\n",
       "      <td>5729</td>\n",
       "      <td>0.818182</td>\n",
       "      <td>10.727763</td>\n",
       "      <td>10.7</td>\n",
       "      <td>12.68</td>\n",
       "      <td>4361</td>\n",
       "      <td>724</td>\n",
       "      <td>-0.5745</td>\n",
       "      <td>0.489578</td>\n",
       "    </tr>\n",
       "  </tbody>\n",
       "</table>\n",
       "<p>10000 rows × 11 columns</p>\n",
       "</div>"
      ],
      "text/plain": [
       "        overall  unixReviewTime  Review_Interval_Days  usefulScore  \\\n",
       "39633         4      1074297600                  7217     0.000000   \n",
       "106693        4      1233964800                  5369     0.727273   \n",
       "38393         5      1075334400                  7205     0.900000   \n",
       "173216        5      1334620800                  4204     1.000000   \n",
       "134612        3      1301961600                  4582     0.285714   \n",
       "...         ...             ...                   ...          ...   \n",
       "141351        5      1275091200                  4893     0.800000   \n",
       "222470        5      1373587200                  3753     1.000000   \n",
       "198512        1      1404172800                  3399     1.000000   \n",
       "59944         3      1340409600                  4137     0.333333   \n",
       "96670         5      1202860800                  5729     0.818182   \n",
       "\n",
       "        Readability_smog  Readability_flesch  Readability_Gunning  \\\n",
       "39633           6.427356                 2.4                 5.26   \n",
       "106693          9.642633                 8.4                10.86   \n",
       "38393           8.124752                 6.1                 8.52   \n",
       "173216          8.076483                 6.7                 9.94   \n",
       "134612          8.344100                 8.5                10.15   \n",
       "...                  ...                 ...                  ...   \n",
       "141351          8.401726                 6.3                 7.94   \n",
       "222470          7.168622                 5.3                 6.92   \n",
       "198512          3.129100                 1.3                 2.80   \n",
       "59944          12.404819                11.3                13.89   \n",
       "96670          10.727763                10.7                12.68   \n",
       "\n",
       "        Readability_char_count  Word_Count  Polarity  Subjectivity  \n",
       "39633                      147          29    0.3193      0.532143  \n",
       "106693                    1472         270    0.9918      0.517241  \n",
       "38393                     1447         262    0.9966      0.561651  \n",
       "173216                     357          71    0.9552      0.456548  \n",
       "134612                    1409         269    0.9322      0.525446  \n",
       "...                        ...         ...       ...           ...  \n",
       "141351                    1530         266    0.9951      0.552821  \n",
       "222470                     535         100    0.3940      0.537056  \n",
       "198512                     102          21   -0.4218      0.495000  \n",
       "59944                     1729         292   -0.9441      0.525057  \n",
       "96670                     4361         724   -0.5745      0.489578  \n",
       "\n",
       "[10000 rows x 11 columns]"
      ]
     },
     "execution_count": 25,
     "metadata": {},
     "output_type": "execute_result"
    }
   ],
   "source": [
    "sample_data"
   ]
  },
  {
   "cell_type": "markdown",
   "metadata": {},
   "source": [
    "# distribution of usefulScore is heavily skewed towards 0"
   ]
  },
  {
   "cell_type": "code",
   "execution_count": 26,
   "metadata": {},
   "outputs": [
    {
     "data": {
      "text/html": [
       "<div>\n",
       "<style scoped>\n",
       "    .dataframe tbody tr th:only-of-type {\n",
       "        vertical-align: middle;\n",
       "    }\n",
       "\n",
       "    .dataframe tbody tr th {\n",
       "        vertical-align: top;\n",
       "    }\n",
       "\n",
       "    .dataframe thead th {\n",
       "        text-align: right;\n",
       "    }\n",
       "</style>\n",
       "<table border=\"1\" class=\"dataframe\">\n",
       "  <thead>\n",
       "    <tr style=\"text-align: right;\">\n",
       "      <th></th>\n",
       "      <th>overall</th>\n",
       "      <th>unixReviewTime</th>\n",
       "      <th>Review_Interval_Days</th>\n",
       "      <th>usefulScore</th>\n",
       "      <th>Readability_smog</th>\n",
       "      <th>Readability_flesch</th>\n",
       "      <th>Readability_Gunning</th>\n",
       "      <th>Readability_char_count</th>\n",
       "      <th>Word_Count</th>\n",
       "      <th>Polarity</th>\n",
       "      <th>Subjectivity</th>\n",
       "    </tr>\n",
       "  </thead>\n",
       "  <tbody>\n",
       "    <tr>\n",
       "      <th>count</th>\n",
       "      <td>10000.000000</td>\n",
       "      <td>1.000000e+04</td>\n",
       "      <td>10000.000000</td>\n",
       "      <td>10000.000000</td>\n",
       "      <td>10000.000000</td>\n",
       "      <td>10000.000000</td>\n",
       "      <td>10000.000000</td>\n",
       "      <td>10000.000000</td>\n",
       "      <td>10000.000000</td>\n",
       "      <td>10000.000000</td>\n",
       "      <td>10000.000000</td>\n",
       "    </tr>\n",
       "    <tr>\n",
       "      <th>mean</th>\n",
       "      <td>3.860500</td>\n",
       "      <td>1.246915e+09</td>\n",
       "      <td>5219.118000</td>\n",
       "      <td>0.622956</td>\n",
       "      <td>7.876706</td>\n",
       "      <td>7.014770</td>\n",
       "      <td>9.076848</td>\n",
       "      <td>1470.473100</td>\n",
       "      <td>265.669100</td>\n",
       "      <td>0.569526</td>\n",
       "      <td>0.502350</td>\n",
       "    </tr>\n",
       "    <tr>\n",
       "      <th>std</th>\n",
       "      <td>1.327183</td>\n",
       "      <td>1.180323e+08</td>\n",
       "      <td>1366.115021</td>\n",
       "      <td>0.368580</td>\n",
       "      <td>2.134045</td>\n",
       "      <td>4.207117</td>\n",
       "      <td>4.269959</td>\n",
       "      <td>1811.822851</td>\n",
       "      <td>322.856658</td>\n",
       "      <td>0.643653</td>\n",
       "      <td>0.097433</td>\n",
       "    </tr>\n",
       "    <tr>\n",
       "      <th>min</th>\n",
       "      <td>1.000000</td>\n",
       "      <td>9.398592e+08</td>\n",
       "      <td>3383.000000</td>\n",
       "      <td>0.000000</td>\n",
       "      <td>0.000000</td>\n",
       "      <td>-3.500000</td>\n",
       "      <td>0.400000</td>\n",
       "      <td>14.000000</td>\n",
       "      <td>1.000000</td>\n",
       "      <td>-0.999900</td>\n",
       "      <td>0.000000</td>\n",
       "    </tr>\n",
       "    <tr>\n",
       "      <th>25%</th>\n",
       "      <td>3.000000</td>\n",
       "      <td>1.164240e+09</td>\n",
       "      <td>4022.000000</td>\n",
       "      <td>0.333333</td>\n",
       "      <td>6.742158</td>\n",
       "      <td>4.900000</td>\n",
       "      <td>7.030000</td>\n",
       "      <td>373.750000</td>\n",
       "      <td>70.000000</td>\n",
       "      <td>0.460250</td>\n",
       "      <td>0.453432</td>\n",
       "    </tr>\n",
       "    <tr>\n",
       "      <th>50%</th>\n",
       "      <td>4.000000</td>\n",
       "      <td>1.274832e+09</td>\n",
       "      <td>4896.000000</td>\n",
       "      <td>0.700000</td>\n",
       "      <td>7.957252</td>\n",
       "      <td>6.500000</td>\n",
       "      <td>8.560000</td>\n",
       "      <td>858.000000</td>\n",
       "      <td>158.000000</td>\n",
       "      <td>0.916000</td>\n",
       "      <td>0.500000</td>\n",
       "    </tr>\n",
       "    <tr>\n",
       "      <th>75%</th>\n",
       "      <td>5.000000</td>\n",
       "      <td>1.350346e+09</td>\n",
       "      <td>6176.000000</td>\n",
       "      <td>1.000000</td>\n",
       "      <td>9.112423</td>\n",
       "      <td>8.300000</td>\n",
       "      <td>10.280000</td>\n",
       "      <td>1857.250000</td>\n",
       "      <td>334.000000</td>\n",
       "      <td>0.982200</td>\n",
       "      <td>0.549579</td>\n",
       "    </tr>\n",
       "    <tr>\n",
       "      <th>max</th>\n",
       "      <td>5.000000</td>\n",
       "      <td>1.405555e+09</td>\n",
       "      <td>8773.000000</td>\n",
       "      <td>1.000000</td>\n",
       "      <td>34.419100</td>\n",
       "      <td>129.200000</td>\n",
       "      <td>134.270000</td>\n",
       "      <td>24293.000000</td>\n",
       "      <td>4497.000000</td>\n",
       "      <td>1.000000</td>\n",
       "      <td>1.000000</td>\n",
       "    </tr>\n",
       "  </tbody>\n",
       "</table>\n",
       "</div>"
      ],
      "text/plain": [
       "            overall  unixReviewTime  Review_Interval_Days   usefulScore  \\\n",
       "count  10000.000000    1.000000e+04          10000.000000  10000.000000   \n",
       "mean       3.860500    1.246915e+09           5219.118000      0.622956   \n",
       "std        1.327183    1.180323e+08           1366.115021      0.368580   \n",
       "min        1.000000    9.398592e+08           3383.000000      0.000000   \n",
       "25%        3.000000    1.164240e+09           4022.000000      0.333333   \n",
       "50%        4.000000    1.274832e+09           4896.000000      0.700000   \n",
       "75%        5.000000    1.350346e+09           6176.000000      1.000000   \n",
       "max        5.000000    1.405555e+09           8773.000000      1.000000   \n",
       "\n",
       "       Readability_smog  Readability_flesch  Readability_Gunning  \\\n",
       "count      10000.000000        10000.000000         10000.000000   \n",
       "mean           7.876706            7.014770             9.076848   \n",
       "std            2.134045            4.207117             4.269959   \n",
       "min            0.000000           -3.500000             0.400000   \n",
       "25%            6.742158            4.900000             7.030000   \n",
       "50%            7.957252            6.500000             8.560000   \n",
       "75%            9.112423            8.300000            10.280000   \n",
       "max           34.419100          129.200000           134.270000   \n",
       "\n",
       "       Readability_char_count    Word_Count      Polarity  Subjectivity  \n",
       "count            10000.000000  10000.000000  10000.000000  10000.000000  \n",
       "mean              1470.473100    265.669100      0.569526      0.502350  \n",
       "std               1811.822851    322.856658      0.643653      0.097433  \n",
       "min                 14.000000      1.000000     -0.999900      0.000000  \n",
       "25%                373.750000     70.000000      0.460250      0.453432  \n",
       "50%                858.000000    158.000000      0.916000      0.500000  \n",
       "75%               1857.250000    334.000000      0.982200      0.549579  \n",
       "max              24293.000000   4497.000000      1.000000      1.000000  "
      ]
     },
     "execution_count": 26,
     "metadata": {},
     "output_type": "execute_result"
    }
   ],
   "source": [
    "sample_data.describe()"
   ]
  },
  {
   "cell_type": "code",
   "execution_count": 27,
   "metadata": {},
   "outputs": [
    {
     "data": {
      "text/plain": [
       "0.000000    1556\n",
       "0.006329       1\n",
       "0.011236       1\n",
       "0.012987       1\n",
       "0.013158       1\n",
       "            ... \n",
       "0.988095       1\n",
       "0.988372       2\n",
       "0.990099       1\n",
       "0.990291       1\n",
       "1.000000    3220\n",
       "Name: usefulScore, Length: 620, dtype: int64"
      ]
     },
     "execution_count": 27,
     "metadata": {},
     "output_type": "execute_result"
    }
   ],
   "source": [
    "import seaborn as sns\n",
    "import matplotlib.pyplot as plt\n",
    "b = sample_data.usefulScore.value_counts().sort_index()\n",
    "b\n",
    "\n"
   ]
  },
  {
   "cell_type": "code",
   "execution_count": 28,
   "metadata": {},
   "outputs": [
    {
     "data": {
      "text/plain": [
       "(-0.001, 0.1]    1688\n",
       "(0.1, 0.2]        288\n",
       "(0.2, 0.3]        341\n",
       "(0.3, 0.4]        531\n",
       "(0.4, 0.5]       1108\n",
       "(0.5, 0.6]        336\n",
       "(0.6, 0.7]        733\n",
       "(0.7, 0.8]        802\n",
       "(0.8, 0.9]        571\n",
       "(0.9, 1.0]       3602\n",
       "Name: usefulScore, dtype: int64"
      ]
     },
     "execution_count": 28,
     "metadata": {},
     "output_type": "execute_result"
    }
   ],
   "source": [
    "bins = pd.cut(sample_data['usefulScore'], bins=10)\n",
    "\n",
    "# 计算每个区间的计数\n",
    "counts = bins.value_counts().sort_index()\n",
    "counts"
   ]
  },
  {
   "cell_type": "code",
   "execution_count": 29,
   "metadata": {},
   "outputs": [
    {
     "data": {
      "image/png": "[encoded data removed]",
      "text/plain": [
       "<Figure size 1000x600 with 1 Axes>"
      ]
     },
     "metadata": {},
     "output_type": "display_data"
    }
   ],
   "source": [
    "import pandas as pd\n",
    "import seaborn as sns\n",
    "import matplotlib.pyplot as plt\n",
    "\n",
    "# 假设 sample_data 包含了你的数据\n",
    "# 例如：sample_data = pd.read_csv('your_data.csv')\n",
    "\n",
    "# 将 usefulScore 列的值分成十个区间\n",
    "bins = pd.cut(sample_data['usefulScore'], bins=10)\n",
    "\n",
    "# 计算每个区间的计数\n",
    "counts = bins.value_counts().sort_index()\n",
    "\n",
    "# 绘制 barplot\n",
    "plt.figure(figsize=(10, 6))\n",
    "sns.barplot(x=counts.index, y=counts.values)\n",
    "plt.xlabel('usefulScore')\n",
    "plt.ylabel('Count')\n",
    "plt.title('Distribution of usefulScore')\n",
    "plt.xticks(rotation=45)\n",
    "plt.show()\n"
   ]
  },
  {
   "cell_type": "markdown",
   "metadata": {},
   "source": [
    "# 样本不均衡，AUC=0.5\n"
   ]
  },
  {
   "cell_type": "code",
   "execution_count": 30,
   "metadata": {},
   "outputs": [
    {
     "data": {
      "text/plain": [
       "0.000000    1556\n",
       "0.006329       1\n",
       "0.011236       1\n",
       "0.012987       1\n",
       "0.013158       1\n",
       "            ... \n",
       "0.988095       1\n",
       "0.988372       2\n",
       "0.990099       1\n",
       "0.990291       1\n",
       "1.000000    3220\n",
       "Name: usefulScore, Length: 620, dtype: int64"
      ]
     },
     "execution_count": 30,
     "metadata": {},
     "output_type": "execute_result"
    }
   ],
   "source": [
    "b"
   ]
  },
  {
   "cell_type": "code",
   "execution_count": 31,
   "metadata": {},
   "outputs": [],
   "source": [
    "from sklearn.preprocessing import MinMaxScaler\n",
    "\n",
    "# 初始化MinMaxScaler\n",
    "scaler = MinMaxScaler()\n"
   ]
  },
  {
   "cell_type": "code",
   "execution_count": 32,
   "metadata": {},
   "outputs": [
    {
     "data": {
      "image/png": "[encoded data removed]",
      "text/plain": [
       "<Figure size 800x600 with 2 Axes>"
      ]
     },
     "metadata": {},
     "output_type": "display_data"
    }
   ],
   "source": [
    "import seaborn as sns\n",
    "import matplotlib.pyplot as plt\n",
    "from sklearn.ensemble import RandomForestRegressor\n",
    "\n",
    "# Assuming 'data' contains the features and labels (overall, Review_Interval_Days, Readability, Polarity)\n",
    "# X contains the features, y contains the labels\n",
    "\n",
    "\n",
    "y = sample_data['usefulScore'].values\n",
    "X = sample_data.drop(columns='usefulScore')\n",
    "\n",
    "#######数不需要归一化\n",
    "\n",
    "# Initialize the RandomForestRegressor\n",
    "rf_model = RandomForestRegressor(n_estimators=100, random_state=42)\n",
    "\n",
    "# Fit the model\n",
    "rf_model.fit(X, y)\n",
    "\n",
    "# Get feature importances\n",
    "feature_importances = rf_model.feature_importances_\n",
    "\n",
    "# Create a DataFrame with feature names and their importances\n",
    "importance_df = pd.DataFrame({'Feature': sample_data.columns.tolist().remove('usefulScore'),\n",
    "                              'Importance': feature_importances})\n",
    "\n",
    "\n",
    "# Create the heatmap\n",
    "plt.figure(figsize=(8, 6))\n",
    "heatmap_data = importance_df.set_index('Feature')['Importance'].sort_values(ascending=False).to_frame().T\n",
    "sns.heatmap(heatmap_data, cmap='viridis', annot=True, fmt='.3f')\n",
    "plt.title('Feature Importance Heatmap')\n",
    "plt.show()"
   ]
  },
  {
   "cell_type": "code",
   "execution_count": 33,
   "metadata": {},
   "outputs": [],
   "source": [
    "# 不用交叉验证，没必要，时间长，结果差不多\n",
    "import numpy as np\n",
    "from sklearn.model_selection import train_test_split\n",
    "from sklearn.ensemble import RandomForestClassifier\n",
    "from sklearn.model_selection import train_test_split\n",
    "from sklearn.metrics import accuracy_score, classification_report\n",
    "\n",
    "\n",
    "y = sample_data['usefulScore'].values\n",
    "X = sample_data.drop(columns='usefulScore')\n",
    "X_train, X_test, y_train, y_test = train_test_split(X, y, test_size=0.2, random_state=42)\n",
    "\n"
   ]
  },
  {
   "cell_type": "code",
   "execution_count": 34,
   "metadata": {},
   "outputs": [],
   "source": [
    "from keras.models import Sequential\n",
    "from keras.layers import Dense\n",
    "from sklearn.model_selection import cross_val_score\n",
    "threshold = 0.4"
   ]
  },
  {
   "cell_type": "code",
   "execution_count": 35,
   "metadata": {},
   "outputs": [
    {
     "data": {
      "text/plain": [
       "1.000000    3220\n",
       "0.000000    1556\n",
       "0.500000     948\n",
       "0.666667     494\n",
       "0.333333     330\n",
       "            ... \n",
       "0.897436       1\n",
       "0.901408       1\n",
       "0.899395       1\n",
       "0.890710       1\n",
       "0.643678       1\n",
       "Name: usefulScore, Length: 620, dtype: int64"
      ]
     },
     "execution_count": 35,
     "metadata": {},
     "output_type": "execute_result"
    }
   ],
   "source": [
    "#################处理样本不平衡\n",
    "\n",
    "from sklearn.utils import resample\n",
    "\n",
    "# 将数据分成特征 (X) 和目标 (y)\n",
    "# 替换成你的特征数据\n",
    "y = sample_data['usefulScore']  # 替换成你的目标数据\n",
    "\n",
    "y.value_counts()\n"
   ]
  },
  {
   "cell_type": "markdown",
   "metadata": {},
   "source": [
    "# 平衡样本"
   ]
  },
  {
   "cell_type": "code",
   "execution_count": 36,
   "metadata": {},
   "outputs": [],
   "source": [
    "\n",
    "# 将数据分成正例和负例\n",
    "positive_samples = sample_data[y > threshold]\n",
    "negative_samples = sample_data[y <= threshold]\n",
    "\n",
    "# 从负例中随机采样生成合成样本\n",
    "synthetic_samples = resample(negative_samples, n_samples=len(positive_samples), random_state=42)\n",
    "\n",
    "# 将正例和合成样本合并\n",
    "balanced_data = pd.concat([positive_samples, synthetic_samples])\n",
    "\n",
    "# balanced_data 包含了处理后的平衡数据，你可以将其用于训练模型\n",
    "X = balanced_data.drop(columns='usefulScore')\n",
    "y = balanced_data['usefulScore'].values\n",
    "\n",
    "X_train, X_test, y_train, y_test = train_test_split(X, y, test_size=0.2, random_state=42)\n",
    "\n",
    "y_train_binary = (y_train > threshold).astype(int)\n",
    "y_test_binary = (y_test > threshold).astype(int)"
   ]
  },
  {
   "cell_type": "code",
   "execution_count": 37,
   "metadata": {},
   "outputs": [
    {
     "data": {
      "text/plain": [
       "0.000000    3853\n",
       "1.000000    3220\n",
       "0.500000     948\n",
       "0.333333     840\n",
       "0.666667     494\n",
       "            ... \n",
       "0.822581       1\n",
       "0.627027       1\n",
       "0.915789       1\n",
       "0.814815       1\n",
       "0.015385       1\n",
       "Name: usefulScore, Length: 611, dtype: int64"
      ]
     },
     "execution_count": 37,
     "metadata": {},
     "output_type": "execute_result"
    }
   ],
   "source": [
    "balanced_data['usefulScore'].value_counts()"
   ]
  },
  {
   "cell_type": "code",
   "execution_count": 38,
   "metadata": {},
   "outputs": [
    {
     "name": "stdout",
     "output_type": "stream",
     "text": [
      "Cross-validated Accuracy: [0.84971603 0.82743556 0.83704675 0.83522727 0.83784965]\n",
      "Mean Accuracy: 0.8374550525926672\n",
      "Test Accuracy: 0.8650821391121986\n"
     ]
    }
   ],
   "source": [
    "\n",
    "##################随机森林\n",
    "\n",
    "##过拟合，减少树的数量\n",
    "\n",
    "rf_model = RandomForestClassifier(n_estimators=20, random_state=42)  #100->10\n",
    "\n",
    "# 使用交叉验证评估模型性能\n",
    "# cv 参数指定了将数据集分成几份进行交叉验证，这里使用了 5 折交叉验证\n",
    "# scoring 参数指定了评估指标，比如 'accuracy' 代表准确率\n",
    "scores = cross_val_score(rf_model, X_train, y_train_binary, cv=5, scoring='accuracy')\n",
    "rf_model.fit(X_train,y_train_binary)\n",
    "\n",
    "# 输出交叉验证的结果\n",
    "print(\"Cross-validated Accuracy:\", scores)\n",
    "print(\"Mean Accuracy:\", scores.mean())\n",
    "\n",
    "# 在测试集上评估模型性能\n",
    "accuracy = rf_model.score(X_test, y_test_binary)\n",
    "print(f'Test Accuracy: {accuracy}')"
   ]
  },
  {
   "cell_type": "code",
   "execution_count": 39,
   "metadata": {},
   "outputs": [
    {
     "data": {
      "text/plain": [
       "0.5022719328905977"
      ]
     },
     "execution_count": 39,
     "metadata": {},
     "output_type": "execute_result"
    }
   ],
   "source": [
    "y_test_binary.mean()"
   ]
  },
  {
   "cell_type": "code",
   "execution_count": 40,
   "metadata": {},
   "outputs": [
    {
     "name": "stdout",
     "output_type": "stream",
     "text": [
      "AUC Score: 0.8654351195921591\n",
      "0.13593509674578252\n"
     ]
    }
   ],
   "source": [
    "from sklearn.metrics import r2_score\n",
    "from sklearn.metrics import roc_auc_score\n",
    "# 使用 roc_auc_score 函数计算AUC\n",
    "y_pred = rf_model.predict(X_test)\n",
    "y_pred_binary = (rf_model.predict(X_test) > threshold).astype(int)\n",
    "auc_score = roc_auc_score(y_test_binary, y_pred_binary)\n",
    "\n",
    "print(f\"AUC Score: {auc_score}\")\n",
    "r2 = r2_score(y_test, y_pred)\n",
    "print(r2)"
   ]
  },
  {
   "cell_type": "markdown",
   "metadata": {},
   "source": [
    "# 每个变量"
   ]
  },
  {
   "cell_type": "code",
   "execution_count": 41,
   "metadata": {},
   "outputs": [
    {
     "data": {
      "text/plain": [
       "['AUC for overall: 0.5977660524813712 ',\n",
       " 'AUC for unixReviewTime: 0.6959882968575293 ',\n",
       " 'AUC for Review_Interval_Days: 0.6959787674071294 ',\n",
       " 'AUC for Readability_smog: 0.6436787001634179 ',\n",
       " 'AUC for Readability_flesch: 0.5824578456209488 ',\n",
       " 'AUC for Readability_Gunning: 0.6383595564260749 ',\n",
       " 'AUC for Readability_char_count: 0.7019986922661914 ',\n",
       " 'AUC for Word_Count: 0.6355139159297226 ',\n",
       " 'AUC for Polarity: 0.6955005844729579 ',\n",
       " 'AUC for Subjectivity: 0.7870136070777916 ']"
      ]
     },
     "execution_count": 41,
     "metadata": {},
     "output_type": "execute_result"
    }
   ],
   "source": [
    "\n",
    "\n",
    "# Assuming 'data' contains the features and labels (overall, Review_Interval_Days, Readability, Polarity)\n",
    "# X contains the features, y contains the labels\n",
    "features = sample_data.columns.tolist()\n",
    "features.remove('usefulScore')\n",
    "outcome = []\n",
    "threshold = 0.4\n",
    "\n",
    "for i in features:\n",
    "    X_train1 = X_train[[i]].values.reshape(-1, 1)  # Use the feature 'i'\n",
    "    X_test1 = X_test[[i]].values.reshape(-1, 1) \n",
    "\n",
    "    # Convert usefulScore to binary labels\n",
    "    y_train_binary = (y_train > threshold).astype(int)\n",
    "    # Train the model\n",
    "    rf_model.fit(X_train1, y_train_binary)\n",
    "    y_test_binary = (y_test > threshold).astype(int)\n",
    "    y_pred_binary = (rf_model.predict(X_test1) > threshold).astype(int)\n",
    "    y_pred = rf_model.predict(X_test1) \n",
    "\n",
    "    # Evaluate the model\n",
    "    accuracy = roc_auc_score(y_test_binary, y_pred_binary)\n",
    "    r2 = r2_score(y_test, y_pred)\n",
    "    outcome.append(f'AUC for {i}: {accuracy} ')\n",
    "outcome"
   ]
  },
  {
   "cell_type": "code",
   "execution_count": null,
   "metadata": {},
   "outputs": [],
   "source": []
  }
 ],
 "metadata": {
  "kernelspec": {
   "display_name": "Python 3",
   "language": "python",
   "name": "python3"
  },
  "language_info": {
   "codemirror_mode": {
    "name": "ipython",
    "version": 3
   },
   "file_extension": ".py",
   "mimetype": "text/x-python",
   "name": "python",
   "nbconvert_exporter": "python",
   "pygments_lexer": "ipython3",
   "version": "3.9.13"
  }
 },
 "nbformat": 4,
 "nbformat_minor": 2
}
