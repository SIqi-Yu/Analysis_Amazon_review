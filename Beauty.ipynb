{
 "cells": [
  {
   "cell_type": "code",
   "execution_count": 1,
   "metadata": {},
   "outputs": [
    {
     "name": "stderr",
     "output_type": "stream",
     "text": [
      "[nltk_data] Downloading package stopwords to\n",
      "[nltk_data]     C:\\Users\\15726\\AppData\\Roaming\\nltk_data...\n",
      "[nltk_data]   Package stopwords is already up-to-date!\n",
      "c:\\Users\\15726\\anaconda3\\envs\\ds-1\\lib\\site-packages\\gensim\\utils.py:1197: UserWarning: detected Windows; aliasing chunkize to chunkize_serial\n",
      "  warnings.warn(\"detected Windows; aliasing chunkize to chunkize_serial\")\n"
     ]
    }
   ],
   "source": [
    "\n",
    "import re\n",
    "import seaborn as sbn\n",
    "import nltk\n",
    "import tqdm as tqdm\n",
    "import sqlite3\n",
    "import pandas as pd\n",
    "import numpy as np\n",
    "\n",
    "import string\n",
    "from nltk.corpus import stopwords\n",
    "nltk.download('stopwords')\n",
    "stop = stopwords.words(\"english\")\n",
    "import matplotlib.pyplot as plt\n",
    "\n",
    "from sklearn.metrics import accuracy_score\n",
    "from sklearn.metrics import confusion_matrix\n",
    "from math import floor,ceil\n",
    "from nltk.stem.porter import PorterStemmer\n",
    "english_stemmer=nltk.stem.SnowballStemmer('english')\n",
    "\n",
    "from sklearn.feature_extraction.text import TfidfTransformer\n",
    "from sklearn.feature_extraction.text import CountVectorizer\n",
    "from sklearn.model_selection import train_test_split\n",
    "from sklearn.metrics import confusion_matrix\n",
    "from sklearn import metrics\n",
    "from sklearn.metrics import roc_curve, auc\n",
    "from sklearn.svm import LinearSVC\n",
    "from keras.models import Sequential\n",
    "from keras.layers import LSTM, Dense, Embedding\n",
    "from gensim import summarization\n",
    "from nltk.tokenize import word_tokenize\n",
    "from sklearn.feature_extraction.text import TfidfVectorizer\n",
    "from sklearn.model_selection import train_test_split\n",
    "\n",
    "\n"
   ]
  },
  {
   "cell_type": "code",
   "execution_count": 2,
   "metadata": {
    "collapsed": true
   },
   "outputs": [],
   "source": [
    "review_data_or = pd.read_json('Beauty_5.json',lines=True)"
   ]
  },
  {
   "cell_type": "code",
   "execution_count": 3,
   "metadata": {},
   "outputs": [
    {
     "data": {
      "text/plain": [
       "Index(['reviewerID', 'asin', 'reviewerName', 'helpful', 'reviewText',\n",
       "       'overall', 'summary', 'unixReviewTime', 'reviewTime'],\n",
       "      dtype='object')"
      ]
     },
     "execution_count": 3,
     "metadata": {},
     "output_type": "execute_result"
    }
   ],
   "source": [
    "review_data_or.columns"
   ]
  },
  {
   "cell_type": "code",
   "execution_count": 4,
   "metadata": {},
   "outputs": [
    {
     "name": "stdout",
     "output_type": "stream",
     "text": [
      "<class 'pandas.core.frame.DataFrame'>\n",
      "RangeIndex: 198502 entries, 0 to 198501\n",
      "Data columns (total 9 columns):\n",
      " #   Column          Non-Null Count   Dtype \n",
      "---  ------          --------------   ----- \n",
      " 0   reviewerID      198502 non-null  object\n",
      " 1   asin            198502 non-null  object\n",
      " 2   reviewerName    197116 non-null  object\n",
      " 3   helpful         198502 non-null  object\n",
      " 4   reviewText      198502 non-null  object\n",
      " 5   overall         198502 non-null  int64 \n",
      " 6   summary         198502 non-null  object\n",
      " 7   unixReviewTime  198502 non-null  int64 \n",
      " 8   reviewTime      198502 non-null  object\n",
      "dtypes: int64(2), object(7)\n",
      "memory usage: 13.6+ MB\n"
     ]
    }
   ],
   "source": [
    "review_data_or.info()\n"
   ]
  },
  {
   "cell_type": "code",
   "execution_count": 5,
   "metadata": {
    "collapsed": true
   },
   "outputs": [],
   "source": [
    "review_data=review_data_or.drop(['reviewerID','asin','reviewerName','summary'],axis=1)\n"
   ]
  },
  {
   "cell_type": "code",
   "execution_count": 6,
   "metadata": {},
   "outputs": [],
   "source": [
    "from datetime import datetime\n",
    "current_date = datetime.now()\n",
    "# Define a function to calculate the time difference in days\n",
    "def calculate_time_difference(review_time):\n",
    "    return (current_date - datetime.strptime(review_time, \"%m %d, %Y\")).days\n",
    "\n",
    "# Apply the function to the 'reviewTime' column and replace it\n",
    "review_data['Review_Interval_Days'] = review_data['reviewTime'].apply(calculate_time_difference)\n",
    "review_data = review_data.drop(['reviewTime'],axis=1)\n"
   ]
  },
  {
   "cell_type": "code",
   "execution_count": 7,
   "metadata": {},
   "outputs": [],
   "source": [
    "review_data['reviewText'] = review_data['reviewText'].astype('string')\n"
   ]
  },
  {
   "cell_type": "code",
   "execution_count": 8,
   "metadata": {},
   "outputs": [
    {
     "data": {
      "text/html": [
       "<div>\n",
       "<style scoped>\n",
       "    .dataframe tbody tr th:only-of-type {\n",
       "        vertical-align: middle;\n",
       "    }\n",
       "\n",
       "    .dataframe tbody tr th {\n",
       "        vertical-align: top;\n",
       "    }\n",
       "\n",
       "    .dataframe thead th {\n",
       "        text-align: right;\n",
       "    }\n",
       "</style>\n",
       "<table border=\"1\" class=\"dataframe\">\n",
       "  <thead>\n",
       "    <tr style=\"text-align: right;\">\n",
       "      <th></th>\n",
       "      <th>helpful</th>\n",
       "      <th>reviewText</th>\n",
       "      <th>overall</th>\n",
       "      <th>unixReviewTime</th>\n",
       "      <th>Review_Interval_Days</th>\n",
       "    </tr>\n",
       "  </thead>\n",
       "  <tbody>\n",
       "    <tr>\n",
       "      <th>0</th>\n",
       "      <td>[3, 4]</td>\n",
       "      <td>Very oily and creamy. Not at all what I expect...</td>\n",
       "      <td>1</td>\n",
       "      <td>1391040000</td>\n",
       "      <td>3551</td>\n",
       "    </tr>\n",
       "    <tr>\n",
       "      <th>1</th>\n",
       "      <td>[1, 1]</td>\n",
       "      <td>This palette was a decent price and I was look...</td>\n",
       "      <td>3</td>\n",
       "      <td>1397779200</td>\n",
       "      <td>3473</td>\n",
       "    </tr>\n",
       "    <tr>\n",
       "      <th>2</th>\n",
       "      <td>[0, 1]</td>\n",
       "      <td>The texture of this concealer pallet is fantas...</td>\n",
       "      <td>4</td>\n",
       "      <td>1378425600</td>\n",
       "      <td>3697</td>\n",
       "    </tr>\n",
       "    <tr>\n",
       "      <th>3</th>\n",
       "      <td>[2, 2]</td>\n",
       "      <td>I really can't tell what exactly this thing is...</td>\n",
       "      <td>2</td>\n",
       "      <td>1386460800</td>\n",
       "      <td>3604</td>\n",
       "    </tr>\n",
       "    <tr>\n",
       "      <th>4</th>\n",
       "      <td>[0, 0]</td>\n",
       "      <td>It was a little smaller than I expected, but t...</td>\n",
       "      <td>3</td>\n",
       "      <td>1382140800</td>\n",
       "      <td>3654</td>\n",
       "    </tr>\n",
       "  </tbody>\n",
       "</table>\n",
       "</div>"
      ],
      "text/plain": [
       "  helpful                                         reviewText  overall  \\\n",
       "0  [3, 4]  Very oily and creamy. Not at all what I expect...        1   \n",
       "1  [1, 1]  This palette was a decent price and I was look...        3   \n",
       "2  [0, 1]  The texture of this concealer pallet is fantas...        4   \n",
       "3  [2, 2]  I really can't tell what exactly this thing is...        2   \n",
       "4  [0, 0]  It was a little smaller than I expected, but t...        3   \n",
       "\n",
       "   unixReviewTime  Review_Interval_Days  \n",
       "0      1391040000                  3551  \n",
       "1      1397779200                  3473  \n",
       "2      1378425600                  3697  \n",
       "3      1386460800                  3604  \n",
       "4      1382140800                  3654  "
      ]
     },
     "execution_count": 8,
     "metadata": {},
     "output_type": "execute_result"
    }
   ],
   "source": [
    "review_data.head()"
   ]
  },
  {
   "cell_type": "code",
   "execution_count": 9,
   "metadata": {},
   "outputs": [
    {
     "name": "stderr",
     "output_type": "stream",
     "text": [
      "C:\\Users\\15726\\AppData\\Local\\Temp\\ipykernel_8820\\3796216857.py:7: SettingWithCopyWarning: \n",
      "A value is trying to be set on a copy of a slice from a DataFrame.\n",
      "Try using .loc[row_indexer,col_indexer] = value instead\n",
      "\n",
      "See the caveats in the documentation: https://pandas.pydata.org/pandas-docs/stable/user_guide/indexing.html#returning-a-view-versus-a-copy\n",
      "  reviews[\"usefulScore\"] = (reviews[\"helpful\"]/reviews[\"total\"]).apply(lambda n: n if n > 0 else 0)\n"
     ]
    },
    {
     "data": {
      "text/html": [
       "<div>\n",
       "<style scoped>\n",
       "    .dataframe tbody tr th:only-of-type {\n",
       "        vertical-align: middle;\n",
       "    }\n",
       "\n",
       "    .dataframe tbody tr th {\n",
       "        vertical-align: top;\n",
       "    }\n",
       "\n",
       "    .dataframe thead th {\n",
       "        text-align: right;\n",
       "    }\n",
       "</style>\n",
       "<table border=\"1\" class=\"dataframe\">\n",
       "  <thead>\n",
       "    <tr style=\"text-align: right;\">\n",
       "      <th></th>\n",
       "      <th>reviewText</th>\n",
       "      <th>overall</th>\n",
       "      <th>unixReviewTime</th>\n",
       "      <th>Review_Interval_Days</th>\n",
       "      <th>usefulScore</th>\n",
       "    </tr>\n",
       "  </thead>\n",
       "  <tbody>\n",
       "    <tr>\n",
       "      <th>0</th>\n",
       "      <td>Very oily and creamy. Not at all what I expect...</td>\n",
       "      <td>1</td>\n",
       "      <td>1391040000</td>\n",
       "      <td>3551</td>\n",
       "      <td>0.750000</td>\n",
       "    </tr>\n",
       "    <tr>\n",
       "      <th>1</th>\n",
       "      <td>This palette was a decent price and I was look...</td>\n",
       "      <td>3</td>\n",
       "      <td>1397779200</td>\n",
       "      <td>3473</td>\n",
       "      <td>1.000000</td>\n",
       "    </tr>\n",
       "    <tr>\n",
       "      <th>2</th>\n",
       "      <td>The texture of this concealer pallet is fantas...</td>\n",
       "      <td>4</td>\n",
       "      <td>1378425600</td>\n",
       "      <td>3697</td>\n",
       "      <td>0.000000</td>\n",
       "    </tr>\n",
       "    <tr>\n",
       "      <th>3</th>\n",
       "      <td>I really can't tell what exactly this thing is...</td>\n",
       "      <td>2</td>\n",
       "      <td>1386460800</td>\n",
       "      <td>3604</td>\n",
       "      <td>1.000000</td>\n",
       "    </tr>\n",
       "    <tr>\n",
       "      <th>5</th>\n",
       "      <td>I was very happy to get this palette, now I wi...</td>\n",
       "      <td>5</td>\n",
       "      <td>1365984000</td>\n",
       "      <td>3841</td>\n",
       "      <td>0.500000</td>\n",
       "    </tr>\n",
       "    <tr>\n",
       "      <th>6</th>\n",
       "      <td>PLEASE DONT DO IT! this just rachett the palet...</td>\n",
       "      <td>1</td>\n",
       "      <td>1376611200</td>\n",
       "      <td>3718</td>\n",
       "      <td>0.333333</td>\n",
       "    </tr>\n",
       "    <tr>\n",
       "      <th>7</th>\n",
       "      <td>Chalky,Not Pigmented,Wears off easily,Not a Co...</td>\n",
       "      <td>2</td>\n",
       "      <td>1378252800</td>\n",
       "      <td>3699</td>\n",
       "      <td>0.000000</td>\n",
       "    </tr>\n",
       "    <tr>\n",
       "      <th>12</th>\n",
       "      <td>I bought this product about 3 months ago, I fi...</td>\n",
       "      <td>5</td>\n",
       "      <td>1390435200</td>\n",
       "      <td>3558</td>\n",
       "      <td>0.000000</td>\n",
       "    </tr>\n",
       "    <tr>\n",
       "      <th>14</th>\n",
       "      <td>i got this to get rid of a scar and it did jus...</td>\n",
       "      <td>5</td>\n",
       "      <td>1392681600</td>\n",
       "      <td>3532</td>\n",
       "      <td>0.000000</td>\n",
       "    </tr>\n",
       "    <tr>\n",
       "      <th>16</th>\n",
       "      <td>I order this cream along with their soap. It a...</td>\n",
       "      <td>5</td>\n",
       "      <td>1379116800</td>\n",
       "      <td>3689</td>\n",
       "      <td>0.500000</td>\n",
       "    </tr>\n",
       "  </tbody>\n",
       "</table>\n",
       "</div>"
      ],
      "text/plain": [
       "                                           reviewText  overall  \\\n",
       "0   Very oily and creamy. Not at all what I expect...        1   \n",
       "1   This palette was a decent price and I was look...        3   \n",
       "2   The texture of this concealer pallet is fantas...        4   \n",
       "3   I really can't tell what exactly this thing is...        2   \n",
       "5   I was very happy to get this palette, now I wi...        5   \n",
       "6   PLEASE DONT DO IT! this just rachett the palet...        1   \n",
       "7   Chalky,Not Pigmented,Wears off easily,Not a Co...        2   \n",
       "12  I bought this product about 3 months ago, I fi...        5   \n",
       "14  i got this to get rid of a scar and it did jus...        5   \n",
       "16  I order this cream along with their soap. It a...        5   \n",
       "\n",
       "    unixReviewTime  Review_Interval_Days  usefulScore  \n",
       "0       1391040000                  3551     0.750000  \n",
       "1       1397779200                  3473     1.000000  \n",
       "2       1378425600                  3697     0.000000  \n",
       "3       1386460800                  3604     1.000000  \n",
       "5       1365984000                  3841     0.500000  \n",
       "6       1376611200                  3718     0.333333  \n",
       "7       1378252800                  3699     0.000000  \n",
       "12      1390435200                  3558     0.000000  \n",
       "14      1392681600                  3532     0.000000  \n",
       "16      1379116800                  3689     0.500000  "
      ]
     },
     "execution_count": 9,
     "metadata": {},
     "output_type": "execute_result"
    }
   ],
   "source": [
    "reviews = review_data\n",
    "\n",
    "reviews[['helpful','total']] = pd.DataFrame(reviews.helpful.values.tolist(), index=reviews.index)\n",
    "############删掉没有评价是否有用的评论############################\n",
    "reviews = reviews[reviews['total'] > 0]\n",
    "#reviews[\"sentiment\"] = reviews[\"overall\"].apply(lambda score: 1 if score > 3 else 1)\n",
    "reviews[\"usefulScore\"] = (reviews[\"helpful\"]/reviews[\"total\"]).apply(lambda n: n if n > 0 else 0)\n",
    "#.apply(lambda n: \"useful\" if n > 0.8 else \"useless\")\n",
    "\n",
    "review_data = reviews.drop(['helpful','total'],axis=1)\n",
    "review_data.head(10)\n"
   ]
  },
  {
   "cell_type": "code",
   "execution_count": 10,
   "metadata": {},
   "outputs": [
    {
     "name": "stdout",
     "output_type": "stream",
     "text": [
      "5    46573\n",
      "4    15709\n",
      "3    10219\n",
      "1     6999\n",
      "2     6148\n",
      "Name: overall, dtype: int64\n"
     ]
    }
   ],
   "source": [
    "a = review_data['overall'].value_counts()\n",
    "print(a)"
   ]
  },
  {
   "cell_type": "markdown",
   "metadata": {},
   "source": [
    "# Data Cleaning"
   ]
  },
  {
   "cell_type": "code",
   "execution_count": 11,
   "metadata": {},
   "outputs": [
    {
     "data": {
      "text/plain": [
       "22"
      ]
     },
     "execution_count": 11,
     "metadata": {},
     "output_type": "execute_result"
    }
   ],
   "source": [
    "count = 0\n",
    "for i in review_data['reviewText']:\n",
    "    if i == '':\n",
    "        \n",
    "        count = count+1\n",
    "count"
   ]
  },
  {
   "cell_type": "code",
   "execution_count": 12,
   "metadata": {},
   "outputs": [],
   "source": [
    "review_data = review_data[review_data['reviewText'] != '']"
   ]
  },
  {
   "cell_type": "code",
   "execution_count": 13,
   "metadata": {},
   "outputs": [
    {
     "name": "stderr",
     "output_type": "stream",
     "text": [
      "[nltk_data] Downloading package punkt to\n",
      "[nltk_data]     C:\\Users\\15726\\AppData\\Roaming\\nltk_data...\n",
      "[nltk_data]   Package punkt is already up-to-date!\n"
     ]
    }
   ],
   "source": [
    "import nltk\n",
    "#nlp = spacy.load(\"en_core_web_sm\")\n",
    "# 下载NLTK的punkt句子分割模型（只需要执行一次）\n",
    "nltk.download('punkt')\n",
    "\n",
    "from nltk.tokenize import sent_tokenize\n",
    "\n",
    "def split_sentences(text):\n",
    "\n",
    "  try:\n",
    "   punctuation = ['.', '!', '?']\n",
    "    \n",
    "        # 去除句子末尾的空格\n",
    "   text = text.rstrip()\n",
    "    \n",
    "     # 检查句末是否有标点符号\n",
    "   if text[-1] not in punctuation:\n",
    "        # 如果没有标点符号，就添加一个句号\n",
    "      text = f'{text}.'\n",
    "   #sentences = sent_tokenize(text)\n",
    "\n",
    "   return text\n",
    "  except Exception as e:\n",
    "    print(f\"Error: {e}, Text: {text}\")\n",
    "\n",
    "\n",
    "review_data['reviewText']= review_data['reviewText'].apply(split_sentences)\n",
    "#sample =split_sentences( review_data['reviewText'][9827])\n",
    "#sample\n"
   ]
  },
  {
   "cell_type": "code",
   "execution_count": 14,
   "metadata": {},
   "outputs": [
    {
     "data": {
      "text/html": [
       "<div>\n",
       "<style scoped>\n",
       "    .dataframe tbody tr th:only-of-type {\n",
       "        vertical-align: middle;\n",
       "    }\n",
       "\n",
       "    .dataframe tbody tr th {\n",
       "        vertical-align: top;\n",
       "    }\n",
       "\n",
       "    .dataframe thead th {\n",
       "        text-align: right;\n",
       "    }\n",
       "</style>\n",
       "<table border=\"1\" class=\"dataframe\">\n",
       "  <thead>\n",
       "    <tr style=\"text-align: right;\">\n",
       "      <th></th>\n",
       "      <th>reviewText</th>\n",
       "      <th>overall</th>\n",
       "      <th>unixReviewTime</th>\n",
       "      <th>Review_Interval_Days</th>\n",
       "      <th>usefulScore</th>\n",
       "    </tr>\n",
       "  </thead>\n",
       "  <tbody>\n",
       "    <tr>\n",
       "      <th>0</th>\n",
       "      <td>Very oily and creamy. Not at all what I expect...</td>\n",
       "      <td>1</td>\n",
       "      <td>1391040000</td>\n",
       "      <td>3551</td>\n",
       "      <td>0.75</td>\n",
       "    </tr>\n",
       "    <tr>\n",
       "      <th>1</th>\n",
       "      <td>This palette was a decent price and I was look...</td>\n",
       "      <td>3</td>\n",
       "      <td>1397779200</td>\n",
       "      <td>3473</td>\n",
       "      <td>1.00</td>\n",
       "    </tr>\n",
       "    <tr>\n",
       "      <th>2</th>\n",
       "      <td>The texture of this concealer pallet is fantas...</td>\n",
       "      <td>4</td>\n",
       "      <td>1378425600</td>\n",
       "      <td>3697</td>\n",
       "      <td>0.00</td>\n",
       "    </tr>\n",
       "    <tr>\n",
       "      <th>3</th>\n",
       "      <td>I really can't tell what exactly this thing is...</td>\n",
       "      <td>2</td>\n",
       "      <td>1386460800</td>\n",
       "      <td>3604</td>\n",
       "      <td>1.00</td>\n",
       "    </tr>\n",
       "    <tr>\n",
       "      <th>5</th>\n",
       "      <td>I was very happy to get this palette, now I wi...</td>\n",
       "      <td>5</td>\n",
       "      <td>1365984000</td>\n",
       "      <td>3841</td>\n",
       "      <td>0.50</td>\n",
       "    </tr>\n",
       "  </tbody>\n",
       "</table>\n",
       "</div>"
      ],
      "text/plain": [
       "                                          reviewText  overall  unixReviewTime  \\\n",
       "0  Very oily and creamy. Not at all what I expect...        1      1391040000   \n",
       "1  This palette was a decent price and I was look...        3      1397779200   \n",
       "2  The texture of this concealer pallet is fantas...        4      1378425600   \n",
       "3  I really can't tell what exactly this thing is...        2      1386460800   \n",
       "5  I was very happy to get this palette, now I wi...        5      1365984000   \n",
       "\n",
       "   Review_Interval_Days  usefulScore  \n",
       "0                  3551         0.75  \n",
       "1                  3473         1.00  \n",
       "2                  3697         0.00  \n",
       "3                  3604         1.00  \n",
       "5                  3841         0.50  "
      ]
     },
     "execution_count": 14,
     "metadata": {},
     "output_type": "execute_result"
    }
   ],
   "source": [
    "review_data.head()"
   ]
  },
  {
   "cell_type": "markdown",
   "metadata": {},
   "source": [
    "# SMOG指数可读性分析\n",
    "SMOG指数是一种用于评估文本可读性的指标，它考虑了一个文本中的多音节词的数量。SMOG代表了“Simple Measure of Gobbledygook”（即“混乱简单度量”），是由罗伯特·克拉斯特（Robert Gunning）于1952年提出的。它旨在提供一个简单但有效的方法来估计一段文本的阅读难易程度。"
   ]
  },
  {
   "cell_type": "code",
   "execution_count": 15,
   "metadata": {},
   "outputs": [
    {
     "name": "stdout",
     "output_type": "stream",
     "text": [
      "<class 'pandas.core.frame.DataFrame'>\n",
      "Int64Index: 85626 entries, 0 to 198501\n",
      "Data columns (total 5 columns):\n",
      " #   Column                Non-Null Count  Dtype  \n",
      "---  ------                --------------  -----  \n",
      " 0   reviewText            85626 non-null  object \n",
      " 1   overall               85626 non-null  int64  \n",
      " 2   unixReviewTime        85626 non-null  int64  \n",
      " 3   Review_Interval_Days  85626 non-null  int64  \n",
      " 4   usefulScore           85626 non-null  float64\n",
      "dtypes: float64(1), int64(3), object(1)\n",
      "memory usage: 3.9+ MB\n"
     ]
    }
   ],
   "source": [
    "review_data.info()"
   ]
  },
  {
   "cell_type": "code",
   "execution_count": 16,
   "metadata": {},
   "outputs": [],
   "source": [
    "sample_data = review_data.sample(n=10000, random_state=42)"
   ]
  },
  {
   "cell_type": "code",
   "execution_count": 17,
   "metadata": {},
   "outputs": [
    {
     "data": {
      "text/html": [
       "<div>\n",
       "<style scoped>\n",
       "    .dataframe tbody tr th:only-of-type {\n",
       "        vertical-align: middle;\n",
       "    }\n",
       "\n",
       "    .dataframe tbody tr th {\n",
       "        vertical-align: top;\n",
       "    }\n",
       "\n",
       "    .dataframe thead th {\n",
       "        text-align: right;\n",
       "    }\n",
       "</style>\n",
       "<table border=\"1\" class=\"dataframe\">\n",
       "  <thead>\n",
       "    <tr style=\"text-align: right;\">\n",
       "      <th></th>\n",
       "      <th>reviewText</th>\n",
       "      <th>overall</th>\n",
       "      <th>unixReviewTime</th>\n",
       "      <th>Review_Interval_Days</th>\n",
       "      <th>usefulScore</th>\n",
       "    </tr>\n",
       "  </thead>\n",
       "  <tbody>\n",
       "    <tr>\n",
       "      <th>149098</th>\n",
       "      <td>About my hair:  Long (middle of back), natural...</td>\n",
       "      <td>5</td>\n",
       "      <td>1339459200</td>\n",
       "      <td>4148</td>\n",
       "      <td>1.00</td>\n",
       "    </tr>\n",
       "    <tr>\n",
       "      <th>19400</th>\n",
       "      <td>This worked great on my daughter's back. There...</td>\n",
       "      <td>4</td>\n",
       "      <td>1235606400</td>\n",
       "      <td>5350</td>\n",
       "      <td>1.00</td>\n",
       "    </tr>\n",
       "    <tr>\n",
       "      <th>7100</th>\n",
       "      <td>Live this perfume.  vanilla and sweet.  I will...</td>\n",
       "      <td>5</td>\n",
       "      <td>1400025600</td>\n",
       "      <td>3447</td>\n",
       "      <td>1.00</td>\n",
       "    </tr>\n",
       "    <tr>\n",
       "      <th>166257</th>\n",
       "      <td>As a teen I developed very oily skin that has ...</td>\n",
       "      <td>4</td>\n",
       "      <td>1361491200</td>\n",
       "      <td>3893</td>\n",
       "      <td>0.75</td>\n",
       "    </tr>\n",
       "    <tr>\n",
       "      <th>155894</th>\n",
       "      <td>The USpicy Crescent USND-1801 Nail Polish Drye...</td>\n",
       "      <td>5</td>\n",
       "      <td>1397692800</td>\n",
       "      <td>3474</td>\n",
       "      <td>1.00</td>\n",
       "    </tr>\n",
       "    <tr>\n",
       "      <th>...</th>\n",
       "      <td>...</td>\n",
       "      <td>...</td>\n",
       "      <td>...</td>\n",
       "      <td>...</td>\n",
       "      <td>...</td>\n",
       "    </tr>\n",
       "    <tr>\n",
       "      <th>98066</th>\n",
       "      <td>I have combination skin and ordered this produ...</td>\n",
       "      <td>1</td>\n",
       "      <td>1368662400</td>\n",
       "      <td>3810</td>\n",
       "      <td>0.50</td>\n",
       "    </tr>\n",
       "    <tr>\n",
       "      <th>184871</th>\n",
       "      <td>I'm not a beauty expert, but this is a great b...</td>\n",
       "      <td>5</td>\n",
       "      <td>1403136000</td>\n",
       "      <td>3411</td>\n",
       "      <td>1.00</td>\n",
       "    </tr>\n",
       "    <tr>\n",
       "      <th>152188</th>\n",
       "      <td>I was really excited to receive my wig, the re...</td>\n",
       "      <td>1</td>\n",
       "      <td>1357084800</td>\n",
       "      <td>3944</td>\n",
       "      <td>0.60</td>\n",
       "    </tr>\n",
       "    <tr>\n",
       "      <th>17021</th>\n",
       "      <td>I recently came across information on Madam Gr...</td>\n",
       "      <td>4</td>\n",
       "      <td>1351641600</td>\n",
       "      <td>4007</td>\n",
       "      <td>0.80</td>\n",
       "    </tr>\n",
       "    <tr>\n",
       "      <th>22418</th>\n",
       "      <td>My son and I both suffer with very dry skin, a...</td>\n",
       "      <td>5</td>\n",
       "      <td>1352592000</td>\n",
       "      <td>3996</td>\n",
       "      <td>0.75</td>\n",
       "    </tr>\n",
       "  </tbody>\n",
       "</table>\n",
       "<p>10000 rows × 5 columns</p>\n",
       "</div>"
      ],
      "text/plain": [
       "                                               reviewText  overall  \\\n",
       "149098  About my hair:  Long (middle of back), natural...        5   \n",
       "19400   This worked great on my daughter's back. There...        4   \n",
       "7100    Live this perfume.  vanilla and sweet.  I will...        5   \n",
       "166257  As a teen I developed very oily skin that has ...        4   \n",
       "155894  The USpicy Crescent USND-1801 Nail Polish Drye...        5   \n",
       "...                                                   ...      ...   \n",
       "98066   I have combination skin and ordered this produ...        1   \n",
       "184871  I'm not a beauty expert, but this is a great b...        5   \n",
       "152188  I was really excited to receive my wig, the re...        1   \n",
       "17021   I recently came across information on Madam Gr...        4   \n",
       "22418   My son and I both suffer with very dry skin, a...        5   \n",
       "\n",
       "        unixReviewTime  Review_Interval_Days  usefulScore  \n",
       "149098      1339459200                  4148         1.00  \n",
       "19400       1235606400                  5350         1.00  \n",
       "7100        1400025600                  3447         1.00  \n",
       "166257      1361491200                  3893         0.75  \n",
       "155894      1397692800                  3474         1.00  \n",
       "...                ...                   ...          ...  \n",
       "98066       1368662400                  3810         0.50  \n",
       "184871      1403136000                  3411         1.00  \n",
       "152188      1357084800                  3944         0.60  \n",
       "17021       1351641600                  4007         0.80  \n",
       "22418       1352592000                  3996         0.75  \n",
       "\n",
       "[10000 rows x 5 columns]"
      ]
     },
     "execution_count": 17,
     "metadata": {},
     "output_type": "execute_result"
    }
   ],
   "source": [
    "sample_data"
   ]
  },
  {
   "cell_type": "code",
   "execution_count": 18,
   "metadata": {},
   "outputs": [
    {
     "data": {
      "text/plain": [
       "149098    About my hair:  Long (middle of back), natural...\n",
       "19400     This worked great on my daughter's back. There...\n",
       "7100      Live this perfume.  vanilla and sweet.  I will...\n",
       "166257    As a teen I developed very oily skin that has ...\n",
       "155894    The USpicy Crescent USND-1801 Nail Polish Drye...\n",
       "                                ...                        \n",
       "98066     I have combination skin and ordered this produ...\n",
       "184871    I'm not a beauty expert, but this is a great b...\n",
       "152188    I was really excited to receive my wig, the re...\n",
       "17021     I recently came across information on Madam Gr...\n",
       "22418     My son and I both suffer with very dry skin, a...\n",
       "Name: reviewText, Length: 10000, dtype: object"
      ]
     },
     "execution_count": 18,
     "metadata": {},
     "output_type": "execute_result"
    }
   ],
   "source": [
    "sample_data.reviewText"
   ]
  },
  {
   "cell_type": "code",
   "execution_count": 19,
   "metadata": {},
   "outputs": [
    {
     "name": "stdout",
     "output_type": "stream",
     "text": [
      "Error calculating SMOG for text: Word to be hyphenated may have at most 100 characters./nMake your face smoother, look up younger, After use, your skin is smooth and soft,Wrinkle really disappear.Daily Resurfacing Disks and Deep Wrinkle Night Cream.it has a pleasant scent,It does seem to tingle a bit but not too much! My face feels super soft after using these and I notice that blemishes seem to disappear faster.&#20351;&#8203;&#20320;&#30340;&#8203;&#33225;&#26356;&#8203;&#24179;&#28369;&#8203;&#65292;&#30475;&#8203;&#36215;&#20358;&#8203;&#26356;&#24180;&#8203;&#36629;, &#20351;&#8203;&#29992;&#23427;&#8203;&#20497;, &#20320;&#8203;&#30340;&#30382;&#8203;&#33178;&#30475;&#8203;&#19978;&#21435;&#8203;&#26371;&#39023;&#8203;&#33879;&#26356;&#8203;&#8203;&#33287;&#38918;&#8203;&#26274;&#12290;&#8203;&#20320;&#21487;&#8203;&#20197;&#30495;&#8203;&#27491;&#24863;&#8203;&#21463;&#21040;&#8203;&#20320;&#30340;&#8203;&#33225;&#40657;&#8203;&#26001;&#28187;&#8203;&#23569;. &#20351;&#8203;&#29992;&#24460;, &#20320;&#8203;&#30340;&#30382;&#8203;&#33178;&#26159;&#8203;&#20809;&#28369;&#8203;&#65292;&#26580;&#8203;&#36575;&#65292;&#8203;&#32048;&#32011;&#8203;&#30495;&#30340;&#8203;&#28040;&#22833;&#8203;&#12290;&#27599;&#26085;&#25563;&#33178;&#21644;&#28145;&#23652;&#25239;&#30394;&#26202;&#38684;&#12290;&#23427;&#26377;&#19968;&#20491;&#24841;&#24555;&#30340;&#27683;&#21619;&#65292;&#20351;&#29992;&#36889;&#20123;&#20043;&#24460;, &#24863;&#35258;&#25105;&#30340;&#33225;&#36229;&#26580;&#21644;&#25105;&#27880;&#24847;&#21040;&#30340;&#29781;&#30133;&#20284;&#20046;&#28040;&#22833;&#24471;&#26356;&#24555;&#12290;.\n"
     ]
    }
   ],
   "source": [
    "from textatistic import Textatistic\n",
    "\n",
    "# 定义一个函数来计算SMOG指数\n",
    "def calculate_smog(text):\n",
    "    try:\n",
    "        stats = Textatistic(text)\n",
    "        return stats.smog_score\n",
    "    except Exception as e:\n",
    "        print(f\"Error calculating SMOG for text: {e}/n{text}\")\n",
    "        return 0\n",
    "\n",
    "# 示例用法\n",
    "readability_scores = []\n",
    "\n",
    "for i in sample_data.reviewText:\n",
    "    smog = calculate_smog(i)\n",
    "    readability_scores.append(smog)\n",
    "\n",
    "sample_data['Readability_smog'] = readability_scores\n"
   ]
  },
  {
   "cell_type": "code",
   "execution_count": 20,
   "metadata": {},
   "outputs": [],
   "source": [
    "from textstat import flesch_kincaid_grade, gunning_fog\n",
    "\n",
    "\n",
    "# 示例用法\n",
    "flesch_scores = []\n",
    "gunning_scores = []\n",
    "\n",
    "for i in sample_data.reviewText:\n",
    "    fk_score = flesch_kincaid_grade(i)\n",
    "    gf_score = gunning_fog(i)\n",
    "    flesch_scores.append(fk_score)\n",
    "    gunning_scores.append(gf_score)\n",
    "\n",
    "sample_data['Readability_flesch'] = flesch_scores\n",
    "sample_data['Readability_Gunning'] = gunning_scores"
   ]
  },
  {
   "cell_type": "code",
   "execution_count": 21,
   "metadata": {},
   "outputs": [],
   "source": [
    "###字符\n",
    "##单词数\n",
    "sample_data['Readability_char_count'] = sample_data['reviewText'].apply(len)\n",
    "\n",
    "# 计算单词数并添加为新列 'Word_Count'\n",
    "sample_data['Word_Count'] = sample_data['reviewText'].apply(lambda x: len(x.split()))\n"
   ]
  },
  {
   "cell_type": "markdown",
   "metadata": {},
   "source": [
    "## Test of SentimentIntensity Analysis极性分析\n"
   ]
  },
  {
   "cell_type": "code",
   "execution_count": 22,
   "metadata": {},
   "outputs": [],
   "source": [
    "from nltk.sentiment.vader import SentimentIntensityAnalyzer\n",
    "analyser = SentimentIntensityAnalyzer()\n",
    "#sample_review = review_data.reviewText[:10]\n",
    "Review_Polarity = []\n",
    "for test in sample_data.reviewText:\n",
    "    ss = analyser.polarity_scores(test) #极性分析\n",
    "    #for k in sorted(ss):\n",
    "        #print('{0}: {1}, '.format(k, ss[k]))\n",
    "    Review_Polarity.append(ss['compound'])\n",
    "    #print(test)\n",
    "Review_Polarity[:10]\n",
    "sample_data['Polarity'] = Review_Polarity"
   ]
  },
  {
   "cell_type": "markdown",
   "metadata": {},
   "source": [
    "# 主观性分析 TextBlob\n"
   ]
  },
  {
   "cell_type": "code",
   "execution_count": 23,
   "metadata": {},
   "outputs": [],
   "source": [
    "from textblob import TextBlob, Word, Blobber\n",
    "sample_data['Subjectivity'] = sample_data['reviewText'].apply(lambda x: TextBlob(x).sentiment[1])\n",
    "\n"
   ]
  },
  {
   "cell_type": "code",
   "execution_count": 24,
   "metadata": {},
   "outputs": [],
   "source": [
    "sample_data = sample_data.drop(['reviewText'],axis=1)"
   ]
  },
  {
   "cell_type": "code",
   "execution_count": 25,
   "metadata": {},
   "outputs": [
    {
     "data": {
      "text/html": [
       "<div>\n",
       "<style scoped>\n",
       "    .dataframe tbody tr th:only-of-type {\n",
       "        vertical-align: middle;\n",
       "    }\n",
       "\n",
       "    .dataframe tbody tr th {\n",
       "        vertical-align: top;\n",
       "    }\n",
       "\n",
       "    .dataframe thead th {\n",
       "        text-align: right;\n",
       "    }\n",
       "</style>\n",
       "<table border=\"1\" class=\"dataframe\">\n",
       "  <thead>\n",
       "    <tr style=\"text-align: right;\">\n",
       "      <th></th>\n",
       "      <th>overall</th>\n",
       "      <th>unixReviewTime</th>\n",
       "      <th>Review_Interval_Days</th>\n",
       "      <th>usefulScore</th>\n",
       "      <th>Readability_smog</th>\n",
       "      <th>Readability_flesch</th>\n",
       "      <th>Readability_Gunning</th>\n",
       "      <th>Readability_char_count</th>\n",
       "      <th>Word_Count</th>\n",
       "      <th>Polarity</th>\n",
       "      <th>Subjectivity</th>\n",
       "    </tr>\n",
       "  </thead>\n",
       "  <tbody>\n",
       "    <tr>\n",
       "      <th>149098</th>\n",
       "      <td>5</td>\n",
       "      <td>1339459200</td>\n",
       "      <td>4148</td>\n",
       "      <td>1.00</td>\n",
       "      <td>8.167269</td>\n",
       "      <td>6.3</td>\n",
       "      <td>6.78</td>\n",
       "      <td>1162</td>\n",
       "      <td>198</td>\n",
       "      <td>0.9932</td>\n",
       "      <td>0.551705</td>\n",
       "    </tr>\n",
       "    <tr>\n",
       "      <th>19400</th>\n",
       "      <td>4</td>\n",
       "      <td>1235606400</td>\n",
       "      <td>5350</td>\n",
       "      <td>1.00</td>\n",
       "      <td>7.168622</td>\n",
       "      <td>3.4</td>\n",
       "      <td>5.72</td>\n",
       "      <td>143</td>\n",
       "      <td>25</td>\n",
       "      <td>0.8779</td>\n",
       "      <td>0.570000</td>\n",
       "    </tr>\n",
       "    <tr>\n",
       "      <th>7100</th>\n",
       "      <td>5</td>\n",
       "      <td>1400025600</td>\n",
       "      <td>3447</td>\n",
       "      <td>1.00</td>\n",
       "      <td>6.427356</td>\n",
       "      <td>2.4</td>\n",
       "      <td>4.68</td>\n",
       "      <td>109</td>\n",
       "      <td>20</td>\n",
       "      <td>0.6908</td>\n",
       "      <td>0.550000</td>\n",
       "    </tr>\n",
       "    <tr>\n",
       "      <th>166257</th>\n",
       "      <td>4</td>\n",
       "      <td>1361491200</td>\n",
       "      <td>3893</td>\n",
       "      <td>0.75</td>\n",
       "      <td>9.725611</td>\n",
       "      <td>10.8</td>\n",
       "      <td>13.44</td>\n",
       "      <td>904</td>\n",
       "      <td>170</td>\n",
       "      <td>0.9783</td>\n",
       "      <td>0.344118</td>\n",
       "    </tr>\n",
       "    <tr>\n",
       "      <th>155894</th>\n",
       "      <td>5</td>\n",
       "      <td>1397692800</td>\n",
       "      <td>3474</td>\n",
       "      <td>1.00</td>\n",
       "      <td>7.348243</td>\n",
       "      <td>5.8</td>\n",
       "      <td>6.92</td>\n",
       "      <td>1361</td>\n",
       "      <td>250</td>\n",
       "      <td>0.9537</td>\n",
       "      <td>0.586243</td>\n",
       "    </tr>\n",
       "    <tr>\n",
       "      <th>...</th>\n",
       "      <td>...</td>\n",
       "      <td>...</td>\n",
       "      <td>...</td>\n",
       "      <td>...</td>\n",
       "      <td>...</td>\n",
       "      <td>...</td>\n",
       "      <td>...</td>\n",
       "      <td>...</td>\n",
       "      <td>...</td>\n",
       "      <td>...</td>\n",
       "      <td>...</td>\n",
       "    </tr>\n",
       "    <tr>\n",
       "      <th>98066</th>\n",
       "      <td>1</td>\n",
       "      <td>1368662400</td>\n",
       "      <td>3810</td>\n",
       "      <td>0.50</td>\n",
       "      <td>5.985473</td>\n",
       "      <td>4.2</td>\n",
       "      <td>6.34</td>\n",
       "      <td>250</td>\n",
       "      <td>47</td>\n",
       "      <td>-0.1815</td>\n",
       "      <td>0.400000</td>\n",
       "    </tr>\n",
       "    <tr>\n",
       "      <th>184871</th>\n",
       "      <td>5</td>\n",
       "      <td>1403136000</td>\n",
       "      <td>3411</td>\n",
       "      <td>1.00</td>\n",
       "      <td>9.188382</td>\n",
       "      <td>9.1</td>\n",
       "      <td>10.58</td>\n",
       "      <td>813</td>\n",
       "      <td>147</td>\n",
       "      <td>0.9420</td>\n",
       "      <td>0.398684</td>\n",
       "    </tr>\n",
       "    <tr>\n",
       "      <th>152188</th>\n",
       "      <td>1</td>\n",
       "      <td>1357084800</td>\n",
       "      <td>3944</td>\n",
       "      <td>0.60</td>\n",
       "      <td>7.793538</td>\n",
       "      <td>7.8</td>\n",
       "      <td>10.61</td>\n",
       "      <td>358</td>\n",
       "      <td>71</td>\n",
       "      <td>0.5849</td>\n",
       "      <td>0.673333</td>\n",
       "    </tr>\n",
       "    <tr>\n",
       "      <th>17021</th>\n",
       "      <td>4</td>\n",
       "      <td>1351641600</td>\n",
       "      <td>4007</td>\n",
       "      <td>0.80</td>\n",
       "      <td>11.088447</td>\n",
       "      <td>8.8</td>\n",
       "      <td>11.81</td>\n",
       "      <td>1697</td>\n",
       "      <td>293</td>\n",
       "      <td>0.9861</td>\n",
       "      <td>0.554526</td>\n",
       "    </tr>\n",
       "    <tr>\n",
       "      <th>22418</th>\n",
       "      <td>5</td>\n",
       "      <td>1352592000</td>\n",
       "      <td>3996</td>\n",
       "      <td>0.75</td>\n",
       "      <td>8.841846</td>\n",
       "      <td>5.4</td>\n",
       "      <td>8.93</td>\n",
       "      <td>559</td>\n",
       "      <td>101</td>\n",
       "      <td>0.9656</td>\n",
       "      <td>0.610139</td>\n",
       "    </tr>\n",
       "  </tbody>\n",
       "</table>\n",
       "<p>10000 rows × 11 columns</p>\n",
       "</div>"
      ],
      "text/plain": [
       "        overall  unixReviewTime  Review_Interval_Days  usefulScore  \\\n",
       "149098        5      1339459200                  4148         1.00   \n",
       "19400         4      1235606400                  5350         1.00   \n",
       "7100          5      1400025600                  3447         1.00   \n",
       "166257        4      1361491200                  3893         0.75   \n",
       "155894        5      1397692800                  3474         1.00   \n",
       "...         ...             ...                   ...          ...   \n",
       "98066         1      1368662400                  3810         0.50   \n",
       "184871        5      1403136000                  3411         1.00   \n",
       "152188        1      1357084800                  3944         0.60   \n",
       "17021         4      1351641600                  4007         0.80   \n",
       "22418         5      1352592000                  3996         0.75   \n",
       "\n",
       "        Readability_smog  Readability_flesch  Readability_Gunning  \\\n",
       "149098          8.167269                 6.3                 6.78   \n",
       "19400           7.168622                 3.4                 5.72   \n",
       "7100            6.427356                 2.4                 4.68   \n",
       "166257          9.725611                10.8                13.44   \n",
       "155894          7.348243                 5.8                 6.92   \n",
       "...                  ...                 ...                  ...   \n",
       "98066           5.985473                 4.2                 6.34   \n",
       "184871          9.188382                 9.1                10.58   \n",
       "152188          7.793538                 7.8                10.61   \n",
       "17021          11.088447                 8.8                11.81   \n",
       "22418           8.841846                 5.4                 8.93   \n",
       "\n",
       "        Readability_char_count  Word_Count  Polarity  Subjectivity  \n",
       "149098                    1162         198    0.9932      0.551705  \n",
       "19400                      143          25    0.8779      0.570000  \n",
       "7100                       109          20    0.6908      0.550000  \n",
       "166257                     904         170    0.9783      0.344118  \n",
       "155894                    1361         250    0.9537      0.586243  \n",
       "...                        ...         ...       ...           ...  \n",
       "98066                      250          47   -0.1815      0.400000  \n",
       "184871                     813         147    0.9420      0.398684  \n",
       "152188                     358          71    0.5849      0.673333  \n",
       "17021                     1697         293    0.9861      0.554526  \n",
       "22418                      559         101    0.9656      0.610139  \n",
       "\n",
       "[10000 rows x 11 columns]"
      ]
     },
     "execution_count": 25,
     "metadata": {},
     "output_type": "execute_result"
    }
   ],
   "source": [
    "sample_data"
   ]
  },
  {
   "cell_type": "markdown",
   "metadata": {},
   "source": [
    "# distribution of usefulScore is heavily skewed towards 0"
   ]
  },
  {
   "cell_type": "code",
   "execution_count": 26,
   "metadata": {},
   "outputs": [
    {
     "data": {
      "text/html": [
       "<div>\n",
       "<style scoped>\n",
       "    .dataframe tbody tr th:only-of-type {\n",
       "        vertical-align: middle;\n",
       "    }\n",
       "\n",
       "    .dataframe tbody tr th {\n",
       "        vertical-align: top;\n",
       "    }\n",
       "\n",
       "    .dataframe thead th {\n",
       "        text-align: right;\n",
       "    }\n",
       "</style>\n",
       "<table border=\"1\" class=\"dataframe\">\n",
       "  <thead>\n",
       "    <tr style=\"text-align: right;\">\n",
       "      <th></th>\n",
       "      <th>overall</th>\n",
       "      <th>unixReviewTime</th>\n",
       "      <th>Review_Interval_Days</th>\n",
       "      <th>usefulScore</th>\n",
       "      <th>Readability_smog</th>\n",
       "      <th>Readability_flesch</th>\n",
       "      <th>Readability_Gunning</th>\n",
       "      <th>Readability_char_count</th>\n",
       "      <th>Word_Count</th>\n",
       "      <th>Polarity</th>\n",
       "      <th>Subjectivity</th>\n",
       "    </tr>\n",
       "  </thead>\n",
       "  <tbody>\n",
       "    <tr>\n",
       "      <th>count</th>\n",
       "      <td>10000.000000</td>\n",
       "      <td>1.000000e+04</td>\n",
       "      <td>10000.000000</td>\n",
       "      <td>10000.000000</td>\n",
       "      <td>10000.000000</td>\n",
       "      <td>10000.000000</td>\n",
       "      <td>10000.000000</td>\n",
       "      <td>10000.000000</td>\n",
       "      <td>10000.000000</td>\n",
       "      <td>10000.00000</td>\n",
       "      <td>10000.000000</td>\n",
       "    </tr>\n",
       "    <tr>\n",
       "      <th>mean</th>\n",
       "      <td>4.037200</td>\n",
       "      <td>1.351874e+09</td>\n",
       "      <td>4004.314700</td>\n",
       "      <td>0.709194</td>\n",
       "      <td>7.201601</td>\n",
       "      <td>5.834860</td>\n",
       "      <td>8.048708</td>\n",
       "      <td>593.300900</td>\n",
       "      <td>110.803300</td>\n",
       "      <td>0.64907</td>\n",
       "      <td>0.535905</td>\n",
       "    </tr>\n",
       "    <tr>\n",
       "      <th>std</th>\n",
       "      <td>1.300302</td>\n",
       "      <td>4.492256e+07</td>\n",
       "      <td>519.937048</td>\n",
       "      <td>0.360581</td>\n",
       "      <td>2.088342</td>\n",
       "      <td>2.820698</td>\n",
       "      <td>2.817833</td>\n",
       "      <td>602.283009</td>\n",
       "      <td>110.279104</td>\n",
       "      <td>0.47921</td>\n",
       "      <td>0.137185</td>\n",
       "    </tr>\n",
       "    <tr>\n",
       "      <th>min</th>\n",
       "      <td>1.000000</td>\n",
       "      <td>1.052611e+09</td>\n",
       "      <td>3378.000000</td>\n",
       "      <td>0.000000</td>\n",
       "      <td>0.000000</td>\n",
       "      <td>-3.100000</td>\n",
       "      <td>0.800000</td>\n",
       "      <td>9.000000</td>\n",
       "      <td>2.000000</td>\n",
       "      <td>-0.99050</td>\n",
       "      <td>0.000000</td>\n",
       "    </tr>\n",
       "    <tr>\n",
       "      <th>25%</th>\n",
       "      <td>3.000000</td>\n",
       "      <td>1.334686e+09</td>\n",
       "      <td>3645.000000</td>\n",
       "      <td>0.500000</td>\n",
       "      <td>6.093298</td>\n",
       "      <td>4.100000</td>\n",
       "      <td>6.350000</td>\n",
       "      <td>221.000000</td>\n",
       "      <td>42.000000</td>\n",
       "      <td>0.57190</td>\n",
       "      <td>0.460296</td>\n",
       "    </tr>\n",
       "    <tr>\n",
       "      <th>50%</th>\n",
       "      <td>5.000000</td>\n",
       "      <td>1.362960e+09</td>\n",
       "      <td>3876.000000</td>\n",
       "      <td>0.888889</td>\n",
       "      <td>7.168622</td>\n",
       "      <td>5.600000</td>\n",
       "      <td>7.830000</td>\n",
       "      <td>408.000000</td>\n",
       "      <td>77.000000</td>\n",
       "      <td>0.86925</td>\n",
       "      <td>0.532883</td>\n",
       "    </tr>\n",
       "    <tr>\n",
       "      <th>75%</th>\n",
       "      <td>5.000000</td>\n",
       "      <td>1.382918e+09</td>\n",
       "      <td>4203.250000</td>\n",
       "      <td>1.000000</td>\n",
       "      <td>8.548687</td>\n",
       "      <td>7.200000</td>\n",
       "      <td>9.370000</td>\n",
       "      <td>743.000000</td>\n",
       "      <td>140.000000</td>\n",
       "      <td>0.95540</td>\n",
       "      <td>0.610000</td>\n",
       "    </tr>\n",
       "    <tr>\n",
       "      <th>max</th>\n",
       "      <td>5.000000</td>\n",
       "      <td>1.405987e+09</td>\n",
       "      <td>7468.000000</td>\n",
       "      <td>1.000000</td>\n",
       "      <td>20.267339</td>\n",
       "      <td>46.900000</td>\n",
       "      <td>51.540000</td>\n",
       "      <td>11076.000000</td>\n",
       "      <td>1999.000000</td>\n",
       "      <td>0.99970</td>\n",
       "      <td>1.000000</td>\n",
       "    </tr>\n",
       "  </tbody>\n",
       "</table>\n",
       "</div>"
      ],
      "text/plain": [
       "            overall  unixReviewTime  Review_Interval_Days   usefulScore  \\\n",
       "count  10000.000000    1.000000e+04          10000.000000  10000.000000   \n",
       "mean       4.037200    1.351874e+09           4004.314700      0.709194   \n",
       "std        1.300302    4.492256e+07            519.937048      0.360581   \n",
       "min        1.000000    1.052611e+09           3378.000000      0.000000   \n",
       "25%        3.000000    1.334686e+09           3645.000000      0.500000   \n",
       "50%        5.000000    1.362960e+09           3876.000000      0.888889   \n",
       "75%        5.000000    1.382918e+09           4203.250000      1.000000   \n",
       "max        5.000000    1.405987e+09           7468.000000      1.000000   \n",
       "\n",
       "       Readability_smog  Readability_flesch  Readability_Gunning  \\\n",
       "count      10000.000000        10000.000000         10000.000000   \n",
       "mean           7.201601            5.834860             8.048708   \n",
       "std            2.088342            2.820698             2.817833   \n",
       "min            0.000000           -3.100000             0.800000   \n",
       "25%            6.093298            4.100000             6.350000   \n",
       "50%            7.168622            5.600000             7.830000   \n",
       "75%            8.548687            7.200000             9.370000   \n",
       "max           20.267339           46.900000            51.540000   \n",
       "\n",
       "       Readability_char_count    Word_Count     Polarity  Subjectivity  \n",
       "count            10000.000000  10000.000000  10000.00000  10000.000000  \n",
       "mean               593.300900    110.803300      0.64907      0.535905  \n",
       "std                602.283009    110.279104      0.47921      0.137185  \n",
       "min                  9.000000      2.000000     -0.99050      0.000000  \n",
       "25%                221.000000     42.000000      0.57190      0.460296  \n",
       "50%                408.000000     77.000000      0.86925      0.532883  \n",
       "75%                743.000000    140.000000      0.95540      0.610000  \n",
       "max              11076.000000   1999.000000      0.99970      1.000000  "
      ]
     },
     "execution_count": 26,
     "metadata": {},
     "output_type": "execute_result"
    }
   ],
   "source": [
    "sample_data.describe()"
   ]
  },
  {
   "cell_type": "code",
   "execution_count": 27,
   "metadata": {},
   "outputs": [
    {
     "data": {
      "text/plain": [
       "0.000000    1513\n",
       "0.066667       1\n",
       "0.071429       1\n",
       "0.076923       2\n",
       "0.100000       2\n",
       "            ... \n",
       "0.985714       1\n",
       "0.986486       1\n",
       "0.986667       1\n",
       "0.986842       1\n",
       "1.000000    4667\n",
       "Name: usefulScore, Length: 260, dtype: int64"
      ]
     },
     "execution_count": 27,
     "metadata": {},
     "output_type": "execute_result"
    }
   ],
   "source": [
    "import seaborn as sns\n",
    "import matplotlib.pyplot as plt\n",
    "b = sample_data.usefulScore.value_counts().sort_index()\n",
    "b\n",
    "\n"
   ]
  },
  {
   "cell_type": "code",
   "execution_count": 28,
   "metadata": {},
   "outputs": [
    {
     "data": {
      "text/plain": [
       "(-0.001, 0.1]    1519\n",
       "(0.1, 0.2]         55\n",
       "(0.2, 0.3]         59\n",
       "(0.3, 0.4]        221\n",
       "(0.4, 0.5]       1223\n",
       "(0.5, 0.6]        183\n",
       "(0.6, 0.7]        645\n",
       "(0.7, 0.8]        704\n",
       "(0.8, 0.9]        468\n",
       "(0.9, 1.0]       4923\n",
       "Name: usefulScore, dtype: int64"
      ]
     },
     "execution_count": 28,
     "metadata": {},
     "output_type": "execute_result"
    }
   ],
   "source": [
    "bins = pd.cut(sample_data['usefulScore'], bins=10)\n",
    "\n",
    "# 计算每个区间的计数\n",
    "counts = bins.value_counts().sort_index()\n",
    "counts"
   ]
  },
  {
   "cell_type": "code",
   "execution_count": 29,
   "metadata": {},
   "outputs": [
    {
     "data": {
      "image/png": "[encoded data removed]",
      "text/plain": [
       "<Figure size 1000x600 with 1 Axes>"
      ]
     },
     "metadata": {},
     "output_type": "display_data"
    }
   ],
   "source": [
    "import pandas as pd\n",
    "import seaborn as sns\n",
    "import matplotlib.pyplot as plt\n",
    "\n",
    "# 假设 sample_data 包含了你的数据\n",
    "# 例如：sample_data = pd.read_csv('your_data.csv')\n",
    "\n",
    "# 将 usefulScore 列的值分成十个区间\n",
    "bins = pd.cut(sample_data['usefulScore'], bins=10)\n",
    "\n",
    "# 计算每个区间的计数\n",
    "counts = bins.value_counts().sort_index()\n",
    "\n",
    "# 绘制 barplot\n",
    "plt.figure(figsize=(10, 6))\n",
    "sns.barplot(x=counts.index, y=counts.values)\n",
    "plt.xlabel('usefulScore')\n",
    "plt.ylabel('Count')\n",
    "plt.title('Distribution of usefulScore')\n",
    "plt.xticks(rotation=45)\n",
    "plt.show()\n"
   ]
  },
  {
   "cell_type": "markdown",
   "metadata": {},
   "source": [
    "# 样本不均衡，AUC=0.5\n"
   ]
  },
  {
   "cell_type": "code",
   "execution_count": 30,
   "metadata": {},
   "outputs": [
    {
     "data": {
      "text/plain": [
       "0.000000    1513\n",
       "0.066667       1\n",
       "0.071429       1\n",
       "0.076923       2\n",
       "0.100000       2\n",
       "            ... \n",
       "0.985714       1\n",
       "0.986486       1\n",
       "0.986667       1\n",
       "0.986842       1\n",
       "1.000000    4667\n",
       "Name: usefulScore, Length: 260, dtype: int64"
      ]
     },
     "execution_count": 30,
     "metadata": {},
     "output_type": "execute_result"
    }
   ],
   "source": [
    "b"
   ]
  },
  {
   "cell_type": "code",
   "execution_count": 31,
   "metadata": {},
   "outputs": [],
   "source": [
    "from sklearn.preprocessing import MinMaxScaler\n",
    "\n",
    "# 初始化MinMaxScaler\n",
    "scaler = MinMaxScaler()\n"
   ]
  },
  {
   "cell_type": "code",
   "execution_count": 32,
   "metadata": {},
   "outputs": [
    {
     "data": {
      "image/png": "[encoded data removed]",
      "text/plain": [
       "<Figure size 800x600 with 2 Axes>"
      ]
     },
     "metadata": {},
     "output_type": "display_data"
    }
   ],
   "source": [
    "import seaborn as sns\n",
    "import matplotlib.pyplot as plt\n",
    "from sklearn.ensemble import RandomForestRegressor\n",
    "\n",
    "# Assuming 'data' contains the features and labels (overall, Review_Interval_Days, Readability, Polarity)\n",
    "# X contains the features, y contains the labels\n",
    "\n",
    "\n",
    "y = sample_data['usefulScore'].values\n",
    "X = sample_data.drop(columns='usefulScore')\n",
    "\n",
    "#######数不需要归一化\n",
    "\n",
    "# Initialize the RandomForestRegressor\n",
    "rf_model = RandomForestRegressor(n_estimators=100, random_state=42)\n",
    "\n",
    "# Fit the model\n",
    "rf_model.fit(X, y)\n",
    "\n",
    "# Get feature importances\n",
    "feature_importances = rf_model.feature_importances_\n",
    "\n",
    "# Create a DataFrame with feature names and their importances\n",
    "importance_df = pd.DataFrame({'Feature': sample_data.columns.tolist().remove('usefulScore'),\n",
    "                              'Importance': feature_importances})\n",
    "\n",
    "\n",
    "# Create the heatmap\n",
    "plt.figure(figsize=(8, 6))\n",
    "heatmap_data = importance_df.set_index('Feature')['Importance'].sort_values(ascending=False).to_frame().T\n",
    "sns.heatmap(heatmap_data, cmap='viridis', annot=True, fmt='.3f')\n",
    "plt.title('Feature Importance Heatmap')\n",
    "plt.show()"
   ]
  },
  {
   "cell_type": "code",
   "execution_count": 33,
   "metadata": {},
   "outputs": [],
   "source": [
    "# 不用交叉验证，没必要，时间长，结果差不多\n",
    "import numpy as np\n",
    "from sklearn.model_selection import train_test_split\n",
    "from sklearn.ensemble import RandomForestClassifier\n",
    "from sklearn.model_selection import train_test_split\n",
    "from sklearn.metrics import accuracy_score, classification_report\n",
    "\n",
    "\n",
    "y = sample_data['usefulScore'].values\n",
    "X = sample_data.drop(columns='usefulScore')\n",
    "X_train, X_test, y_train, y_test = train_test_split(X, y, test_size=0.2, random_state=42)\n",
    "\n"
   ]
  },
  {
   "cell_type": "code",
   "execution_count": 34,
   "metadata": {},
   "outputs": [],
   "source": [
    "from keras.models import Sequential\n",
    "from keras.layers import Dense\n",
    "from sklearn.model_selection import cross_val_score\n",
    "threshold = 0.4"
   ]
  },
  {
   "cell_type": "code",
   "execution_count": 35,
   "metadata": {},
   "outputs": [
    {
     "data": {
      "text/plain": [
       "1.000000    4667\n",
       "0.000000    1513\n",
       "0.500000    1203\n",
       "0.666667     529\n",
       "0.750000     343\n",
       "            ... \n",
       "0.910256       1\n",
       "0.267857       1\n",
       "0.890805       1\n",
       "0.538462       1\n",
       "0.940594       1\n",
       "Name: usefulScore, Length: 260, dtype: int64"
      ]
     },
     "execution_count": 35,
     "metadata": {},
     "output_type": "execute_result"
    }
   ],
   "source": [
    "#################处理样本不平衡\n",
    "\n",
    "from sklearn.utils import resample\n",
    "\n",
    "# 将数据分成特征 (X) 和目标 (y)\n",
    "# 替换成你的特征数据\n",
    "y = sample_data['usefulScore']  # 替换成你的目标数据\n",
    "\n",
    "y.value_counts()\n"
   ]
  },
  {
   "cell_type": "markdown",
   "metadata": {},
   "source": [
    "# 平衡样本"
   ]
  },
  {
   "cell_type": "code",
   "execution_count": 36,
   "metadata": {},
   "outputs": [],
   "source": [
    "\n",
    "# 将数据分成正例和负例\n",
    "positive_samples = sample_data[y > threshold]\n",
    "negative_samples = sample_data[y <= threshold]\n",
    "\n",
    "# 从负例中随机采样生成合成样本\n",
    "synthetic_samples = resample(negative_samples, n_samples=len(positive_samples), random_state=42)\n",
    "\n",
    "# 将正例和合成样本合并\n",
    "balanced_data = pd.concat([positive_samples, synthetic_samples])\n",
    "\n",
    "# balanced_data 包含了处理后的平衡数据，你可以将其用于训练模型\n",
    "X = balanced_data.drop(columns='usefulScore')\n",
    "y = balanced_data['usefulScore'].values\n",
    "\n",
    "X_train, X_test, y_train, y_test = train_test_split(X, y, test_size=0.2, random_state=42)\n",
    "\n",
    "y_train_binary = (y_train > threshold).astype(int)\n",
    "y_test_binary = (y_test > threshold).astype(int)"
   ]
  },
  {
   "cell_type": "code",
   "execution_count": 37,
   "metadata": {},
   "outputs": [
    {
     "data": {
      "text/plain": [
       "0.000000    6602\n",
       "1.000000    4667\n",
       "0.500000    1203\n",
       "0.333333     782\n",
       "0.666667     529\n",
       "            ... \n",
       "0.905263       1\n",
       "0.807692       1\n",
       "0.861111       1\n",
       "0.977778       1\n",
       "0.985507       1\n",
       "Name: usefulScore, Length: 260, dtype: int64"
      ]
     },
     "execution_count": 37,
     "metadata": {},
     "output_type": "execute_result"
    }
   ],
   "source": [
    "balanced_data['usefulScore'].value_counts()"
   ]
  },
  {
   "cell_type": "code",
   "execution_count": 38,
   "metadata": {},
   "outputs": [
    {
     "name": "stdout",
     "output_type": "stream",
     "text": [
      "Cross-validated Accuracy: [0.90372075 0.89758343 0.89873418 0.89025326 0.89178818]\n",
      "Mean Accuracy: 0.8964159602180916\n",
      "Test Accuracy: 0.9312672598956735\n"
     ]
    }
   ],
   "source": [
    "\n",
    "##################随机森林\n",
    "\n",
    "##过拟合，减少树的数量\n",
    "\n",
    "rf_model = RandomForestClassifier(n_estimators=20, random_state=42)  #100->10\n",
    "\n",
    "# 使用交叉验证评估模型性能\n",
    "# cv 参数指定了将数据集分成几份进行交叉验证，这里使用了 5 折交叉验证\n",
    "# scoring 参数指定了评估指标，比如 'accuracy' 代表准确率\n",
    "scores = cross_val_score(rf_model, X_train, y_train_binary, cv=5, scoring='accuracy')\n",
    "rf_model.fit(X_train,y_train_binary)\n",
    "\n",
    "# 输出交叉验证的结果\n",
    "print(\"Cross-validated Accuracy:\", scores)\n",
    "print(\"Mean Accuracy:\", scores.mean())\n",
    "\n",
    "# 在测试集上评估模型性能\n",
    "accuracy = rf_model.score(X_test, y_test_binary)\n",
    "print(f'Test Accuracy: {accuracy}')"
   ]
  },
  {
   "cell_type": "code",
   "execution_count": 39,
   "metadata": {},
   "outputs": [
    {
     "data": {
      "text/plain": [
       "0.49002761583307763"
      ]
     },
     "execution_count": 39,
     "metadata": {},
     "output_type": "execute_result"
    }
   ],
   "source": [
    "y_test_binary.mean()"
   ]
  },
  {
   "cell_type": "code",
   "execution_count": 41,
   "metadata": {},
   "outputs": [
    {
     "name": "stdout",
     "output_type": "stream",
     "text": [
      "AUC Score: 0.9302235991521407\n",
      "0.5479872543442474\n"
     ]
    }
   ],
   "source": [
    "from sklearn.metrics import r2_score\n",
    "from sklearn.metrics import roc_auc_score\n",
    "# 使用 roc_auc_score 函数计算AUC\n",
    "y_pred = rf_model.predict(X_test)\n",
    "y_pred_binary = (rf_model.predict(X_test) > threshold).astype(int)\n",
    "auc_score = roc_auc_score(y_test_binary, y_pred_binary)\n",
    "\n",
    "print(f\"AUC Score: {auc_score}\")\n",
    "r2 = r2_score(y_test, y_pred)\n",
    "print(r2)"
   ]
  },
  {
   "cell_type": "markdown",
   "metadata": {},
   "source": [
    "# 每个变量"
   ]
  },
  {
   "cell_type": "code",
   "execution_count": 43,
   "metadata": {},
   "outputs": [
    {
     "data": {
      "text/plain": [
       "['AUC for overall: 0.5990376058599646, 0.5995704203743479',\n",
       " 'AUC for unixReviewTime: 0.6621900118076387, 0.664007364222154',\n",
       " 'AUC for Review_Interval_Days: 0.6631415176018212, 0.6649278919914084',\n",
       " 'AUC for Readability_smog: 0.5728886216409076, 0.5750230131942313',\n",
       " 'AUC for Readability_flesch: 0.5454718421348089, 0.545872967167843',\n",
       " 'AUC for Readability_Gunning: 0.6376923639163987, 0.6388462718625345',\n",
       " 'AUC for Readability_char_count: 0.6533256173013932, 0.6554157717091132',\n",
       " 'AUC for Word_Count: 0.5946385634315846, 0.5961951518870819',\n",
       " 'AUC for Polarity: 0.7508109745483975, 0.7526848726603252',\n",
       " 'AUC for Subjectivity: 0.7641704851229028, 0.7661859466093894']"
      ]
     },
     "execution_count": 43,
     "metadata": {},
     "output_type": "execute_result"
    }
   ],
   "source": [
    "\n",
    "\n",
    "# Assuming 'data' contains the features and labels (overall, Review_Interval_Days, Readability, Polarity)\n",
    "# X contains the features, y contains the labels\n",
    "features = sample_data.columns.tolist()\n",
    "features.remove('usefulScore')\n",
    "\n",
    "outcome = []\n",
    "threshold = 0.4\n",
    "\n",
    "for i in features:\n",
    "    X_train1 = X_train[[i]].values.reshape(-1, 1)  # Use the feature 'i'\n",
    "    X_test1 = X_test[[i]].values.reshape(-1, 1) \n",
    "\n",
    "    # Convert usefulScore to binary labels\n",
    "    y_train_binary = (y_train > threshold).astype(int)\n",
    "    # Train the model\n",
    "    rf_model.fit(X_train1, y_train_binary)\n",
    "    y_test_binary = (y_test > threshold).astype(int)\n",
    "    y_pred_binary = (rf_model.predict(X_test1) > threshold).astype(int)\n",
    "    y_pred = rf_model.predict(X_test1) \n",
    "\n",
    "    # Evaluate the model\n",
    "    auc = roc_auc_score(y_test_binary, y_pred_binary)\n",
    "    #r2 = r2_score(y_test, y_pred)\n",
    "    accuracy = rf_model.score(X_test1, y_test_binary)\n",
    "    outcome.append(f'AUC for {i}: {auc}, {accuracy}')\n",
    "outcome"
   ]
  },
  {
   "cell_type": "code",
   "execution_count": null,
   "metadata": {},
   "outputs": [],
   "source": []
  }
 ],
 "metadata": {
  "kernelspec": {
   "display_name": "Python 3",
   "language": "python",
   "name": "python3"
  },
  "language_info": {
   "codemirror_mode": {
    "name": "ipython",
    "version": 3
   },
   "file_extension": ".py",
   "mimetype": "text/x-python",
   "name": "python",
   "nbconvert_exporter": "python",
   "pygments_lexer": "ipython3",
   "version": "3.9.13"
  }
 },
 "nbformat": 4,
 "nbformat_minor": 2
}
