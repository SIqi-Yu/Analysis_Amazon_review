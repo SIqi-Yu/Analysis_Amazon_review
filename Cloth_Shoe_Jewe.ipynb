{
 "cells": [
  {
   "cell_type": "code",
   "execution_count": 1,
   "metadata": {},
   "outputs": [
    {
     "name": "stderr",
     "output_type": "stream",
     "text": [
      "[nltk_data] Downloading package stopwords to\n",
      "[nltk_data]     C:\\Users\\15726\\AppData\\Roaming\\nltk_data...\n",
      "[nltk_data]   Package stopwords is already up-to-date!\n",
      "c:\\Users\\15726\\anaconda3\\envs\\ds-1\\lib\\site-packages\\gensim\\utils.py:1197: UserWarning: detected Windows; aliasing chunkize to chunkize_serial\n",
      "  warnings.warn(\"detected Windows; aliasing chunkize to chunkize_serial\")\n"
     ]
    }
   ],
   "source": [
    "\n",
    "import re\n",
    "import seaborn as sbn\n",
    "import nltk\n",
    "import tqdm as tqdm\n",
    "import sqlite3\n",
    "import pandas as pd\n",
    "import numpy as np\n",
    "\n",
    "import string\n",
    "from nltk.corpus import stopwords\n",
    "nltk.download('stopwords')\n",
    "stop = stopwords.words(\"english\")\n",
    "import matplotlib.pyplot as plt\n",
    "\n",
    "from sklearn.metrics import accuracy_score\n",
    "from sklearn.metrics import confusion_matrix\n",
    "from math import floor,ceil\n",
    "from nltk.stem.porter import PorterStemmer\n",
    "english_stemmer=nltk.stem.SnowballStemmer('english')\n",
    "\n",
    "from sklearn.feature_extraction.text import TfidfTransformer\n",
    "from sklearn.feature_extraction.text import CountVectorizer\n",
    "from sklearn.model_selection import train_test_split\n",
    "from sklearn.metrics import confusion_matrix\n",
    "from sklearn import metrics\n",
    "from sklearn.metrics import roc_curve, auc\n",
    "from sklearn.svm import LinearSVC\n",
    "from keras.models import Sequential\n",
    "from keras.layers import LSTM, Dense, Embedding\n",
    "from gensim import summarization\n",
    "from nltk.tokenize import word_tokenize\n",
    "from sklearn.feature_extraction.text import TfidfVectorizer\n",
    "from sklearn.model_selection import train_test_split\n",
    "\n",
    "\n"
   ]
  },
  {
   "cell_type": "code",
   "execution_count": 2,
   "metadata": {
    "collapsed": true
   },
   "outputs": [],
   "source": [
    "review_data_or = pd.read_json('Clothing_Shoes_and_Jewelry_5.json',lines=True)"
   ]
  },
  {
   "cell_type": "code",
   "execution_count": 3,
   "metadata": {},
   "outputs": [
    {
     "data": {
      "text/plain": [
       "Index(['reviewerID', 'asin', 'reviewerName', 'helpful', 'reviewText',\n",
       "       'overall', 'summary', 'unixReviewTime', 'reviewTime'],\n",
       "      dtype='object')"
      ]
     },
     "execution_count": 3,
     "metadata": {},
     "output_type": "execute_result"
    }
   ],
   "source": [
    "review_data_or.columns"
   ]
  },
  {
   "cell_type": "code",
   "execution_count": 4,
   "metadata": {},
   "outputs": [
    {
     "name": "stdout",
     "output_type": "stream",
     "text": [
      "<class 'pandas.core.frame.DataFrame'>\n",
      "RangeIndex: 278677 entries, 0 to 278676\n",
      "Data columns (total 9 columns):\n",
      " #   Column          Non-Null Count   Dtype \n",
      "---  ------          --------------   ----- \n",
      " 0   reviewerID      278677 non-null  object\n",
      " 1   asin            278677 non-null  object\n",
      " 2   reviewerName    278225 non-null  object\n",
      " 3   helpful         278677 non-null  object\n",
      " 4   reviewText      278677 non-null  object\n",
      " 5   overall         278677 non-null  int64 \n",
      " 6   summary         278677 non-null  object\n",
      " 7   unixReviewTime  278677 non-null  int64 \n",
      " 8   reviewTime      278677 non-null  object\n",
      "dtypes: int64(2), object(7)\n",
      "memory usage: 19.1+ MB\n"
     ]
    }
   ],
   "source": [
    "review_data_or.info()\n"
   ]
  },
  {
   "cell_type": "code",
   "execution_count": 5,
   "metadata": {
    "collapsed": true
   },
   "outputs": [],
   "source": [
    "review_data=review_data_or.drop(['reviewerID','asin','reviewerName','summary'],axis=1)\n"
   ]
  },
  {
   "cell_type": "code",
   "execution_count": 6,
   "metadata": {},
   "outputs": [],
   "source": [
    "from datetime import datetime\n",
    "current_date = datetime.now()\n",
    "# Define a function to calculate the time difference in days\n",
    "def calculate_time_difference(review_time):\n",
    "    return (current_date - datetime.strptime(review_time, \"%m %d, %Y\")).days\n",
    "\n",
    "# Apply the function to the 'reviewTime' column and replace it\n",
    "review_data['Review_Interval_Days'] = review_data['reviewTime'].apply(calculate_time_difference)\n",
    "review_data = review_data.drop(['reviewTime'],axis=1)\n"
   ]
  },
  {
   "cell_type": "code",
   "execution_count": 7,
   "metadata": {},
   "outputs": [],
   "source": [
    "review_data['reviewText'] = review_data['reviewText'].astype('string')\n"
   ]
  },
  {
   "cell_type": "code",
   "execution_count": 8,
   "metadata": {},
   "outputs": [
    {
     "data": {
      "text/html": [
       "<div>\n",
       "<style scoped>\n",
       "    .dataframe tbody tr th:only-of-type {\n",
       "        vertical-align: middle;\n",
       "    }\n",
       "\n",
       "    .dataframe tbody tr th {\n",
       "        vertical-align: top;\n",
       "    }\n",
       "\n",
       "    .dataframe thead th {\n",
       "        text-align: right;\n",
       "    }\n",
       "</style>\n",
       "<table border=\"1\" class=\"dataframe\">\n",
       "  <thead>\n",
       "    <tr style=\"text-align: right;\">\n",
       "      <th></th>\n",
       "      <th>helpful</th>\n",
       "      <th>reviewText</th>\n",
       "      <th>overall</th>\n",
       "      <th>unixReviewTime</th>\n",
       "      <th>Review_Interval_Days</th>\n",
       "    </tr>\n",
       "  </thead>\n",
       "  <tbody>\n",
       "    <tr>\n",
       "      <th>0</th>\n",
       "      <td>[0, 0]</td>\n",
       "      <td>This is a great tutu and at a really great pri...</td>\n",
       "      <td>5</td>\n",
       "      <td>1297468800</td>\n",
       "      <td>4634</td>\n",
       "    </tr>\n",
       "    <tr>\n",
       "      <th>1</th>\n",
       "      <td>[0, 0]</td>\n",
       "      <td>I bought this for my 4 yr old daughter for dan...</td>\n",
       "      <td>5</td>\n",
       "      <td>1358553600</td>\n",
       "      <td>3927</td>\n",
       "    </tr>\n",
       "    <tr>\n",
       "      <th>2</th>\n",
       "      <td>[0, 0]</td>\n",
       "      <td>What can I say... my daughters have it in oran...</td>\n",
       "      <td>5</td>\n",
       "      <td>1357257600</td>\n",
       "      <td>3942</td>\n",
       "    </tr>\n",
       "    <tr>\n",
       "      <th>3</th>\n",
       "      <td>[0, 0]</td>\n",
       "      <td>We bought several tutus at once, and they are ...</td>\n",
       "      <td>5</td>\n",
       "      <td>1398556800</td>\n",
       "      <td>3464</td>\n",
       "    </tr>\n",
       "    <tr>\n",
       "      <th>4</th>\n",
       "      <td>[0, 0]</td>\n",
       "      <td>Thank you Halo Heaven great product for Little...</td>\n",
       "      <td>5</td>\n",
       "      <td>1394841600</td>\n",
       "      <td>3507</td>\n",
       "    </tr>\n",
       "  </tbody>\n",
       "</table>\n",
       "</div>"
      ],
      "text/plain": [
       "  helpful                                         reviewText  overall  \\\n",
       "0  [0, 0]  This is a great tutu and at a really great pri...        5   \n",
       "1  [0, 0]  I bought this for my 4 yr old daughter for dan...        5   \n",
       "2  [0, 0]  What can I say... my daughters have it in oran...        5   \n",
       "3  [0, 0]  We bought several tutus at once, and they are ...        5   \n",
       "4  [0, 0]  Thank you Halo Heaven great product for Little...        5   \n",
       "\n",
       "   unixReviewTime  Review_Interval_Days  \n",
       "0      1297468800                  4634  \n",
       "1      1358553600                  3927  \n",
       "2      1357257600                  3942  \n",
       "3      1398556800                  3464  \n",
       "4      1394841600                  3507  "
      ]
     },
     "execution_count": 8,
     "metadata": {},
     "output_type": "execute_result"
    }
   ],
   "source": [
    "review_data.head()"
   ]
  },
  {
   "cell_type": "code",
   "execution_count": 9,
   "metadata": {},
   "outputs": [
    {
     "name": "stderr",
     "output_type": "stream",
     "text": [
      "C:\\Users\\15726\\AppData\\Local\\Temp\\ipykernel_7360\\3796216857.py:7: SettingWithCopyWarning: \n",
      "A value is trying to be set on a copy of a slice from a DataFrame.\n",
      "Try using .loc[row_indexer,col_indexer] = value instead\n",
      "\n",
      "See the caveats in the documentation: https://pandas.pydata.org/pandas-docs/stable/user_guide/indexing.html#returning-a-view-versus-a-copy\n",
      "  reviews[\"usefulScore\"] = (reviews[\"helpful\"]/reviews[\"total\"]).apply(lambda n: n if n > 0 else 0)\n"
     ]
    },
    {
     "data": {
      "text/html": [
       "<div>\n",
       "<style scoped>\n",
       "    .dataframe tbody tr th:only-of-type {\n",
       "        vertical-align: middle;\n",
       "    }\n",
       "\n",
       "    .dataframe tbody tr th {\n",
       "        vertical-align: top;\n",
       "    }\n",
       "\n",
       "    .dataframe thead th {\n",
       "        text-align: right;\n",
       "    }\n",
       "</style>\n",
       "<table border=\"1\" class=\"dataframe\">\n",
       "  <thead>\n",
       "    <tr style=\"text-align: right;\">\n",
       "      <th></th>\n",
       "      <th>reviewText</th>\n",
       "      <th>overall</th>\n",
       "      <th>unixReviewTime</th>\n",
       "      <th>Review_Interval_Days</th>\n",
       "      <th>usefulScore</th>\n",
       "    </tr>\n",
       "  </thead>\n",
       "  <tbody>\n",
       "    <tr>\n",
       "      <th>9</th>\n",
       "      <td>For what I paid for two tutus is unbeatable an...</td>\n",
       "      <td>5</td>\n",
       "      <td>1349568000</td>\n",
       "      <td>4031</td>\n",
       "      <td>0.875000</td>\n",
       "    </tr>\n",
       "    <tr>\n",
       "      <th>13</th>\n",
       "      <td>Full and well stitched.  This tutu is a beauti...</td>\n",
       "      <td>5</td>\n",
       "      <td>1361664000</td>\n",
       "      <td>3891</td>\n",
       "      <td>1.000000</td>\n",
       "    </tr>\n",
       "    <tr>\n",
       "      <th>22</th>\n",
       "      <td>Prompt delivery, and it is exactly as describe...</td>\n",
       "      <td>4</td>\n",
       "      <td>1365552000</td>\n",
       "      <td>3846</td>\n",
       "      <td>0.500000</td>\n",
       "    </tr>\n",
       "    <tr>\n",
       "      <th>23</th>\n",
       "      <td>The minute I saw this my heart skipped a beat....</td>\n",
       "      <td>5</td>\n",
       "      <td>1383782400</td>\n",
       "      <td>3635</td>\n",
       "      <td>1.000000</td>\n",
       "    </tr>\n",
       "    <tr>\n",
       "      <th>24</th>\n",
       "      <td>Love this Jewelry Box  so well put together ho...</td>\n",
       "      <td>5</td>\n",
       "      <td>1390089600</td>\n",
       "      <td>3562</td>\n",
       "      <td>0.000000</td>\n",
       "    </tr>\n",
       "    <tr>\n",
       "      <th>25</th>\n",
       "      <td>This products is great for anyone with a lot o...</td>\n",
       "      <td>5</td>\n",
       "      <td>1348444800</td>\n",
       "      <td>4044</td>\n",
       "      <td>0.500000</td>\n",
       "    </tr>\n",
       "    <tr>\n",
       "      <th>30</th>\n",
       "      <td>The product itself is five stars, however the ...</td>\n",
       "      <td>4</td>\n",
       "      <td>1322956800</td>\n",
       "      <td>4339</td>\n",
       "      <td>0.980488</td>\n",
       "    </tr>\n",
       "    <tr>\n",
       "      <th>31</th>\n",
       "      <td>The first question was which computers to inst...</td>\n",
       "      <td>4</td>\n",
       "      <td>1285027200</td>\n",
       "      <td>4778</td>\n",
       "      <td>0.833333</td>\n",
       "    </tr>\n",
       "    <tr>\n",
       "      <th>32</th>\n",
       "      <td>Okay, I admit it. I'm one of the millions of A...</td>\n",
       "      <td>5</td>\n",
       "      <td>1308182400</td>\n",
       "      <td>4510</td>\n",
       "      <td>0.846154</td>\n",
       "    </tr>\n",
       "    <tr>\n",
       "      <th>33</th>\n",
       "      <td>I bought this product a little over a year ago...</td>\n",
       "      <td>1</td>\n",
       "      <td>1348185600</td>\n",
       "      <td>4047</td>\n",
       "      <td>0.774194</td>\n",
       "    </tr>\n",
       "  </tbody>\n",
       "</table>\n",
       "</div>"
      ],
      "text/plain": [
       "                                           reviewText  overall  \\\n",
       "9   For what I paid for two tutus is unbeatable an...        5   \n",
       "13  Full and well stitched.  This tutu is a beauti...        5   \n",
       "22  Prompt delivery, and it is exactly as describe...        4   \n",
       "23  The minute I saw this my heart skipped a beat....        5   \n",
       "24  Love this Jewelry Box  so well put together ho...        5   \n",
       "25  This products is great for anyone with a lot o...        5   \n",
       "30  The product itself is five stars, however the ...        4   \n",
       "31  The first question was which computers to inst...        4   \n",
       "32  Okay, I admit it. I'm one of the millions of A...        5   \n",
       "33  I bought this product a little over a year ago...        1   \n",
       "\n",
       "    unixReviewTime  Review_Interval_Days  usefulScore  \n",
       "9       1349568000                  4031     0.875000  \n",
       "13      1361664000                  3891     1.000000  \n",
       "22      1365552000                  3846     0.500000  \n",
       "23      1383782400                  3635     1.000000  \n",
       "24      1390089600                  3562     0.000000  \n",
       "25      1348444800                  4044     0.500000  \n",
       "30      1322956800                  4339     0.980488  \n",
       "31      1285027200                  4778     0.833333  \n",
       "32      1308182400                  4510     0.846154  \n",
       "33      1348185600                  4047     0.774194  "
      ]
     },
     "execution_count": 9,
     "metadata": {},
     "output_type": "execute_result"
    }
   ],
   "source": [
    "reviews = review_data\n",
    "\n",
    "reviews[['helpful','total']] = pd.DataFrame(reviews.helpful.values.tolist(), index=reviews.index)\n",
    "############删掉没有评价是否有用的评论############################\n",
    "reviews = reviews[reviews['total'] > 0]\n",
    "#reviews[\"sentiment\"] = reviews[\"overall\"].apply(lambda score: 1 if score > 3 else 1)\n",
    "reviews[\"usefulScore\"] = (reviews[\"helpful\"]/reviews[\"total\"]).apply(lambda n: n if n > 0 else 0)\n",
    "#.apply(lambda n: \"useful\" if n > 0.8 else \"useless\")\n",
    "\n",
    "review_data = reviews.drop(['helpful','total'],axis=1)\n",
    "review_data.head(10)\n"
   ]
  },
  {
   "cell_type": "code",
   "execution_count": 10,
   "metadata": {},
   "outputs": [
    {
     "name": "stdout",
     "output_type": "stream",
     "text": [
      "5    46636\n",
      "4    17300\n",
      "3    10670\n",
      "2     6420\n",
      "1     5995\n",
      "Name: overall, dtype: int64\n"
     ]
    }
   ],
   "source": [
    "a = review_data['overall'].value_counts()\n",
    "print(a)"
   ]
  },
  {
   "cell_type": "markdown",
   "metadata": {},
   "source": [
    "# Data Cleaning"
   ]
  },
  {
   "cell_type": "code",
   "execution_count": 11,
   "metadata": {},
   "outputs": [
    {
     "data": {
      "text/plain": [
       "18"
      ]
     },
     "execution_count": 11,
     "metadata": {},
     "output_type": "execute_result"
    }
   ],
   "source": [
    "count = 0\n",
    "for i in review_data['reviewText']:\n",
    "    if i == '':\n",
    "        \n",
    "        count = count+1\n",
    "count"
   ]
  },
  {
   "cell_type": "code",
   "execution_count": 12,
   "metadata": {},
   "outputs": [],
   "source": [
    "review_data = review_data[review_data['reviewText'] != '']"
   ]
  },
  {
   "cell_type": "code",
   "execution_count": 13,
   "metadata": {},
   "outputs": [
    {
     "name": "stderr",
     "output_type": "stream",
     "text": [
      "[nltk_data] Downloading package punkt to\n",
      "[nltk_data]     C:\\Users\\15726\\AppData\\Roaming\\nltk_data...\n",
      "[nltk_data]   Package punkt is already up-to-date!\n"
     ]
    }
   ],
   "source": [
    "import nltk\n",
    "#nlp = spacy.load(\"en_core_web_sm\")\n",
    "# 下载NLTK的punkt句子分割模型（只需要执行一次）\n",
    "nltk.download('punkt')\n",
    "\n",
    "from nltk.tokenize import sent_tokenize\n",
    "\n",
    "def split_sentences(text):\n",
    "\n",
    "  try:\n",
    "   punctuation = ['.', '!', '?']\n",
    "    \n",
    "        # 去除句子末尾的空格\n",
    "   text = text.rstrip()\n",
    "    \n",
    "     # 检查句末是否有标点符号\n",
    "   if text[-1] not in punctuation:\n",
    "        # 如果没有标点符号，就添加一个句号\n",
    "      text = f'{text}.'\n",
    "   #sentences = sent_tokenize(text)\n",
    "\n",
    "   return text\n",
    "  except Exception as e:\n",
    "    print(f\"Error: {e}, Text: {text}\")\n",
    "\n",
    "\n",
    "review_data['reviewText']= review_data['reviewText'].apply(split_sentences)\n",
    "#sample =split_sentences( review_data['reviewText'][9827])\n",
    "#sample\n"
   ]
  },
  {
   "cell_type": "code",
   "execution_count": 14,
   "metadata": {},
   "outputs": [
    {
     "data": {
      "text/html": [
       "<div>\n",
       "<style scoped>\n",
       "    .dataframe tbody tr th:only-of-type {\n",
       "        vertical-align: middle;\n",
       "    }\n",
       "\n",
       "    .dataframe tbody tr th {\n",
       "        vertical-align: top;\n",
       "    }\n",
       "\n",
       "    .dataframe thead th {\n",
       "        text-align: right;\n",
       "    }\n",
       "</style>\n",
       "<table border=\"1\" class=\"dataframe\">\n",
       "  <thead>\n",
       "    <tr style=\"text-align: right;\">\n",
       "      <th></th>\n",
       "      <th>reviewText</th>\n",
       "      <th>overall</th>\n",
       "      <th>unixReviewTime</th>\n",
       "      <th>Review_Interval_Days</th>\n",
       "      <th>usefulScore</th>\n",
       "    </tr>\n",
       "  </thead>\n",
       "  <tbody>\n",
       "    <tr>\n",
       "      <th>9</th>\n",
       "      <td>For what I paid for two tutus is unbeatable an...</td>\n",
       "      <td>5</td>\n",
       "      <td>1349568000</td>\n",
       "      <td>4031</td>\n",
       "      <td>0.875</td>\n",
       "    </tr>\n",
       "    <tr>\n",
       "      <th>13</th>\n",
       "      <td>Full and well stitched.  This tutu is a beauti...</td>\n",
       "      <td>5</td>\n",
       "      <td>1361664000</td>\n",
       "      <td>3891</td>\n",
       "      <td>1.000</td>\n",
       "    </tr>\n",
       "    <tr>\n",
       "      <th>22</th>\n",
       "      <td>Prompt delivery, and it is exactly as describe...</td>\n",
       "      <td>4</td>\n",
       "      <td>1365552000</td>\n",
       "      <td>3846</td>\n",
       "      <td>0.500</td>\n",
       "    </tr>\n",
       "    <tr>\n",
       "      <th>23</th>\n",
       "      <td>The minute I saw this my heart skipped a beat....</td>\n",
       "      <td>5</td>\n",
       "      <td>1383782400</td>\n",
       "      <td>3635</td>\n",
       "      <td>1.000</td>\n",
       "    </tr>\n",
       "    <tr>\n",
       "      <th>24</th>\n",
       "      <td>Love this Jewelry Box  so well put together ho...</td>\n",
       "      <td>5</td>\n",
       "      <td>1390089600</td>\n",
       "      <td>3562</td>\n",
       "      <td>0.000</td>\n",
       "    </tr>\n",
       "  </tbody>\n",
       "</table>\n",
       "</div>"
      ],
      "text/plain": [
       "                                           reviewText  overall  \\\n",
       "9   For what I paid for two tutus is unbeatable an...        5   \n",
       "13  Full and well stitched.  This tutu is a beauti...        5   \n",
       "22  Prompt delivery, and it is exactly as describe...        4   \n",
       "23  The minute I saw this my heart skipped a beat....        5   \n",
       "24  Love this Jewelry Box  so well put together ho...        5   \n",
       "\n",
       "    unixReviewTime  Review_Interval_Days  usefulScore  \n",
       "9       1349568000                  4031        0.875  \n",
       "13      1361664000                  3891        1.000  \n",
       "22      1365552000                  3846        0.500  \n",
       "23      1383782400                  3635        1.000  \n",
       "24      1390089600                  3562        0.000  "
      ]
     },
     "execution_count": 14,
     "metadata": {},
     "output_type": "execute_result"
    }
   ],
   "source": [
    "review_data.head()"
   ]
  },
  {
   "cell_type": "markdown",
   "metadata": {},
   "source": [
    "# SMOG指数可读性分析\n",
    "SMOG指数是一种用于评估文本可读性的指标，它考虑了一个文本中的多音节词的数量。SMOG代表了“Simple Measure of Gobbledygook”（即“混乱简单度量”），是由罗伯特·克拉斯特（Robert Gunning）于1952年提出的。它旨在提供一个简单但有效的方法来估计一段文本的阅读难易程度。"
   ]
  },
  {
   "cell_type": "code",
   "execution_count": 15,
   "metadata": {},
   "outputs": [
    {
     "name": "stdout",
     "output_type": "stream",
     "text": [
      "<class 'pandas.core.frame.DataFrame'>\n",
      "Int64Index: 87003 entries, 9 to 278676\n",
      "Data columns (total 5 columns):\n",
      " #   Column                Non-Null Count  Dtype  \n",
      "---  ------                --------------  -----  \n",
      " 0   reviewText            87003 non-null  object \n",
      " 1   overall               87003 non-null  int64  \n",
      " 2   unixReviewTime        87003 non-null  int64  \n",
      " 3   Review_Interval_Days  87003 non-null  int64  \n",
      " 4   usefulScore           87003 non-null  float64\n",
      "dtypes: float64(1), int64(3), object(1)\n",
      "memory usage: 4.0+ MB\n"
     ]
    }
   ],
   "source": [
    "review_data.info()"
   ]
  },
  {
   "cell_type": "code",
   "execution_count": 16,
   "metadata": {},
   "outputs": [],
   "source": [
    "sample_data = review_data.sample(n=10000, random_state=42)"
   ]
  },
  {
   "cell_type": "code",
   "execution_count": 17,
   "metadata": {},
   "outputs": [
    {
     "data": {
      "text/html": [
       "<div>\n",
       "<style scoped>\n",
       "    .dataframe tbody tr th:only-of-type {\n",
       "        vertical-align: middle;\n",
       "    }\n",
       "\n",
       "    .dataframe tbody tr th {\n",
       "        vertical-align: top;\n",
       "    }\n",
       "\n",
       "    .dataframe thead th {\n",
       "        text-align: right;\n",
       "    }\n",
       "</style>\n",
       "<table border=\"1\" class=\"dataframe\">\n",
       "  <thead>\n",
       "    <tr style=\"text-align: right;\">\n",
       "      <th></th>\n",
       "      <th>reviewText</th>\n",
       "      <th>overall</th>\n",
       "      <th>unixReviewTime</th>\n",
       "      <th>Review_Interval_Days</th>\n",
       "      <th>usefulScore</th>\n",
       "    </tr>\n",
       "  </thead>\n",
       "  <tbody>\n",
       "    <tr>\n",
       "      <th>149351</th>\n",
       "      <td>for a nice fit under your pants these are grea...</td>\n",
       "      <td>5</td>\n",
       "      <td>1348099200</td>\n",
       "      <td>4048</td>\n",
       "      <td>1.000000</td>\n",
       "    </tr>\n",
       "    <tr>\n",
       "      <th>127059</th>\n",
       "      <td>I bought this for my daughter to help keep her...</td>\n",
       "      <td>1</td>\n",
       "      <td>1356739200</td>\n",
       "      <td>3948</td>\n",
       "      <td>0.750000</td>\n",
       "    </tr>\n",
       "    <tr>\n",
       "      <th>246096</th>\n",
       "      <td>This is a really sexy dress! It fits me well. ...</td>\n",
       "      <td>5</td>\n",
       "      <td>1379462400</td>\n",
       "      <td>3685</td>\n",
       "      <td>0.000000</td>\n",
       "    </tr>\n",
       "    <tr>\n",
       "      <th>245227</th>\n",
       "      <td>I usually wear stainless steel watches, but I ...</td>\n",
       "      <td>5</td>\n",
       "      <td>1371081600</td>\n",
       "      <td>3782</td>\n",
       "      <td>1.000000</td>\n",
       "    </tr>\n",
       "    <tr>\n",
       "      <th>8446</th>\n",
       "      <td>These Daniel Green slippers are just wonderful...</td>\n",
       "      <td>5</td>\n",
       "      <td>1362700800</td>\n",
       "      <td>3879</td>\n",
       "      <td>1.000000</td>\n",
       "    </tr>\n",
       "    <tr>\n",
       "      <th>...</th>\n",
       "      <td>...</td>\n",
       "      <td>...</td>\n",
       "      <td>...</td>\n",
       "      <td>...</td>\n",
       "      <td>...</td>\n",
       "    </tr>\n",
       "    <tr>\n",
       "      <th>238410</th>\n",
       "      <td>This product is nice .for the price tore the f...</td>\n",
       "      <td>1</td>\n",
       "      <td>1398643200</td>\n",
       "      <td>3463</td>\n",
       "      <td>0.000000</td>\n",
       "    </tr>\n",
       "    <tr>\n",
       "      <th>159464</th>\n",
       "      <td>I'm always weary when purchasing designer mark...</td>\n",
       "      <td>5</td>\n",
       "      <td>1375056000</td>\n",
       "      <td>3736</td>\n",
       "      <td>0.916667</td>\n",
       "    </tr>\n",
       "    <tr>\n",
       "      <th>262329</th>\n",
       "      <td>I absolutely love the style and color of this ...</td>\n",
       "      <td>4</td>\n",
       "      <td>1382572800</td>\n",
       "      <td>3649</td>\n",
       "      <td>0.916667</td>\n",
       "    </tr>\n",
       "    <tr>\n",
       "      <th>28991</th>\n",
       "      <td>First note, the conservative fit only applies ...</td>\n",
       "      <td>3</td>\n",
       "      <td>1387670400</td>\n",
       "      <td>3590</td>\n",
       "      <td>1.000000</td>\n",
       "    </tr>\n",
       "    <tr>\n",
       "      <th>145502</th>\n",
       "      <td>im not that into Toms as i feel like the craft...</td>\n",
       "      <td>5</td>\n",
       "      <td>1402358400</td>\n",
       "      <td>3420</td>\n",
       "      <td>0.500000</td>\n",
       "    </tr>\n",
       "  </tbody>\n",
       "</table>\n",
       "<p>10000 rows × 5 columns</p>\n",
       "</div>"
      ],
      "text/plain": [
       "                                               reviewText  overall  \\\n",
       "149351  for a nice fit under your pants these are grea...        5   \n",
       "127059  I bought this for my daughter to help keep her...        1   \n",
       "246096  This is a really sexy dress! It fits me well. ...        5   \n",
       "245227  I usually wear stainless steel watches, but I ...        5   \n",
       "8446    These Daniel Green slippers are just wonderful...        5   \n",
       "...                                                   ...      ...   \n",
       "238410  This product is nice .for the price tore the f...        1   \n",
       "159464  I'm always weary when purchasing designer mark...        5   \n",
       "262329  I absolutely love the style and color of this ...        4   \n",
       "28991   First note, the conservative fit only applies ...        3   \n",
       "145502  im not that into Toms as i feel like the craft...        5   \n",
       "\n",
       "        unixReviewTime  Review_Interval_Days  usefulScore  \n",
       "149351      1348099200                  4048     1.000000  \n",
       "127059      1356739200                  3948     0.750000  \n",
       "246096      1379462400                  3685     0.000000  \n",
       "245227      1371081600                  3782     1.000000  \n",
       "8446        1362700800                  3879     1.000000  \n",
       "...                ...                   ...          ...  \n",
       "238410      1398643200                  3463     0.000000  \n",
       "159464      1375056000                  3736     0.916667  \n",
       "262329      1382572800                  3649     0.916667  \n",
       "28991       1387670400                  3590     1.000000  \n",
       "145502      1402358400                  3420     0.500000  \n",
       "\n",
       "[10000 rows x 5 columns]"
      ]
     },
     "execution_count": 17,
     "metadata": {},
     "output_type": "execute_result"
    }
   ],
   "source": [
    "sample_data"
   ]
  },
  {
   "cell_type": "code",
   "execution_count": 18,
   "metadata": {},
   "outputs": [
    {
     "data": {
      "text/plain": [
       "149351    for a nice fit under your pants these are grea...\n",
       "127059    I bought this for my daughter to help keep her...\n",
       "246096    This is a really sexy dress! It fits me well. ...\n",
       "245227    I usually wear stainless steel watches, but I ...\n",
       "8446      These Daniel Green slippers are just wonderful...\n",
       "                                ...                        \n",
       "238410    This product is nice .for the price tore the f...\n",
       "159464    I'm always weary when purchasing designer mark...\n",
       "262329    I absolutely love the style and color of this ...\n",
       "28991     First note, the conservative fit only applies ...\n",
       "145502    im not that into Toms as i feel like the craft...\n",
       "Name: reviewText, Length: 10000, dtype: object"
      ]
     },
     "execution_count": 18,
     "metadata": {},
     "output_type": "execute_result"
    }
   ],
   "source": [
    "sample_data.reviewText"
   ]
  },
  {
   "cell_type": "code",
   "execution_count": 19,
   "metadata": {},
   "outputs": [
    {
     "name": "stdout",
     "output_type": "stream",
     "text": [
      "Error calculating SMOG for text: Word to be hyphenated may have at most 100 characters./nI had to wait for two shippings before it finally arrived.The skirt is BEAUTIFUL!It arrived a bit wrinkled, so I put it in the dryer to loosen up wrinkles.  Am going to order some tops to match it before I wear it to a party.It is gorgeous!  I love to dance at parties and swirl and twirl, and let my fluffy slips show underneath.  I have a red one, and a matching blue one I already own.  But waiting for the perfect top to go with it.Some tops require too much care, like hand washing or such.  These below seem the most easy care, but I'll still take it easy when washing them.These are the blouses I've considered purchasing with it:I wanted something to match the color, so I could wear the top with blue jeans.  Amazon has many more similar blouses, but they were in the tiny sizes.  (April 12, 2012)*http://www.amazon.com/gp/product/B0065LVD9K/ref=ox_sc_act_title_2?ie=UTF8&m;=A1CGZU4902OKFJ*http://www.amazon.com/gp/product/B007A48EHU/ref=ox_sc_act_title_3?ie=UTF8&m;=A2H2AYTJFCST9E*.\n"
     ]
    }
   ],
   "source": [
    "from textatistic import Textatistic\n",
    "\n",
    "# 定义一个函数来计算SMOG指数\n",
    "def calculate_smog(text):\n",
    "    try:\n",
    "        stats = Textatistic(text)\n",
    "        return stats.smog_score\n",
    "    except Exception as e:\n",
    "        print(f\"Error calculating SMOG for text: {e}/n{text}\")\n",
    "        return 0\n",
    "\n",
    "# 示例用法\n",
    "readability_scores = []\n",
    "\n",
    "for i in sample_data.reviewText:\n",
    "    smog = calculate_smog(i)\n",
    "    readability_scores.append(smog)\n",
    "\n",
    "sample_data['Readability_smog'] = readability_scores\n"
   ]
  },
  {
   "cell_type": "code",
   "execution_count": 20,
   "metadata": {},
   "outputs": [],
   "source": [
    "from textstat import flesch_kincaid_grade, gunning_fog\n",
    "\n",
    "\n",
    "# 示例用法\n",
    "flesch_scores = []\n",
    "gunning_scores = []\n",
    "\n",
    "for i in sample_data.reviewText:\n",
    "    fk_score = flesch_kincaid_grade(i)\n",
    "    gf_score = gunning_fog(i)\n",
    "    flesch_scores.append(fk_score)\n",
    "    gunning_scores.append(gf_score)\n",
    "\n",
    "sample_data['Readability_flesch'] = flesch_scores\n",
    "sample_data['Readability_Gunning'] = gunning_scores"
   ]
  },
  {
   "cell_type": "code",
   "execution_count": 21,
   "metadata": {},
   "outputs": [],
   "source": [
    "###字符\n",
    "##单词数\n",
    "sample_data['Readability_char_count'] = sample_data['reviewText'].apply(len)\n",
    "\n",
    "# 计算单词数并添加为新列 'Word_Count'\n",
    "sample_data['Word_Count'] = sample_data['reviewText'].apply(lambda x: len(x.split()))\n"
   ]
  },
  {
   "cell_type": "markdown",
   "metadata": {},
   "source": [
    "## Test of SentimentIntensity Analysis极性分析\n"
   ]
  },
  {
   "cell_type": "code",
   "execution_count": 34,
   "metadata": {},
   "outputs": [],
   "source": [
    "from nltk.sentiment.vader import SentimentIntensityAnalyzer\n",
    "analyser = SentimentIntensityAnalyzer()\n",
    "#sample_review = review_data.reviewText[:10]\n",
    "Review_Polarity = []\n",
    "for test in sample_data.reviewText:\n",
    "    ss = analyser.polarity_scores(test) #极性分析\n",
    "    #for k in sorted(ss):\n",
    "        #print('{0}: {1}, '.format(k, ss[k]))\n",
    "    Review_Polarity.append(ss['compound'])\n",
    "    #print(test)\n",
    "Review_Polarity[:10]\n",
    "sample_data['Polarity'] = Review_Polarity"
   ]
  },
  {
   "cell_type": "markdown",
   "metadata": {},
   "source": [
    "# 主观性分析 TextBlob\n"
   ]
  },
  {
   "cell_type": "code",
   "execution_count": 35,
   "metadata": {},
   "outputs": [],
   "source": [
    "from textblob import TextBlob, Word, Blobber\n",
    "sample_data['Subjectivity'] = sample_data['reviewText'].apply(lambda x: TextBlob(x).sentiment[1])\n",
    "\n"
   ]
  },
  {
   "cell_type": "code",
   "execution_count": 36,
   "metadata": {},
   "outputs": [],
   "source": [
    "sample_data = sample_data.drop(['reviewText'],axis=1)"
   ]
  },
  {
   "cell_type": "code",
   "execution_count": 37,
   "metadata": {},
   "outputs": [
    {
     "data": {
      "text/html": [
       "<div>\n",
       "<style scoped>\n",
       "    .dataframe tbody tr th:only-of-type {\n",
       "        vertical-align: middle;\n",
       "    }\n",
       "\n",
       "    .dataframe tbody tr th {\n",
       "        vertical-align: top;\n",
       "    }\n",
       "\n",
       "    .dataframe thead th {\n",
       "        text-align: right;\n",
       "    }\n",
       "</style>\n",
       "<table border=\"1\" class=\"dataframe\">\n",
       "  <thead>\n",
       "    <tr style=\"text-align: right;\">\n",
       "      <th></th>\n",
       "      <th>overall</th>\n",
       "      <th>unixReviewTime</th>\n",
       "      <th>Review_Interval_Days</th>\n",
       "      <th>usefulScore</th>\n",
       "      <th>Readability_smog</th>\n",
       "      <th>Readability_flesch</th>\n",
       "      <th>Readability_Gunning</th>\n",
       "      <th>Readability_char_count</th>\n",
       "      <th>Word_Count</th>\n",
       "      <th>Polarity</th>\n",
       "      <th>Subjectivity</th>\n",
       "    </tr>\n",
       "  </thead>\n",
       "  <tbody>\n",
       "    <tr>\n",
       "      <th>149351</th>\n",
       "      <td>5</td>\n",
       "      <td>1348099200</td>\n",
       "      <td>4048</td>\n",
       "      <td>1.000000</td>\n",
       "      <td>3.129100</td>\n",
       "      <td>2.9</td>\n",
       "      <td>3.20</td>\n",
       "      <td>181</td>\n",
       "      <td>32</td>\n",
       "      <td>0.9693</td>\n",
       "      <td>0.643750</td>\n",
       "    </tr>\n",
       "    <tr>\n",
       "      <th>127059</th>\n",
       "      <td>1</td>\n",
       "      <td>1356739200</td>\n",
       "      <td>3948</td>\n",
       "      <td>0.750000</td>\n",
       "      <td>7.168622</td>\n",
       "      <td>6.3</td>\n",
       "      <td>7.20</td>\n",
       "      <td>455</td>\n",
       "      <td>84</td>\n",
       "      <td>-0.6580</td>\n",
       "      <td>0.633333</td>\n",
       "    </tr>\n",
       "    <tr>\n",
       "      <th>246096</th>\n",
       "      <td>5</td>\n",
       "      <td>1379462400</td>\n",
       "      <td>3685</td>\n",
       "      <td>0.000000</td>\n",
       "      <td>5.683918</td>\n",
       "      <td>5.0</td>\n",
       "      <td>7.15</td>\n",
       "      <td>332</td>\n",
       "      <td>68</td>\n",
       "      <td>0.9541</td>\n",
       "      <td>0.629894</td>\n",
       "    </tr>\n",
       "    <tr>\n",
       "      <th>245227</th>\n",
       "      <td>5</td>\n",
       "      <td>1371081600</td>\n",
       "      <td>3782</td>\n",
       "      <td>1.000000</td>\n",
       "      <td>6.427356</td>\n",
       "      <td>4.7</td>\n",
       "      <td>7.19</td>\n",
       "      <td>201</td>\n",
       "      <td>38</td>\n",
       "      <td>0.9109</td>\n",
       "      <td>0.480000</td>\n",
       "    </tr>\n",
       "    <tr>\n",
       "      <th>8446</th>\n",
       "      <td>5</td>\n",
       "      <td>1362700800</td>\n",
       "      <td>3879</td>\n",
       "      <td>1.000000</td>\n",
       "      <td>9.516145</td>\n",
       "      <td>6.3</td>\n",
       "      <td>8.43</td>\n",
       "      <td>310</td>\n",
       "      <td>55</td>\n",
       "      <td>0.9681</td>\n",
       "      <td>0.588462</td>\n",
       "    </tr>\n",
       "    <tr>\n",
       "      <th>...</th>\n",
       "      <td>...</td>\n",
       "      <td>...</td>\n",
       "      <td>...</td>\n",
       "      <td>...</td>\n",
       "      <td>...</td>\n",
       "      <td>...</td>\n",
       "      <td>...</td>\n",
       "      <td>...</td>\n",
       "      <td>...</td>\n",
       "      <td>...</td>\n",
       "      <td>...</td>\n",
       "    </tr>\n",
       "    <tr>\n",
       "      <th>238410</th>\n",
       "      <td>1</td>\n",
       "      <td>1398643200</td>\n",
       "      <td>3463</td>\n",
       "      <td>0.000000</td>\n",
       "      <td>6.627428</td>\n",
       "      <td>2.7</td>\n",
       "      <td>4.78</td>\n",
       "      <td>226</td>\n",
       "      <td>45</td>\n",
       "      <td>-0.0716</td>\n",
       "      <td>0.413333</td>\n",
       "    </tr>\n",
       "    <tr>\n",
       "      <th>159464</th>\n",
       "      <td>5</td>\n",
       "      <td>1375056000</td>\n",
       "      <td>3736</td>\n",
       "      <td>0.916667</td>\n",
       "      <td>6.627428</td>\n",
       "      <td>5.2</td>\n",
       "      <td>8.46</td>\n",
       "      <td>322</td>\n",
       "      <td>56</td>\n",
       "      <td>0.7992</td>\n",
       "      <td>0.705000</td>\n",
       "    </tr>\n",
       "    <tr>\n",
       "      <th>262329</th>\n",
       "      <td>4</td>\n",
       "      <td>1382572800</td>\n",
       "      <td>3649</td>\n",
       "      <td>0.916667</td>\n",
       "      <td>8.841846</td>\n",
       "      <td>17.3</td>\n",
       "      <td>21.18</td>\n",
       "      <td>233</td>\n",
       "      <td>51</td>\n",
       "      <td>0.7902</td>\n",
       "      <td>0.428571</td>\n",
       "    </tr>\n",
       "    <tr>\n",
       "      <th>28991</th>\n",
       "      <td>3</td>\n",
       "      <td>1387670400</td>\n",
       "      <td>3590</td>\n",
       "      <td>1.000000</td>\n",
       "      <td>7.957252</td>\n",
       "      <td>6.7</td>\n",
       "      <td>7.05</td>\n",
       "      <td>553</td>\n",
       "      <td>103</td>\n",
       "      <td>0.8982</td>\n",
       "      <td>0.469792</td>\n",
       "    </tr>\n",
       "    <tr>\n",
       "      <th>145502</th>\n",
       "      <td>5</td>\n",
       "      <td>1402358400</td>\n",
       "      <td>3420</td>\n",
       "      <td>0.500000</td>\n",
       "      <td>7.793538</td>\n",
       "      <td>5.8</td>\n",
       "      <td>8.67</td>\n",
       "      <td>635</td>\n",
       "      <td>130</td>\n",
       "      <td>0.9897</td>\n",
       "      <td>0.678288</td>\n",
       "    </tr>\n",
       "  </tbody>\n",
       "</table>\n",
       "<p>10000 rows × 11 columns</p>\n",
       "</div>"
      ],
      "text/plain": [
       "        overall  unixReviewTime  Review_Interval_Days  usefulScore  \\\n",
       "149351        5      1348099200                  4048     1.000000   \n",
       "127059        1      1356739200                  3948     0.750000   \n",
       "246096        5      1379462400                  3685     0.000000   \n",
       "245227        5      1371081600                  3782     1.000000   \n",
       "8446          5      1362700800                  3879     1.000000   \n",
       "...         ...             ...                   ...          ...   \n",
       "238410        1      1398643200                  3463     0.000000   \n",
       "159464        5      1375056000                  3736     0.916667   \n",
       "262329        4      1382572800                  3649     0.916667   \n",
       "28991         3      1387670400                  3590     1.000000   \n",
       "145502        5      1402358400                  3420     0.500000   \n",
       "\n",
       "        Readability_smog  Readability_flesch  Readability_Gunning  \\\n",
       "149351          3.129100                 2.9                 3.20   \n",
       "127059          7.168622                 6.3                 7.20   \n",
       "246096          5.683918                 5.0                 7.15   \n",
       "245227          6.427356                 4.7                 7.19   \n",
       "8446            9.516145                 6.3                 8.43   \n",
       "...                  ...                 ...                  ...   \n",
       "238410          6.627428                 2.7                 4.78   \n",
       "159464          6.627428                 5.2                 8.46   \n",
       "262329          8.841846                17.3                21.18   \n",
       "28991           7.957252                 6.7                 7.05   \n",
       "145502          7.793538                 5.8                 8.67   \n",
       "\n",
       "        Readability_char_count  Word_Count  Polarity  Subjectivity  \n",
       "149351                     181          32    0.9693      0.643750  \n",
       "127059                     455          84   -0.6580      0.633333  \n",
       "246096                     332          68    0.9541      0.629894  \n",
       "245227                     201          38    0.9109      0.480000  \n",
       "8446                       310          55    0.9681      0.588462  \n",
       "...                        ...         ...       ...           ...  \n",
       "238410                     226          45   -0.0716      0.413333  \n",
       "159464                     322          56    0.7992      0.705000  \n",
       "262329                     233          51    0.7902      0.428571  \n",
       "28991                      553         103    0.8982      0.469792  \n",
       "145502                     635         130    0.9897      0.678288  \n",
       "\n",
       "[10000 rows x 11 columns]"
      ]
     },
     "execution_count": 37,
     "metadata": {},
     "output_type": "execute_result"
    }
   ],
   "source": [
    "sample_data"
   ]
  },
  {
   "cell_type": "markdown",
   "metadata": {},
   "source": [
    "# distribution of usefulScore is heavily skewed towards 0"
   ]
  },
  {
   "cell_type": "code",
   "execution_count": 38,
   "metadata": {},
   "outputs": [
    {
     "data": {
      "text/html": [
       "<div>\n",
       "<style scoped>\n",
       "    .dataframe tbody tr th:only-of-type {\n",
       "        vertical-align: middle;\n",
       "    }\n",
       "\n",
       "    .dataframe tbody tr th {\n",
       "        vertical-align: top;\n",
       "    }\n",
       "\n",
       "    .dataframe thead th {\n",
       "        text-align: right;\n",
       "    }\n",
       "</style>\n",
       "<table border=\"1\" class=\"dataframe\">\n",
       "  <thead>\n",
       "    <tr style=\"text-align: right;\">\n",
       "      <th></th>\n",
       "      <th>overall</th>\n",
       "      <th>unixReviewTime</th>\n",
       "      <th>Review_Interval_Days</th>\n",
       "      <th>usefulScore</th>\n",
       "      <th>Readability_smog</th>\n",
       "      <th>Readability_flesch</th>\n",
       "      <th>Readability_Gunning</th>\n",
       "      <th>Readability_char_count</th>\n",
       "      <th>Word_Count</th>\n",
       "      <th>Polarity</th>\n",
       "      <th>Subjectivity</th>\n",
       "    </tr>\n",
       "  </thead>\n",
       "  <tbody>\n",
       "    <tr>\n",
       "      <th>count</th>\n",
       "      <td>10000.000000</td>\n",
       "      <td>1.000000e+04</td>\n",
       "      <td>10000.000000</td>\n",
       "      <td>10000.000000</td>\n",
       "      <td>10000.000000</td>\n",
       "      <td>10000.000000</td>\n",
       "      <td>10000.000000</td>\n",
       "      <td>10000.0000</td>\n",
       "      <td>10000.000000</td>\n",
       "      <td>10000.000000</td>\n",
       "      <td>10000.000000</td>\n",
       "    </tr>\n",
       "    <tr>\n",
       "      <th>mean</th>\n",
       "      <td>4.070300</td>\n",
       "      <td>1.361367e+09</td>\n",
       "      <td>3894.435700</td>\n",
       "      <td>0.773324</td>\n",
       "      <td>6.552229</td>\n",
       "      <td>4.964000</td>\n",
       "      <td>7.389558</td>\n",
       "      <td>417.2428</td>\n",
       "      <td>78.940900</td>\n",
       "      <td>0.659652</td>\n",
       "      <td>0.554688</td>\n",
       "    </tr>\n",
       "    <tr>\n",
       "      <th>std</th>\n",
       "      <td>1.245276</td>\n",
       "      <td>3.699698e+07</td>\n",
       "      <td>428.205787</td>\n",
       "      <td>0.350015</td>\n",
       "      <td>2.099219</td>\n",
       "      <td>2.788644</td>\n",
       "      <td>2.821341</td>\n",
       "      <td>448.5462</td>\n",
       "      <td>82.984254</td>\n",
       "      <td>0.455359</td>\n",
       "      <td>0.143336</td>\n",
       "    </tr>\n",
       "    <tr>\n",
       "      <th>min</th>\n",
       "      <td>1.000000</td>\n",
       "      <td>1.102464e+09</td>\n",
       "      <td>3386.000000</td>\n",
       "      <td>0.000000</td>\n",
       "      <td>0.000000</td>\n",
       "      <td>-3.100000</td>\n",
       "      <td>0.800000</td>\n",
       "      <td>10.0000</td>\n",
       "      <td>2.000000</td>\n",
       "      <td>-0.992100</td>\n",
       "      <td>0.000000</td>\n",
       "    </tr>\n",
       "    <tr>\n",
       "      <th>25%</th>\n",
       "      <td>3.000000</td>\n",
       "      <td>1.352333e+09</td>\n",
       "      <td>3604.000000</td>\n",
       "      <td>0.666667</td>\n",
       "      <td>5.565023</td>\n",
       "      <td>3.300000</td>\n",
       "      <td>5.700000</td>\n",
       "      <td>168.0000</td>\n",
       "      <td>32.000000</td>\n",
       "      <td>0.585900</td>\n",
       "      <td>0.469504</td>\n",
       "    </tr>\n",
       "    <tr>\n",
       "      <th>50%</th>\n",
       "      <td>5.000000</td>\n",
       "      <td>1.369786e+09</td>\n",
       "      <td>3797.000000</td>\n",
       "      <td>1.000000</td>\n",
       "      <td>6.742158</td>\n",
       "      <td>4.600000</td>\n",
       "      <td>7.000000</td>\n",
       "      <td>283.0000</td>\n",
       "      <td>54.000000</td>\n",
       "      <td>0.865800</td>\n",
       "      <td>0.550383</td>\n",
       "    </tr>\n",
       "    <tr>\n",
       "      <th>75%</th>\n",
       "      <td>5.000000</td>\n",
       "      <td>1.386461e+09</td>\n",
       "      <td>3999.000000</td>\n",
       "      <td>1.000000</td>\n",
       "      <td>7.793538</td>\n",
       "      <td>6.200000</td>\n",
       "      <td>8.592500</td>\n",
       "      <td>501.0000</td>\n",
       "      <td>96.000000</td>\n",
       "      <td>0.948300</td>\n",
       "      <td>0.638889</td>\n",
       "    </tr>\n",
       "    <tr>\n",
       "      <th>max</th>\n",
       "      <td>5.000000</td>\n",
       "      <td>1.405296e+09</td>\n",
       "      <td>6891.000000</td>\n",
       "      <td>1.000000</td>\n",
       "      <td>21.194390</td>\n",
       "      <td>52.000000</td>\n",
       "      <td>55.450000</td>\n",
       "      <td>11970.0000</td>\n",
       "      <td>2152.000000</td>\n",
       "      <td>0.999800</td>\n",
       "      <td>1.000000</td>\n",
       "    </tr>\n",
       "  </tbody>\n",
       "</table>\n",
       "</div>"
      ],
      "text/plain": [
       "            overall  unixReviewTime  Review_Interval_Days   usefulScore  \\\n",
       "count  10000.000000    1.000000e+04          10000.000000  10000.000000   \n",
       "mean       4.070300    1.361367e+09           3894.435700      0.773324   \n",
       "std        1.245276    3.699698e+07            428.205787      0.350015   \n",
       "min        1.000000    1.102464e+09           3386.000000      0.000000   \n",
       "25%        3.000000    1.352333e+09           3604.000000      0.666667   \n",
       "50%        5.000000    1.369786e+09           3797.000000      1.000000   \n",
       "75%        5.000000    1.386461e+09           3999.000000      1.000000   \n",
       "max        5.000000    1.405296e+09           6891.000000      1.000000   \n",
       "\n",
       "       Readability_smog  Readability_flesch  Readability_Gunning  \\\n",
       "count      10000.000000        10000.000000         10000.000000   \n",
       "mean           6.552229            4.964000             7.389558   \n",
       "std            2.099219            2.788644             2.821341   \n",
       "min            0.000000           -3.100000             0.800000   \n",
       "25%            5.565023            3.300000             5.700000   \n",
       "50%            6.742158            4.600000             7.000000   \n",
       "75%            7.793538            6.200000             8.592500   \n",
       "max           21.194390           52.000000            55.450000   \n",
       "\n",
       "       Readability_char_count    Word_Count      Polarity  Subjectivity  \n",
       "count              10000.0000  10000.000000  10000.000000  10000.000000  \n",
       "mean                 417.2428     78.940900      0.659652      0.554688  \n",
       "std                  448.5462     82.984254      0.455359      0.143336  \n",
       "min                   10.0000      2.000000     -0.992100      0.000000  \n",
       "25%                  168.0000     32.000000      0.585900      0.469504  \n",
       "50%                  283.0000     54.000000      0.865800      0.550383  \n",
       "75%                  501.0000     96.000000      0.948300      0.638889  \n",
       "max                11970.0000   2152.000000      0.999800      1.000000  "
      ]
     },
     "execution_count": 38,
     "metadata": {},
     "output_type": "execute_result"
    }
   ],
   "source": [
    "sample_data.describe()"
   ]
  },
  {
   "cell_type": "code",
   "execution_count": 39,
   "metadata": {},
   "outputs": [
    {
     "data": {
      "text/plain": [
       "0.000000    1331\n",
       "0.052632       1\n",
       "0.055556       1\n",
       "0.074074       1\n",
       "0.083333       2\n",
       "            ... \n",
       "0.985294       1\n",
       "0.986301       1\n",
       "0.987500       1\n",
       "0.995614       1\n",
       "1.000000    5885\n",
       "Name: usefulScore, Length: 197, dtype: int64"
      ]
     },
     "execution_count": 39,
     "metadata": {},
     "output_type": "execute_result"
    }
   ],
   "source": [
    "import seaborn as sns\n",
    "import matplotlib.pyplot as plt\n",
    "b = sample_data.usefulScore.value_counts().sort_index()\n",
    "b\n",
    "\n"
   ]
  },
  {
   "cell_type": "code",
   "execution_count": 40,
   "metadata": {},
   "outputs": [
    {
     "data": {
      "text/plain": [
       "(-0.001, 0.1]    1339\n",
       "(0.1, 0.2]         23\n",
       "(0.2, 0.3]         38\n",
       "(0.3, 0.4]         98\n",
       "(0.4, 0.5]        877\n",
       "(0.5, 0.6]         87\n",
       "(0.6, 0.7]        427\n",
       "(0.7, 0.8]        536\n",
       "(0.8, 0.9]        376\n",
       "(0.9, 1.0]       6199\n",
       "Name: usefulScore, dtype: int64"
      ]
     },
     "execution_count": 40,
     "metadata": {},
     "output_type": "execute_result"
    }
   ],
   "source": [
    "bins = pd.cut(sample_data['usefulScore'], bins=10)\n",
    "\n",
    "# 计算每个区间的计数\n",
    "counts = bins.value_counts().sort_index()\n",
    "counts"
   ]
  },
  {
   "cell_type": "code",
   "execution_count": 41,
   "metadata": {},
   "outputs": [
    {
     "data": {
      "image/png": "[encoded data removed]",
      "text/plain": [
       "<Figure size 1000x600 with 1 Axes>"
      ]
     },
     "metadata": {},
     "output_type": "display_data"
    }
   ],
   "source": [
    "import pandas as pd\n",
    "import seaborn as sns\n",
    "import matplotlib.pyplot as plt\n",
    "\n",
    "# 假设 sample_data 包含了你的数据\n",
    "# 例如：sample_data = pd.read_csv('your_data.csv')\n",
    "\n",
    "# 将 usefulScore 列的值分成十个区间\n",
    "bins = pd.cut(sample_data['usefulScore'], bins=10)\n",
    "\n",
    "# 计算每个区间的计数\n",
    "counts = bins.value_counts().sort_index()\n",
    "\n",
    "# 绘制 barplot\n",
    "plt.figure(figsize=(10, 6))\n",
    "sns.barplot(x=counts.index, y=counts.values)\n",
    "plt.xlabel('usefulScore')\n",
    "plt.ylabel('Count')\n",
    "plt.title('Distribution of usefulScore')\n",
    "plt.xticks(rotation=45)\n",
    "plt.show()\n"
   ]
  },
  {
   "cell_type": "markdown",
   "metadata": {},
   "source": [
    "# 样本不均衡，AUC=0.5\n"
   ]
  },
  {
   "cell_type": "code",
   "execution_count": 42,
   "metadata": {},
   "outputs": [
    {
     "data": {
      "text/plain": [
       "0.000000    1331\n",
       "0.052632       1\n",
       "0.055556       1\n",
       "0.074074       1\n",
       "0.083333       2\n",
       "            ... \n",
       "0.985294       1\n",
       "0.986301       1\n",
       "0.987500       1\n",
       "0.995614       1\n",
       "1.000000    5885\n",
       "Name: usefulScore, Length: 197, dtype: int64"
      ]
     },
     "execution_count": 42,
     "metadata": {},
     "output_type": "execute_result"
    }
   ],
   "source": [
    "b"
   ]
  },
  {
   "cell_type": "code",
   "execution_count": 43,
   "metadata": {},
   "outputs": [],
   "source": [
    "from sklearn.preprocessing import MinMaxScaler\n",
    "\n",
    "# 初始化MinMaxScaler\n",
    "scaler = MinMaxScaler()\n"
   ]
  },
  {
   "cell_type": "code",
   "execution_count": 45,
   "metadata": {},
   "outputs": [
    {
     "data": {
      "image/png": "[encoded data removed]",
      "text/plain": [
       "<Figure size 800x600 with 2 Axes>"
      ]
     },
     "metadata": {},
     "output_type": "display_data"
    }
   ],
   "source": [
    "import seaborn as sns\n",
    "import matplotlib.pyplot as plt\n",
    "from sklearn.ensemble import RandomForestRegressor\n",
    "\n",
    "# Assuming 'data' contains the features and labels (overall, Review_Interval_Days, Readability, Polarity)\n",
    "# X contains the features, y contains the labels\n",
    "\n",
    "\n",
    "y = sample_data['usefulScore'].values\n",
    "X = sample_data.drop(columns='usefulScore')\n",
    "\n",
    "#######数不需要归一化\n",
    "\n",
    "# Initialize the RandomForestRegressor\n",
    "rf_model = RandomForestRegressor(n_estimators=100, random_state=42)\n",
    "\n",
    "# Fit the model\n",
    "rf_model.fit(X, y)\n",
    "\n",
    "# Get feature importances\n",
    "feature_importances = rf_model.feature_importances_\n",
    "\n",
    "# Create a DataFrame with feature names and their importances\n",
    "importance_df = pd.DataFrame({'Feature': sample_data.columns.tolist().remove('usefulScore'),\n",
    "                              'Importance': feature_importances})\n",
    "\n",
    "\n",
    "# Create the heatmap\n",
    "plt.figure(figsize=(8, 6))\n",
    "heatmap_data = importance_df.set_index('Feature')['Importance'].sort_values(ascending=False).to_frame().T\n",
    "sns.heatmap(heatmap_data, cmap='viridis', annot=True, fmt='.3f')\n",
    "plt.title('Feature Importance Heatmap')\n",
    "plt.show()"
   ]
  },
  {
   "cell_type": "code",
   "execution_count": 199,
   "metadata": {},
   "outputs": [],
   "source": [
    "# 不用交叉验证，没必要，时间长，结果差不多\n",
    "import numpy as np\n",
    "from sklearn.model_selection import train_test_split\n",
    "from sklearn.ensemble import RandomForestClassifier\n",
    "from sklearn.model_selection import train_test_split\n",
    "from sklearn.metrics import accuracy_score, classification_report\n",
    "\n",
    "\n",
    "y = sample_data['usefulScore'].values\n",
    "X = sample_data.drop(columns='usefulScore')\n",
    "X_train, X_test, y_train, y_test = train_test_split(X, y, test_size=0.2, random_state=42)\n",
    "\n"
   ]
  },
  {
   "cell_type": "code",
   "execution_count": 194,
   "metadata": {},
   "outputs": [],
   "source": [
    "from keras.models import Sequential\n",
    "from keras.layers import Dense\n",
    "from sklearn.model_selection import cross_val_score\n",
    "threshold = 0.4"
   ]
  },
  {
   "cell_type": "code",
   "execution_count": 195,
   "metadata": {},
   "outputs": [
    {
     "data": {
      "text/plain": [
       "1.000000    5885\n",
       "0.000000    1331\n",
       "0.500000     868\n",
       "0.666667     386\n",
       "0.750000     296\n",
       "            ... \n",
       "0.642857       1\n",
       "0.958678       1\n",
       "0.074074       1\n",
       "0.964286       1\n",
       "0.545455       1\n",
       "Name: usefulScore, Length: 197, dtype: int64"
      ]
     },
     "execution_count": 195,
     "metadata": {},
     "output_type": "execute_result"
    }
   ],
   "source": [
    "#################处理样本不平衡\n",
    "\n",
    "from sklearn.utils import resample\n",
    "\n",
    "# 将数据分成特征 (X) 和目标 (y)\n",
    "# 替换成你的特征数据\n",
    "y = sample_data['usefulScore']  # 替换成你的目标数据\n",
    "\n",
    "y.value_counts()\n"
   ]
  },
  {
   "cell_type": "markdown",
   "metadata": {},
   "source": [
    "# 平衡样本"
   ]
  },
  {
   "cell_type": "code",
   "execution_count": 200,
   "metadata": {},
   "outputs": [],
   "source": [
    "\n",
    "# 将数据分成正例和负例\n",
    "positive_samples = sample_data[y > threshold]\n",
    "negative_samples = sample_data[y <= threshold]\n",
    "\n",
    "# 从负例中随机采样生成合成样本\n",
    "synthetic_samples = resample(negative_samples, n_samples=len(positive_samples), random_state=42)\n",
    "\n",
    "# 将正例和合成样本合并\n",
    "balanced_data = pd.concat([positive_samples, synthetic_samples])\n",
    "\n",
    "# balanced_data 包含了处理后的平衡数据，你可以将其用于训练模型\n",
    "X = balanced_data.drop(columns='usefulScore')\n",
    "y = balanced_data['usefulScore'].values\n",
    "\n",
    "X_train, X_test, y_train, y_test = train_test_split(X, y, test_size=0.2, random_state=42)\n",
    "\n",
    "y_train_binary = (y_train > threshold).astype(int)\n",
    "y_test_binary = (y_test > threshold).astype(int)"
   ]
  },
  {
   "cell_type": "code",
   "execution_count": 151,
   "metadata": {},
   "outputs": [
    {
     "data": {
      "text/plain": [
       "0.000000    7525\n",
       "1.000000    5885\n",
       "0.500000     868\n",
       "0.333333     475\n",
       "0.666667     386\n",
       "            ... \n",
       "0.837838       1\n",
       "0.972603       1\n",
       "0.828571       1\n",
       "0.926829       1\n",
       "0.074074       1\n",
       "Name: usefulScore, Length: 197, dtype: int64"
      ]
     },
     "execution_count": 151,
     "metadata": {},
     "output_type": "execute_result"
    }
   ],
   "source": [
    "balanced_data['usefulScore'].value_counts()"
   ]
  },
  {
   "cell_type": "code",
   "execution_count": 117,
   "metadata": {},
   "outputs": [
    {
     "name": "stdout",
     "output_type": "stream",
     "text": [
      "Cross-validated Accuracy: [0.93090775 0.93127527 0.92870268 0.92279412 0.92647059]\n",
      "Mean Accuracy: 0.9280300819335453\n",
      "Test Accuracy: 0.9482505145545428\n"
     ]
    }
   ],
   "source": [
    "\n",
    "##################随机森林\n",
    "\n",
    "##过拟合，减少树的数量\n",
    "\n",
    "rf_model = RandomForestClassifier(n_estimators=20, random_state=42)  #100->10\n",
    "\n",
    "# 使用交叉验证评估模型性能\n",
    "# cv 参数指定了将数据集分成几份进行交叉验证，这里使用了 5 折交叉验证\n",
    "# scoring 参数指定了评估指标，比如 'accuracy' 代表准确率\n",
    "scores = cross_val_score(rf_model, X_train, y_train_binary, cv=5, scoring='accuracy')\n",
    "rf_model.fit(X_train,y_train_binary)\n",
    "\n",
    "# 输出交叉验证的结果\n",
    "print(\"Cross-validated Accuracy:\", scores)\n",
    "print(\"Mean Accuracy:\", scores.mean())\n",
    "\n",
    "# 在测试集上评估模型性能\n",
    "accuracy = rf_model.score(X_test, y_test_binary)\n",
    "print(f'Test Accuracy: {accuracy}')"
   ]
  },
  {
   "cell_type": "code",
   "execution_count": 118,
   "metadata": {},
   "outputs": [
    {
     "data": {
      "text/plain": [
       "0.5092619817700677"
      ]
     },
     "execution_count": 118,
     "metadata": {},
     "output_type": "execute_result"
    }
   ],
   "source": [
    "y_test_binary.mean()"
   ]
  },
  {
   "cell_type": "code",
   "execution_count": 119,
   "metadata": {},
   "outputs": [
    {
     "name": "stdout",
     "output_type": "stream",
     "text": [
      "AUC Score: 0.9489846432085149\n",
      "0.6915277029991969\n"
     ]
    }
   ],
   "source": [
    "from sklearn.base import r2_score\n",
    "from sklearn.metrics import roc_auc_score\n",
    "# 使用 roc_auc_score 函数计算AUC\n",
    "y_pred = rf_model.predict(X_test)\n",
    "y_pred_binary = (rf_model.predict(X_test) > threshold).astype(int)\n",
    "auc_score = roc_auc_score(y_test_binary, y_pred_binary)\n",
    "\n",
    "print(f\"AUC Score: {auc_score}\")\n",
    "r2 = r2_score(y_test, y_pred)\n",
    "print(r2)"
   ]
  },
  {
   "cell_type": "markdown",
   "metadata": {},
   "source": [
    "# 每个变量"
   ]
  },
  {
   "cell_type": "code",
   "execution_count": 210,
   "metadata": {},
   "outputs": [
    {
     "data": {
      "text/plain": [
       "['AUC for overall: 0.5748202516476932 ',\n",
       " 'AUC for unixReviewTime: 0.6774357700604835 ',\n",
       " 'AUC for Review_Interval_Days: 0.6788791880743403 ',\n",
       " 'AUC for Readability_smog: 0.5709651407198513 ',\n",
       " 'AUC for Readability_flesch: 0.5767875897530985 ',\n",
       " 'AUC for Readability_Gunning: 0.6295303780250374 ',\n",
       " 'AUC for Readability_char_count: 0.6316819270573162 ',\n",
       " 'AUC for Word_Count: 0.5838367278881159 ',\n",
       " 'AUC for Polarity: 0.7584908264688098 ',\n",
       " 'AUC for Subjectivity: 0.7533163155877384 ']"
      ]
     },
     "execution_count": 210,
     "metadata": {},
     "output_type": "execute_result"
    }
   ],
   "source": [
    "\n",
    "\n",
    "# Assuming 'data' contains the features and labels (overall, Review_Interval_Days, Readability, Polarity)\n",
    "# X contains the features, y contains the labels\n",
    "features = sample_data.columns.tolist()\n",
    "features.remove('usefulScore')\n",
    "outcome = []\n",
    "threshold = 0.4\n",
    "\n",
    "for i in features:\n",
    "    X_train1 = X_train[[i]].values.reshape(-1, 1)  # Use the feature 'i'\n",
    "    X_test1 = X_test[[i]].values.reshape(-1, 1) \n",
    "\n",
    "    # Convert usefulScore to binary labels\n",
    "    y_train_binary = (y_train > threshold).astype(int)\n",
    "    # Train the model\n",
    "    rf_model.fit(X_train1, y_train_binary)\n",
    "    y_test_binary = (y_test > threshold).astype(int)\n",
    "    y_pred_binary = (rf_model.predict(X_test1) > threshold).astype(int)\n",
    "    y_pred = rf_model.predict(X_test1) \n",
    "\n",
    "    # Evaluate the model\n",
    "    accuracy = roc_auc_score(y_test_binary, y_pred_binary)\n",
    "    r2 = r2_score(y_test, y_pred)\n",
    "    outcome.append(f'AUC for {i}: {accuracy} ')\n",
    "outcome"
   ]
  }
 ],
 "metadata": {
  "kernelspec": {
   "display_name": "Python 3",
   "language": "python",
   "name": "python3"
  },
  "language_info": {
   "codemirror_mode": {
    "name": "ipython",
    "version": 3
   },
   "file_extension": ".py",
   "mimetype": "text/x-python",
   "name": "python",
   "nbconvert_exporter": "python",
   "pygments_lexer": "ipython3",
   "version": "3.9.13"
  }
 },
 "nbformat": 4,
 "nbformat_minor": 2
}
